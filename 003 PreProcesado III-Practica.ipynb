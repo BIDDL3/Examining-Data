{
 "cells": [
  {
   "cell_type": "markdown",
   "metadata": {},
   "source": [
    "<div class=\"alert alert-block alert-info\"><font size=\"5\"><center><b><u>Ingesta y Transformación Dataset con Python</u></b></center></font>\n",
    "    \n",
    "$%$       \n",
    "\\begin{align*}Alex\\:Kumenius\\end{align*}\n",
    "\\begin{align*}Business\\hspace{2mm}Intelligence\\hspace{2mm}and\\hspace{2mm}Data\\hspace{2mm}Scientist\\hspace{2mm}Project\\hspace{2mm}Integrator\\end{align*}\n",
    "$%$       \n",
    "\\begin{align*}Date : Desembre\\hspace{2mm},2020\\end{align*}</div>"
   ]
  },
  {
   "cell_type": "markdown",
   "metadata": {},
   "source": [
    "# <span style=color:darkblue>INGESTA Y TRANSFORMACIÓN DATASET</span>"
   ]
  },
  {
   "cell_type": "markdown",
   "metadata": {},
   "source": [
    "Se dedica una cantidad significativa de tiempo para la preparación del dato :\n",
    "\n",
    "1. Cargar / Ingesta,\n",
    "2. Limpiar,\n",
    "3. Transformar y\n",
    "4. Reorganizar\n",
    "\n",
    "Alrededor del 80% o más del tiempo de dedicación de un Data Scientist."
   ]
  },
  {
   "cell_type": "markdown",
   "metadata": {},
   "source": [
    "## <span style=color:green><ins>Configuración Entorno de Trabajo</ins></span>"
   ]
  },
  {
   "cell_type": "code",
   "execution_count": null,
   "metadata": {
    "ExecuteTime": {
     "end_time": "2020-10-25T00:14:02.469157Z",
     "start_time": "2020-10-25T00:14:01.924618Z"
    }
   },
   "outputs": [],
   "source": [
    "# Importamos librerias necesarias\n",
    "import os\n",
    "import pandas as pd\n",
    "import numpy as np\n",
    "import warnings\n",
    "\n",
    "warnings.filterwarnings('ignore')"
   ]
  },
  {
   "cell_type": "code",
   "execution_count": null,
   "metadata": {
    "ExecuteTime": {
     "end_time": "2020-10-25T00:14:04.420976Z",
     "start_time": "2020-10-25T00:14:04.415991Z"
    }
   },
   "outputs": [],
   "source": [
    "# Mostrar el directorio de trabajo\n",
    "print(os.getcwd())\n",
    "# os.getcwd()"
   ]
  },
  {
   "cell_type": "code",
   "execution_count": null,
   "metadata": {
    "ExecuteTime": {
     "end_time": "2020-10-25T00:14:18.106396Z",
     "start_time": "2020-10-25T00:14:18.102407Z"
    }
   },
   "outputs": [],
   "source": [
    "# Establecer nuevo directorio de trabajo a la carpeta Proyecto/Data/RawData\n",
    "\n",
    "RData = 'D:\\\\Documents\\\\EureCat\\\\Formacion\\\\Eurecat 2019\\\\Programa Formacion Violeta\\\\Projecto\\\\Data\\\\Rawdata'\n",
    "os.chdir(RData)"
   ]
  },
  {
   "cell_type": "code",
   "execution_count": null,
   "metadata": {
    "ExecuteTime": {
     "end_time": "2020-10-25T00:14:26.887904Z",
     "start_time": "2020-10-25T00:14:26.883914Z"
    }
   },
   "outputs": [],
   "source": [
    "# Verificamos el nuevo directorio de trabajo\n",
    "\n",
    "print(os.getcwd())"
   ]
  },
  {
   "cell_type": "code",
   "execution_count": null,
   "metadata": {
    "ExecuteTime": {
     "end_time": "2020-10-25T00:14:39.106227Z",
     "start_time": "2020-10-25T00:14:39.036413Z"
    }
   },
   "outputs": [],
   "source": [
    "# Mostrar archivos del directorio\n",
    "os.listdir(os.curdir)"
   ]
  },
  {
   "cell_type": "markdown",
   "metadata": {},
   "source": [
    "---"
   ]
  },
  {
   "cell_type": "markdown",
   "metadata": {},
   "source": [
    "## <span style=color:green><ins>Ingesta Fuentes de Datos</ins></span>"
   ]
  },
  {
   "cell_type": "markdown",
   "metadata": {},
   "source": [
    "[Baltimore Camera Data](https://data.baltimorecity.gov/Transportation/Baltimore-Fixed-Speed-Cameras/dz54-2aru)"
   ]
  },
  {
   "cell_type": "markdown",
   "metadata": {},
   "source": [
    "### <span style=color:blue> Con libreria urllib</ins></span>"
   ]
  },
  {
   "cell_type": "code",
   "execution_count": null,
   "metadata": {
    "ExecuteTime": {
     "end_time": "2020-10-25T00:15:27.179410Z",
     "start_time": "2020-10-25T00:15:27.175413Z"
    }
   },
   "outputs": [],
   "source": [
    "import urllib"
   ]
  },
  {
   "cell_type": "code",
   "execution_count": null,
   "metadata": {
    "ExecuteTime": {
     "end_time": "2020-10-25T00:15:30.610225Z",
     "start_time": "2020-10-25T00:15:30.606235Z"
    }
   },
   "outputs": [],
   "source": [
    "url = \"https://data.baltimorecity.gov/resource/dz54-2aru.csv\""
   ]
  },
  {
   "cell_type": "code",
   "execution_count": null,
   "metadata": {
    "ExecuteTime": {
     "end_time": "2020-10-25T00:15:33.926390Z",
     "start_time": "2020-10-25T00:15:33.232248Z"
    }
   },
   "outputs": [],
   "source": [
    "archivo = urllib.request.urlopen(url)"
   ]
  },
  {
   "cell_type": "code",
   "execution_count": null,
   "metadata": {
    "ExecuteTime": {
     "end_time": "2020-10-25T00:15:37.474937Z",
     "start_time": "2020-10-25T00:15:37.469952Z"
    }
   },
   "outputs": [],
   "source": [
    "descarga = archivo.read()"
   ]
  },
  {
   "cell_type": "code",
   "execution_count": null,
   "metadata": {
    "ExecuteTime": {
     "end_time": "2020-10-25T00:16:06.582373Z",
     "start_time": "2020-10-25T00:16:06.520539Z"
    }
   },
   "outputs": [],
   "source": [
    "with open('D:\\\\Documents\\\\EureCat\\\\Formacion\\\\Eurecat 2019\\\\Programa Formacion Violeta\\\\Projecto\\\\Data\\\\Rawdata\\\\baltimore_Alex.csv', 'wb') as f:\n",
    "    f.write(descarga)"
   ]
  },
  {
   "cell_type": "markdown",
   "metadata": {},
   "source": [
    "---"
   ]
  },
  {
   "cell_type": "markdown",
   "metadata": {},
   "source": [
    "### <span style=color:blue> Con libreria requests</ins></span>"
   ]
  },
  {
   "cell_type": "code",
   "execution_count": null,
   "metadata": {
    "ExecuteTime": {
     "end_time": "2020-10-25T00:16:35.435709Z",
     "start_time": "2020-10-25T00:16:35.316031Z"
    }
   },
   "outputs": [],
   "source": [
    "import requests\n",
    "# pip install requests"
   ]
  },
  {
   "cell_type": "code",
   "execution_count": null,
   "metadata": {},
   "outputs": [],
   "source": [
    "print('Inicio descarga de archivo con requests...')"
   ]
  },
  {
   "cell_type": "code",
   "execution_count": null,
   "metadata": {},
   "outputs": [],
   "source": [
    "url = 'https://data.baltimorecity.gov/api/views/dz54-2aru/rows.csv'"
   ]
  },
  {
   "cell_type": "code",
   "execution_count": null,
   "metadata": {},
   "outputs": [],
   "source": [
    "r = requests.get(url)"
   ]
  },
  {
   "cell_type": "code",
   "execution_count": null,
   "metadata": {},
   "outputs": [],
   "source": [
    "file = 'D:\\\\Documents\\\\EureCat\\\\Formacion\\\\Eurecat 2019\\\\Programa Formacion Violeta\\\\Projecto\\\\Data\\\\Rawdata\\\\baltimore_1.csv'"
   ]
  },
  {
   "cell_type": "code",
   "execution_count": null,
   "metadata": {},
   "outputs": [],
   "source": [
    "with open(file, 'wb') as f:\n",
    "    f.write(r.content)"
   ]
  },
  {
   "cell_type": "code",
   "execution_count": null,
   "metadata": {},
   "outputs": [],
   "source": [
    "# Podemos Extraemos HTTP meta-data\n",
    "print(r.status_code)"
   ]
  },
  {
   "cell_type": "code",
   "execution_count": null,
   "metadata": {},
   "outputs": [],
   "source": [
    "print(r.headers['content-type'])"
   ]
  },
  {
   "cell_type": "code",
   "execution_count": null,
   "metadata": {},
   "outputs": [],
   "source": [
    "print(r.encoding)"
   ]
  },
  {
   "cell_type": "code",
   "execution_count": null,
   "metadata": {},
   "outputs": [],
   "source": [
    "# Mostrar archivos del directorio\n",
    "os.listdir(os.curdir)"
   ]
  },
  {
   "cell_type": "markdown",
   "metadata": {},
   "source": [
    "---"
   ]
  },
  {
   "cell_type": "markdown",
   "metadata": {},
   "source": [
    "### <span style=color:blue> Con libreria wget</ins></span>"
   ]
  },
  {
   "cell_type": "code",
   "execution_count": null,
   "metadata": {},
   "outputs": [],
   "source": [
    "# instalamos la libreria 'wget'\n",
    "# !pip3 install wget"
   ]
  },
  {
   "cell_type": "code",
   "execution_count": null,
   "metadata": {},
   "outputs": [],
   "source": [
    "import wget"
   ]
  },
  {
   "cell_type": "code",
   "execution_count": null,
   "metadata": {},
   "outputs": [],
   "source": [
    "# apuntamos a la url para bajar archivo 'csv'\n",
    "url_csv = 'https://data.baltimorecity.gov/api/views/dz54-2aru/rows.csv'\n",
    "save_csv = 'D:\\\\Documents\\\\EureCat\\\\Formacion\\\\Eurecat 2019\\\\Programa Formacion Violeta\\\\Projecto\\\\Data\\\\Rawdata\\\\baltimore_3.csv'"
   ]
  },
  {
   "cell_type": "code",
   "execution_count": null,
   "metadata": {},
   "outputs": [],
   "source": [
    "# wget.download(url_csv, 'D:\\\\Documents\\\\EureCat\\\\Formacion\\\\Eurecat 2019\\\\Programa Formacion Violeta\\\\Projecto\\\\Data\\\\Rawdata\\\\baltimore_2.csv')\n",
    "wget.download(url_csv, save_csv)"
   ]
  },
  {
   "cell_type": "code",
   "execution_count": null,
   "metadata": {},
   "outputs": [],
   "source": [
    "# apuntamos a la url para bajar archivo 'json'\n",
    "url_json = 'https://data.baltimorecity.gov/api/views/dz54-2aru/rows.json'"
   ]
  },
  {
   "cell_type": "code",
   "execution_count": null,
   "metadata": {},
   "outputs": [],
   "source": [
    "wget.download(url_json, 'D:\\\\Documents\\\\EureCat\\\\Formacion\\\\Eurecat 2019\\\\Programa Formacion Violeta\\\\Projecto\\\\Data\\\\Rawdata\\\\baltimore.json')"
   ]
  },
  {
   "cell_type": "code",
   "execution_count": null,
   "metadata": {},
   "outputs": [],
   "source": [
    "url_html = 'https://data.baltimorecity.gov/api/views/dz54-2aru/rows.html'"
   ]
  },
  {
   "cell_type": "code",
   "execution_count": null,
   "metadata": {},
   "outputs": [],
   "source": [
    "wget.download(url_html, 'D:\\\\Documents\\\\EureCat\\\\Formacion\\\\Eurecat 2019\\\\Programa Formacion Violeta\\\\Projecto\\\\Data\\\\Rawdata\\\\baltimore.html')"
   ]
  },
  {
   "cell_type": "code",
   "execution_count": null,
   "metadata": {},
   "outputs": [],
   "source": [
    "# Mostrar archivos del directorio\n",
    "os.listdir(os.curdir)"
   ]
  },
  {
   "cell_type": "markdown",
   "metadata": {},
   "source": [
    "---"
   ]
  },
  {
   "cell_type": "markdown",
   "metadata": {},
   "source": [
    "# <span style=color:darkblue><ins>EXPLORACION Y TRANSFORMACIOM DATASET</ins></span>"
   ]
  },
  {
   "cell_type": "markdown",
   "metadata": {},
   "source": [
    "## <span style=color:green><ins>[Pandas' Input/Output](https://pandas.pydata.org/pandas-docs/version/0.22/api.html#input-output)</ins></span>"
   ]
  },
  {
   "cell_type": "code",
   "execution_count": null,
   "metadata": {
    "ExecuteTime": {
     "end_time": "2020-10-25T00:17:02.974256Z",
     "start_time": "2020-10-25T00:17:02.907433Z"
    }
   },
   "outputs": [],
   "source": [
    "# leemos el archivo del dataset \n",
    "Baltimore = pd.read_csv('D:\\\\Documents\\\\EureCat\\\\Formacion\\\\Eurecat 2019\\\\Programa Formacion Violeta\\\\Projecto\\\\Data\\\\Rawdata\\\\baltimore_1.csv', sep=',')"
   ]
  },
  {
   "cell_type": "code",
   "execution_count": null,
   "metadata": {
    "ExecuteTime": {
     "end_time": "2020-10-25T00:17:05.810229Z",
     "start_time": "2020-10-25T00:17:05.804246Z"
    }
   },
   "outputs": [],
   "source": [
    "# buscamos el tipo de estructura del dataset\n",
    "type(Baltimore)"
   ]
  },
  {
   "cell_type": "code",
   "execution_count": null,
   "metadata": {
    "ExecuteTime": {
     "end_time": "2020-10-25T00:17:16.017308Z",
     "start_time": "2020-10-25T00:17:16.011325Z"
    }
   },
   "outputs": [],
   "source": [
    "# miramos la dimensión del dataset\n",
    "Baltimore.shape"
   ]
  },
  {
   "cell_type": "code",
   "execution_count": null,
   "metadata": {
    "ExecuteTime": {
     "end_time": "2020-10-25T00:17:18.810486Z",
     "start_time": "2020-10-25T00:17:18.803505Z"
    }
   },
   "outputs": [],
   "source": [
    "# dimensión del dataset\n",
    "Baltimore.ndim"
   ]
  },
  {
   "cell_type": "code",
   "execution_count": null,
   "metadata": {
    "ExecuteTime": {
     "end_time": "2020-10-25T00:17:26.855965Z",
     "start_time": "2020-10-25T00:17:26.849983Z"
    }
   },
   "outputs": [],
   "source": [
    "# Verificamos las opciones de visualización del nº de columnas\n",
    "pd.get_option('display.max_columns')"
   ]
  },
  {
   "cell_type": "code",
   "execution_count": null,
   "metadata": {
    "ExecuteTime": {
     "end_time": "2020-10-25T00:17:26.855965Z",
     "start_time": "2020-10-25T00:17:26.849983Z"
    }
   },
   "outputs": [],
   "source": [
    "# Verificamos las opciones de visualización del nº de columnas\n",
    "pd.set_option('display.max_columns', None)"
   ]
  },
  {
   "cell_type": "code",
   "execution_count": null,
   "metadata": {
    "ExecuteTime": {
     "end_time": "2020-10-25T00:17:42.083355Z",
     "start_time": "2020-10-25T00:17:42.079365Z"
    }
   },
   "outputs": [],
   "source": [
    "# Si queremos visualizar todas las filas del data frame. Necesitamos configurar value como NONE \n",
    "# Code to set the property display.max_rows to None\n",
    "pd.set_option('display.max_rows', None)"
   ]
  },
  {
   "cell_type": "code",
   "execution_count": null,
   "metadata": {
    "ExecuteTime": {
     "end_time": "2020-10-25T00:17:48.848268Z",
     "start_time": "2020-10-25T00:17:48.843282Z"
    }
   },
   "outputs": [],
   "source": [
    "# configurar código para establecer display.max_rows a una linea/row mas que el total\n",
    "pd.set_option('display.max_rows', Baltimore.shape[0]+1)"
   ]
  },
  {
   "cell_type": "code",
   "execution_count": null,
   "metadata": {},
   "outputs": [],
   "source": [
    "Baltimore.shape[0]"
   ]
  },
  {
   "cell_type": "code",
   "execution_count": null,
   "metadata": {
    "ExecuteTime": {
     "end_time": "2020-10-25T00:17:51.569986Z",
     "start_time": "2020-10-25T00:17:51.565998Z"
    }
   },
   "outputs": [],
   "source": [
    "# Modificamos nº de columnas a visualizar\n",
    "pd.set_option('display.max_columns',8)"
   ]
  },
  {
   "cell_type": "code",
   "execution_count": null,
   "metadata": {
    "ExecuteTime": {
     "end_time": "2020-10-25T00:17:54.314652Z",
     "start_time": "2020-10-25T00:17:54.307672Z"
    }
   },
   "outputs": [],
   "source": [
    "# extraemos las variables del dataset ó nombre de las columnas\n",
    "Baltimore.columns"
   ]
  },
  {
   "cell_type": "code",
   "execution_count": null,
   "metadata": {
    "ExecuteTime": {
     "end_time": "2020-10-25T00:17:59.483866Z",
     "start_time": "2020-10-25T00:17:59.462924Z"
    }
   },
   "outputs": [],
   "source": [
    "# Visualizamos el dataset\n",
    "Baltimore.head()"
   ]
  },
  {
   "cell_type": "code",
   "execution_count": null,
   "metadata": {
    "ExecuteTime": {
     "end_time": "2020-10-25T00:18:01.366829Z",
     "start_time": "2020-10-25T00:18:01.358851Z"
    }
   },
   "outputs": [],
   "source": [
    "# Miramos el tipo de dato\n",
    "Baltimore.dtypes"
   ]
  },
  {
   "cell_type": "code",
   "execution_count": null,
   "metadata": {
    "ExecuteTime": {
     "end_time": "2020-01-31T10:21:54.322868Z",
     "start_time": "2020-01-31T10:21:54.313943Z"
    }
   },
   "outputs": [],
   "source": [
    "# Visualizamos el dataset de una forma mas resumida.info()\n",
    "Baltimore.info()"
   ]
  },
  {
   "cell_type": "code",
   "execution_count": null,
   "metadata": {
    "ExecuteTime": {
     "end_time": "2020-01-31T10:22:04.675344Z",
     "start_time": "2020-01-31T10:22:04.640128Z"
    }
   },
   "outputs": [],
   "source": [
    "Baltimore.describe().round(2)"
   ]
  },
  {
   "cell_type": "code",
   "execution_count": null,
   "metadata": {
    "ExecuteTime": {
     "end_time": "2020-10-25T00:18:07.276109Z",
     "start_time": "2020-10-25T00:18:07.232226Z"
    }
   },
   "outputs": [],
   "source": [
    "Baltimore.describe(include = \"all\")"
   ]
  },
  {
   "cell_type": "code",
   "execution_count": null,
   "metadata": {
    "ExecuteTime": {
     "end_time": "2020-10-25T00:18:16.224174Z",
     "start_time": "2020-10-25T00:18:16.200238Z"
    }
   },
   "outputs": [],
   "source": [
    "# Buscando Missing Values\n",
    "# verificando cuales son NaN (True) usando isnull\n",
    "# devuele un DataFrame de True's y False's\n",
    "Baltimore.isnull()\n",
    "# Baltimore.isnull().head()"
   ]
  },
  {
   "cell_type": "code",
   "execution_count": null,
   "metadata": {
    "ExecuteTime": {
     "end_time": "2020-10-25T00:18:20.541669Z",
     "start_time": "2020-10-25T00:18:20.532697Z"
    }
   },
   "outputs": [],
   "source": [
    "# Contamos el numero de Missing values en cada columna suma True's\n",
    "Baltimore.isnull().sum()"
   ]
  },
  {
   "cell_type": "code",
   "execution_count": null,
   "metadata": {
    "ExecuteTime": {
     "end_time": "2020-10-25T00:18:23.302328Z",
     "start_time": "2020-10-25T00:18:23.280385Z"
    }
   },
   "outputs": [],
   "source": [
    "# data.notnull().tail()\n",
    "# data.notnull()\n",
    "Baltimore.notnull().head()"
   ]
  },
  {
   "cell_type": "code",
   "execution_count": null,
   "metadata": {
    "ExecuteTime": {
     "end_time": "2020-01-31T00:41:13.342179Z",
     "start_time": "2020-01-31T00:41:13.333634Z"
    }
   },
   "outputs": [],
   "source": [
    "Baltimore.notnull().sum()"
   ]
  },
  {
   "cell_type": "markdown",
   "metadata": {},
   "source": [
    "# <span style=color:darkblue><ins>TIDY DATA - LIMPIAR EL DATO</ins></span>"
   ]
  },
  {
   "cell_type": "markdown",
   "metadata": {},
   "source": [
    "<span style=color:blue>Missing data / Falta de dato</span> es muy habitual en el proceso del Análisis del dato.\n",
    "\n",
    "La representación de <span style=color:blue>Missing Data</span> se determina, para datos numéricos, con el <span style=color:blue>valor float point <strong>NaN</strong></span> (Not a Number -- No un Numero). \n",
    "\n",
    "Lo llamamos <span style=color:blue><b>Valor Centinela - Sentinel Value</b></span> que puede ser facilmente detectado."
   ]
  },
  {
   "cell_type": "markdown",
   "metadata": {},
   "source": [
    "No referiremos a <span style=color:blue>Missing Data</span> como <span style=color:blue><b>NA</b></span>, que significa <span style=color:blue>No Disponible <b>(Not Available)</b></span>. \n",
    "\n",
    "En aplicaciones estádisticas, <span style=color:blue><b>NA</b> data</span> puede ser :\n",
    "\n",
    "- data que <b>no</b> <u>existe</u> o \n",
    "- que <u>existe</u> pero <b>no fue observada</b> ( <i>debido a problemas en la recopilación del dato</i> ).\n",
    "\n",
    "Cuando limpiamos los datos para su análisis, es importante <b>analizar las variables</b> que contengan <span style=color:blue><b>NA</b> values</span> para : \n",
    "\n",
    "- identificar problemas en la recopilación de datos, \n",
    "- identificar origen, \n",
    "- sesgos potenciales en el dato causados por <span style=color:blue><b>NA</b> values</span>,\n",
    "- ..."
   ]
  },
  {
   "cell_type": "code",
   "execution_count": null,
   "metadata": {
    "ExecuteTime": {
     "end_time": "2020-10-25T00:18:30.120168Z",
     "start_time": "2020-10-25T00:18:30.114186Z"
    }
   },
   "outputs": [],
   "source": [
    "dataS1 = ['zebra', 'alcachofa', np.nan, 'aguacate']\n",
    "type(dataS1)"
   ]
  },
  {
   "cell_type": "code",
   "execution_count": null,
   "metadata": {
    "ExecuteTime": {
     "end_time": "2020-10-25T00:18:32.935675Z",
     "start_time": "2020-10-25T00:18:32.929692Z"
    }
   },
   "outputs": [],
   "source": [
    "dataS1"
   ]
  },
  {
   "cell_type": "code",
   "execution_count": null,
   "metadata": {
    "ExecuteTime": {
     "end_time": "2020-10-25T00:18:40.214165Z",
     "start_time": "2020-10-25T00:18:40.207181Z"
    }
   },
   "outputs": [],
   "source": [
    "# Creamos y asignamos una Serie de valores a la variable dataS\n",
    "dataS = pd.Series(['zebra', 'alcachofa', np.nan, 'aguacate'])\n",
    "dataS"
   ]
  },
  {
   "cell_type": "code",
   "execution_count": null,
   "metadata": {
    "ExecuteTime": {
     "end_time": "2020-10-25T00:18:46.058611Z",
     "start_time": "2020-10-25T00:18:46.051632Z"
    }
   },
   "outputs": [],
   "source": [
    "dataS.isnull()"
   ]
  },
  {
   "cell_type": "markdown",
   "metadata": {},
   "source": [
    "<span style=color:darkred><b>None</b> values</span> tambien se tratan como <span style=color:blue><b>NA</b></span> en matrices (arrays) de objectos :"
   ]
  },
  {
   "cell_type": "code",
   "execution_count": null,
   "metadata": {
    "ExecuteTime": {
     "end_time": "2020-10-25T00:18:49.561282Z",
     "start_time": "2020-10-25T00:18:49.554305Z"
    }
   },
   "outputs": [],
   "source": [
    "dataS[2:4]"
   ]
  },
  {
   "cell_type": "code",
   "execution_count": null,
   "metadata": {
    "ExecuteTime": {
     "end_time": "2020-10-25T00:18:53.843838Z",
     "start_time": "2020-10-25T00:18:53.835860Z"
    }
   },
   "outputs": [],
   "source": [
    "dataS[0] = None\n",
    "dataS"
   ]
  },
  {
   "cell_type": "code",
   "execution_count": null,
   "metadata": {
    "ExecuteTime": {
     "end_time": "2020-01-31T00:08:51.000293Z",
     "start_time": "2020-01-31T00:08:50.993893Z"
    }
   },
   "outputs": [],
   "source": [
    "dataS.isnull()"
   ]
  },
  {
   "cell_type": "markdown",
   "metadata": {},
   "source": [
    "Otras funciones (methods) utilizados en la Gestion de Missing Data :\n",
    "\n",
    "- <span style=color:blue><b>dropna()</b></span> : Filter axis labels based on whether values for each label have missing data, with varying thresholds for how\n",
    "    much missing data to tolerate.\n",
    "- <span style=color:blue><b>fillna()</b></span> : Fill in missing data with some value or using an interpolation method such as 'ffill' or 'bfill'.\n",
    "- <span style=color:blue><b>isnull()</b></span>  : Return boolean values indicating which values are missing/NA.\n",
    "- <span style=color:blue><b>notnull()</b></span> : Negation of isnull."
   ]
  },
  {
   "cell_type": "markdown",
   "metadata": {},
   "source": [
    "## <span style=color:green><ins>Tratamiento Missing Data -- Filter Out Missing Data</ins></span>"
   ]
  },
  {
   "cell_type": "markdown",
   "metadata": {},
   "source": [
    "Existen varias manera de tratar con <span style=color:blue>NA data</span> :\n",
    "\n",
    "- Eliminar <span style=color:blue><b>NaN Values</b></span> en filas/rows o columnas/columns o,\n",
    "- Poblar o Imputar valores específicos en <span style=color:blue><b>Missing Data()</b></span>"
   ]
  },
  {
   "cell_type": "markdown",
   "metadata": {},
   "source": [
    "### <span style=color:darkred><ins>Método 1.- Eliminar Missing values - Series</ins></span>"
   ]
  },
  {
   "cell_type": "markdown",
   "metadata": {},
   "source": [
    "#### <span style=color:blue>dropna() method</span>"
   ]
  },
  {
   "cell_type": "markdown",
   "metadata": {},
   "source": [
    "Aplicar <span style=color:blue><b>dropna()</b></span> en <b>Series objects</b>, nos devolvera la Series con sólo los <span style=color:blue>non-null data</span> y <span style=color:blue>index values</span> :"
   ]
  },
  {
   "cell_type": "code",
   "execution_count": null,
   "metadata": {
    "ExecuteTime": {
     "end_time": "2020-10-25T00:19:06.054181Z",
     "start_time": "2020-10-25T00:19:06.049195Z"
    }
   },
   "outputs": [],
   "source": [
    "data = pd.Series([1, np.nan, 4, 75, 5, 7, np.nan])"
   ]
  },
  {
   "cell_type": "code",
   "execution_count": null,
   "metadata": {
    "ExecuteTime": {
     "end_time": "2020-10-25T00:19:08.535057Z",
     "start_time": "2020-10-25T00:19:08.528077Z"
    }
   },
   "outputs": [],
   "source": [
    "# Estructura / dimension de la Serie\n",
    "print('dimension de la Serie :', data.shape), print('Data Strucutre :', type(data))"
   ]
  },
  {
   "cell_type": "code",
   "execution_count": null,
   "metadata": {
    "ExecuteTime": {
     "end_time": "2020-10-25T00:19:11.456250Z",
     "start_time": "2020-10-25T00:19:11.450266Z"
    }
   },
   "outputs": [],
   "source": [
    "data.isnull()"
   ]
  },
  {
   "cell_type": "code",
   "execution_count": null,
   "metadata": {
    "ExecuteTime": {
     "end_time": "2020-10-25T00:19:13.966060Z",
     "start_time": "2020-10-25T00:19:13.958074Z"
    }
   },
   "outputs": [],
   "source": [
    "# Selecionar Valores Not Null, indexación Boleana\n",
    "data.notnull()"
   ]
  },
  {
   "cell_type": "code",
   "execution_count": null,
   "metadata": {
    "ExecuteTime": {
     "end_time": "2020-10-25T00:19:16.230516Z",
     "start_time": "2020-10-25T00:19:16.222538Z"
    }
   },
   "outputs": [],
   "source": [
    "# Selecionar Valores Not Null, mostrando valores.\n",
    "# Podemos crear, por asignacion de variables, a una nueva Serie\n",
    "Missing_Value = data[data.isnull()]"
   ]
  },
  {
   "cell_type": "code",
   "execution_count": null,
   "metadata": {},
   "outputs": [],
   "source": [
    "Missing_Value"
   ]
  },
  {
   "cell_type": "code",
   "execution_count": null,
   "metadata": {
    "ExecuteTime": {
     "end_time": "2020-02-03T12:21:37.974026Z",
     "start_time": "2020-02-03T12:21:37.966586Z"
    }
   },
   "outputs": [],
   "source": [
    "# o Eliminamos utilizando dropna()\n",
    "data.dropna()"
   ]
  },
  {
   "cell_type": "markdown",
   "metadata": {},
   "source": [
    "### <span style=color:darkred><ins>Método 1.- Eliminar Missing values - DataFrame</ins></span>"
   ]
  },
  {
   "cell_type": "markdown",
   "metadata": {},
   "source": [
    "#### <span style=color:blue>dropna() method</span>"
   ]
  },
  {
   "cell_type": "markdown",
   "metadata": {},
   "source": [
    "Aplicar <span style=color:blue><b>dropna()</b></span> en <b>Dataframes objects</b>, podemos decidir eliminar filas/rows o columnas/columns que :\n",
    "\n",
    "- todos sus valores son NA o,\n",
    "- solo esas filas o columnas que contengan algun NA.\n",
    "\n",
    "nos devolvera sólo los <span style=color:blue>non-null data</span> e <span style=color:blue>index values</span>."
   ]
  },
  {
   "cell_type": "code",
   "execution_count": null,
   "metadata": {
    "ExecuteTime": {
     "end_time": "2020-01-31T10:35:05.524312Z",
     "start_time": "2020-01-31T10:35:05.510915Z"
    }
   },
   "outputs": [],
   "source": [
    "# creamos un DataFrame\n",
    "data = pd.DataFrame([[2, 8,3, 4.5], [1., np.nan, np.nan],\n",
    "                   [np.nan, np.nan, np.nan], [np.nan, 5.9, 3]])\n",
    "data"
   ]
  },
  {
   "cell_type": "markdown",
   "metadata": {
    "ExecuteTime": {
     "end_time": "2020-01-31T10:12:00.723202Z",
     "start_time": "2020-01-31T10:12:00.717746Z"
    }
   },
   "source": [
    "<span style=color:blue><b>dropna()</b></span> elimina, por defecto, cualquier <span style=color:blue>fila/row</span> que contenga los <span style=color:red>Null o Nan values</span> :"
   ]
  },
  {
   "cell_type": "code",
   "execution_count": null,
   "metadata": {
    "ExecuteTime": {
     "end_time": "2020-01-31T09:59:12.946462Z",
     "start_time": "2020-01-31T09:59:12.931085Z"
    }
   },
   "outputs": [],
   "source": [
    "# Eliminamos fila/row que contengan Nan values :\n",
    "cleaned = data.dropna()\n",
    "cleaned"
   ]
  },
  {
   "cell_type": "markdown",
   "metadata": {},
   "source": [
    "Otra sintaxis equivalente, incluyendo el parametro <span style=color:darkred><u>how = <b>'any'</b></u></span>, <u>valor por defecto</u> en el método <span style=color:blue>dropna()</span> :"
   ]
  },
  {
   "cell_type": "code",
   "execution_count": null,
   "metadata": {
    "ExecuteTime": {
     "end_time": "2020-01-31T09:59:24.046005Z",
     "start_time": "2020-01-31T09:59:24.032612Z"
    }
   },
   "outputs": [],
   "source": [
    "# eliminamos Missing values\n",
    "# how='any' es el default\n",
    "data.dropna(axis = 0, how='any')"
   ]
  },
  {
   "cell_type": "code",
   "execution_count": null,
   "metadata": {},
   "outputs": [],
   "source": [
    "data"
   ]
  },
  {
   "cell_type": "markdown",
   "metadata": {},
   "source": [
    "Si modificamos el parametro por defecto a <span style=color:darkred><u>how = <b>'all'</b></u></span>, en el método <span style=color:blue>dropna()</span>, eliminaremos <b>SOLO</b> aquellas <span style=color:blue>filas/rows</span> que son todas <span style=color:red>NA values</span> :"
   ]
  },
  {
   "cell_type": "code",
   "execution_count": null,
   "metadata": {
    "ExecuteTime": {
     "end_time": "2020-01-31T10:27:26.845574Z",
     "start_time": "2020-01-31T10:27:26.829205Z"
    }
   },
   "outputs": [],
   "source": [
    "# Eliminamos filas si todos sus valores son missing values\n",
    "data_Final = data.dropna(how = 'all')"
   ]
  },
  {
   "cell_type": "code",
   "execution_count": null,
   "metadata": {},
   "outputs": [],
   "source": [
    "data_Final"
   ]
  },
  {
   "cell_type": "markdown",
   "metadata": {},
   "source": [
    "De la misma manera, podemos eliminar <b>columnas</b> con valores NA, <i>totales o parciales</i>, utilizando el parametro <span style=color:darkred><b>axis = 1</b></span>"
   ]
  },
  {
   "cell_type": "code",
   "execution_count": null,
   "metadata": {
    "ExecuteTime": {
     "end_time": "2020-01-31T11:13:09.598285Z",
     "start_time": "2020-01-31T11:13:09.582412Z"
    }
   },
   "outputs": [],
   "source": [
    "# Añadimos una 4ª columna con todos sus valores NA.\n",
    "data[4] = np.nan\n",
    "# data['Col 4']\n",
    "# del data['Col 4']"
   ]
  },
  {
   "cell_type": "code",
   "execution_count": null,
   "metadata": {
    "ExecuteTime": {
     "end_time": "2020-01-31T11:13:12.757547Z",
     "start_time": "2020-01-31T11:13:12.742137Z"
    }
   },
   "outputs": [],
   "source": [
    "data.dropna(axis = 1, how = 'all')"
   ]
  },
  {
   "cell_type": "code",
   "execution_count": null,
   "metadata": {},
   "outputs": [],
   "source": [
    "data"
   ]
  },
  {
   "cell_type": "markdown",
   "metadata": {},
   "source": [
    "Supongamos que queremos solamente mantener filas/rows que contengan un cierto número de Observaciones. Podemos realizarlo con el argumento ``thresh``:"
   ]
  },
  {
   "cell_type": "code",
   "execution_count": null,
   "metadata": {
    "ExecuteTime": {
     "end_time": "2020-01-31T11:18:29.748203Z",
     "start_time": "2020-01-31T11:18:29.734810Z"
    }
   },
   "outputs": [],
   "source": [
    "data_1 = pd.DataFrame(np.random.randn(7, 3))\n",
    "data_1"
   ]
  },
  {
   "cell_type": "code",
   "execution_count": null,
   "metadata": {},
   "outputs": [],
   "source": [
    "data_1.iloc[:4, 1]"
   ]
  },
  {
   "cell_type": "code",
   "execution_count": null,
   "metadata": {
    "ExecuteTime": {
     "end_time": "2020-01-31T11:19:25.896548Z",
     "start_time": "2020-01-31T11:19:25.892117Z"
    }
   },
   "outputs": [],
   "source": [
    "data_1.iloc[:4, 1] = np.nan"
   ]
  },
  {
   "cell_type": "code",
   "execution_count": null,
   "metadata": {},
   "outputs": [],
   "source": [
    "data_1.iloc[:4, 1]"
   ]
  },
  {
   "cell_type": "code",
   "execution_count": null,
   "metadata": {},
   "outputs": [],
   "source": [
    "data_1"
   ]
  },
  {
   "cell_type": "code",
   "execution_count": null,
   "metadata": {
    "ExecuteTime": {
     "end_time": "2020-01-31T11:19:50.694343Z",
     "start_time": "2020-01-31T11:19:50.689351Z"
    }
   },
   "outputs": [],
   "source": [
    "data_1.iloc[:2, 2] = np.nan"
   ]
  },
  {
   "cell_type": "code",
   "execution_count": null,
   "metadata": {
    "ExecuteTime": {
     "end_time": "2020-01-31T11:19:56.776715Z",
     "start_time": "2020-01-31T11:19:56.765307Z"
    }
   },
   "outputs": [],
   "source": [
    "data_1"
   ]
  },
  {
   "cell_type": "markdown",
   "metadata": {},
   "source": [
    "<span style=color:red>Utilizar condiciones de eliminación si ciertos criterios se cumplen :</span>"
   ]
  },
  {
   "cell_type": "code",
   "execution_count": null,
   "metadata": {},
   "outputs": [],
   "source": [
    "data_1"
   ]
  },
  {
   "cell_type": "code",
   "execution_count": null,
   "metadata": {
    "ExecuteTime": {
     "end_time": "2020-10-25T00:20:22.554930Z",
     "start_time": "2020-10-25T00:20:22.544952Z"
    }
   },
   "outputs": [],
   "source": [
    "# Eliminamos filas si ambas columnas 0 y 1 son NA values\n",
    "\n",
    "data_1.dropna(subset=[0, 1], how='all')"
   ]
  },
  {
   "cell_type": "code",
   "execution_count": null,
   "metadata": {
    "ExecuteTime": {
     "end_time": "2020-10-25T00:20:22.554930Z",
     "start_time": "2020-10-25T00:20:22.544952Z"
    }
   },
   "outputs": [],
   "source": [
    "# Eliminamos filas si ambos street y crossStreet son NA values\n",
    "\n",
    "Baltimore.dropna(subset=['street', 'crossStreet'], how='all').shape"
   ]
  },
  {
   "cell_type": "markdown",
   "metadata": {},
   "source": [
    "Podemos eliminar todos los NA values directamente en el DataFrame original, sin necesidad de crear un nuevo objecto, a traves de asignación de variables, introduciendo el parametro <span style=color:darkred>inplace =</span> <span style=color:green><b>True</b></span>"
   ]
  },
  {
   "cell_type": "code",
   "execution_count": null,
   "metadata": {
    "ExecuteTime": {
     "end_time": "2020-01-31T10:33:34.472335Z",
     "start_time": "2020-01-31T10:33:34.459938Z"
    }
   },
   "outputs": [],
   "source": [
    "# DataFrame original\n",
    "data_1"
   ]
  },
  {
   "cell_type": "code",
   "execution_count": null,
   "metadata": {
    "ExecuteTime": {
     "end_time": "2020-01-31T10:35:16.519995Z",
     "start_time": "2020-01-31T10:35:16.513050Z"
    }
   },
   "outputs": [],
   "source": [
    "# eliminamos Missing values directamente en origen, sin asignación de variable.\n",
    "data_1.dropna(how='all', inplace=True)"
   ]
  },
  {
   "cell_type": "code",
   "execution_count": null,
   "metadata": {},
   "outputs": [],
   "source": [
    "data_1"
   ]
  },
  {
   "cell_type": "markdown",
   "metadata": {},
   "source": [
    "### <span style=color:darkred><ins>Método 2.- Poblar o Imputar Missing values</ins></span>"
   ]
  },
  {
   "cell_type": "markdown",
   "metadata": {},
   "source": [
    "En lugar de <span style=color:blue>eliminar los <b>NaN</b> values</span>, y <span style=color:red>potencialmente descartar</span> al mismo tiemo otros <span style=color:blue><u>datos relevantes</u> para el <b>análisis</b></span>. Podemos <span style=color:blue><b><i>\"Poblarlos o Imputarles\"</i></b></span> nuevos valores."
   ]
  },
  {
   "cell_type": "code",
   "execution_count": null,
   "metadata": {
    "ExecuteTime": {
     "end_time": "2020-10-25T00:20:30.747337Z",
     "start_time": "2020-10-25T00:20:30.742352Z"
    }
   },
   "outputs": [],
   "source": [
    "data_2 = pd.DataFrame(np.random.randn(7, 3))"
   ]
  },
  {
   "cell_type": "code",
   "execution_count": null,
   "metadata": {
    "ExecuteTime": {
     "end_time": "2020-02-01T00:17:42.594454Z",
     "start_time": "2020-02-01T00:17:42.590021Z"
    }
   },
   "outputs": [],
   "source": [
    "data_2.iloc[:4, 1] = np.nan"
   ]
  },
  {
   "cell_type": "code",
   "execution_count": null,
   "metadata": {
    "ExecuteTime": {
     "end_time": "2020-02-01T00:17:46.327075Z",
     "start_time": "2020-02-01T00:17:46.322610Z"
    }
   },
   "outputs": [],
   "source": [
    "data_2.iloc[:2, 2] = np.nan"
   ]
  },
  {
   "cell_type": "code",
   "execution_count": null,
   "metadata": {
    "ExecuteTime": {
     "end_time": "2020-02-01T00:18:21.797788Z",
     "start_time": "2020-02-01T00:18:21.784892Z"
    }
   },
   "outputs": [],
   "source": [
    "data_2"
   ]
  },
  {
   "cell_type": "markdown",
   "metadata": {},
   "source": [
    "#### <span style=color:blue>fillna() method</span>"
   ]
  },
  {
   "cell_type": "markdown",
   "metadata": {},
   "source": [
    "Utilizamos el método <span style=color:blue>fillna()</span> con una <b>constante</b> que sustituira <span style=color:blue>NaN/Null values</span> por el valor de la constante :"
   ]
  },
  {
   "cell_type": "code",
   "execution_count": null,
   "metadata": {
    "ExecuteTime": {
     "end_time": "2020-02-01T00:22:39.182182Z",
     "start_time": "2020-02-01T00:22:39.169748Z"
    }
   },
   "outputs": [],
   "source": [
    "data_2.fillna(0)"
   ]
  },
  {
   "cell_type": "code",
   "execution_count": null,
   "metadata": {},
   "outputs": [],
   "source": [
    "data_2"
   ]
  },
  {
   "cell_type": "markdown",
   "metadata": {},
   "source": [
    "Podemos utilizar <span style=color:blue>fillna()</span> con un diccionario ``dict``, usando diferentes valores para poblar cada columna :"
   ]
  },
  {
   "cell_type": "code",
   "execution_count": null,
   "metadata": {
    "ExecuteTime": {
     "end_time": "2020-02-01T00:26:05.603153Z",
     "start_time": "2020-02-01T00:26:05.590221Z"
    }
   },
   "outputs": [],
   "source": [
    "data_2.fillna({1 : 0.74, 2 : 0.11})"
   ]
  },
  {
   "cell_type": "code",
   "execution_count": null,
   "metadata": {},
   "outputs": [],
   "source": [
    "data_1"
   ]
  },
  {
   "cell_type": "code",
   "execution_count": null,
   "metadata": {},
   "outputs": [],
   "source": [
    "data_1[1].fillna(value = 'VARIOUS')"
   ]
  },
  {
   "cell_type": "code",
   "execution_count": null,
   "metadata": {},
   "outputs": [],
   "source": [
    "data_1.isnull().sum()"
   ]
  },
  {
   "cell_type": "code",
   "execution_count": null,
   "metadata": {},
   "outputs": [],
   "source": [
    "# Contar valores de repeticion de una variables\n",
    "Baltimore['street'].value_counts(dropna=False).head()"
   ]
  },
  {
   "cell_type": "code",
   "execution_count": null,
   "metadata": {},
   "outputs": [],
   "source": [
    "# Verificación de Mising Values\n",
    "# Baltimore['street'].isnull().sum()\n",
    "Baltimore.isnull().sum()"
   ]
  },
  {
   "cell_type": "code",
   "execution_count": null,
   "metadata": {},
   "outputs": [],
   "source": [
    "# Ejemplo fill in NA values with strings. \n",
    "# Ojo este dataset esta limpio / Curado, no hay NaN, efectua los cambios en el dataset\n",
    "Baltimore['street'].fillna(value='VARIOUS', inplace=False).head()"
   ]
  },
  {
   "cell_type": "code",
   "execution_count": null,
   "metadata": {},
   "outputs": [],
   "source": [
    "Baltimore['street'].value_counts(dropna=True).head()"
   ]
  },
  {
   "cell_type": "markdown",
   "metadata": {},
   "source": [
    "El mismo método de imputación, <i>obtención de nuevos valores partiendo del conocimiento de un conjunto de valores</i>, se puede usar para reindexar, utilizando <span style=color:blue>fillna()</span>."
   ]
  },
  {
   "cell_type": "code",
   "execution_count": null,
   "metadata": {
    "ExecuteTime": {
     "end_time": "2020-02-01T00:45:19.738298Z",
     "start_time": "2020-02-01T00:45:19.724905Z"
    }
   },
   "outputs": [],
   "source": [
    "data = pd.DataFrame(np.random.randn(6, 3))\n",
    "data"
   ]
  },
  {
   "cell_type": "code",
   "execution_count": null,
   "metadata": {
    "ExecuteTime": {
     "end_time": "2020-02-01T00:45:22.972871Z",
     "start_time": "2020-02-01T00:45:22.968906Z"
    }
   },
   "outputs": [],
   "source": [
    "data.iloc[2 : 4, 1] = np.nan"
   ]
  },
  {
   "cell_type": "code",
   "execution_count": null,
   "metadata": {
    "ExecuteTime": {
     "end_time": "2020-02-01T00:45:45.974218Z",
     "start_time": "2020-02-01T00:45:45.970215Z"
    }
   },
   "outputs": [],
   "source": [
    "data.iloc[3 : , 2] = np.nan"
   ]
  },
  {
   "cell_type": "code",
   "execution_count": null,
   "metadata": {
    "ExecuteTime": {
     "end_time": "2020-02-01T00:45:46.831634Z",
     "start_time": "2020-02-01T00:45:46.818736Z"
    }
   },
   "outputs": [],
   "source": [
    "data"
   ]
  },
  {
   "cell_type": "markdown",
   "metadata": {},
   "source": [
    "el argumento ``ffill``, propagará la última observación válida hacia adelante hasta la siguiente observación válida."
   ]
  },
  {
   "cell_type": "code",
   "execution_count": null,
   "metadata": {
    "ExecuteTime": {
     "end_time": "2020-02-01T00:45:53.168833Z",
     "start_time": "2020-02-01T00:45:53.155904Z"
    }
   },
   "outputs": [],
   "source": [
    "data.fillna(method='ffill')"
   ]
  },
  {
   "cell_type": "markdown",
   "metadata": {},
   "source": [
    "el valor entero del argumento ``limit``, es el número máximo de valores <span style=color:blue><b>NaN</b></span> consecutivos para la <span style=color:blue>propagacion</span> hacia ``adelante`` o hacia ``atrás``."
   ]
  },
  {
   "cell_type": "code",
   "execution_count": null,
   "metadata": {
    "ExecuteTime": {
     "end_time": "2020-02-01T00:52:23.505114Z",
     "start_time": "2020-02-01T00:52:23.493211Z"
    }
   },
   "outputs": [],
   "source": [
    "data.fillna(method = 'ffill', limit = 1)"
   ]
  },
  {
   "cell_type": "code",
   "execution_count": null,
   "metadata": {
    "ExecuteTime": {
     "end_time": "2020-02-01T00:52:55.537182Z",
     "start_time": "2020-02-01T00:52:55.512416Z"
    }
   },
   "outputs": [],
   "source": [
    "# Mostrando el resumen estadístico\n",
    "data.describe()"
   ]
  },
  {
   "cell_type": "markdown",
   "metadata": {},
   "source": [
    "Podemos <span style=color:blue><b>imputar</b></span> los valores ``medios/mean`` ó ``medianas/median`` tanto a <b>Series</b> como <b>DataFrame</b>:"
   ]
  },
  {
   "cell_type": "code",
   "execution_count": null,
   "metadata": {},
   "outputs": [],
   "source": [
    "data"
   ]
  },
  {
   "cell_type": "code",
   "execution_count": null,
   "metadata": {
    "ExecuteTime": {
     "end_time": "2020-02-01T00:53:19.340454Z",
     "start_time": "2020-02-01T00:53:19.326032Z"
    }
   },
   "outputs": [],
   "source": [
    "# Imputamos las medias de cada columna.\n",
    "data.fillna(data.mean())"
   ]
  },
  {
   "cell_type": "code",
   "execution_count": null,
   "metadata": {
    "ExecuteTime": {
     "end_time": "2020-02-01T00:59:19.797283Z",
     "start_time": "2020-02-01T00:59:19.789348Z"
    }
   },
   "outputs": [],
   "source": [
    "data = pd.Series([2.2, np.nan, 4.3, np.nan, 6])\n",
    "data"
   ]
  },
  {
   "cell_type": "code",
   "execution_count": null,
   "metadata": {
    "ExecuteTime": {
     "end_time": "2020-02-01T00:59:37.014737Z",
     "start_time": "2020-02-01T00:59:37.009269Z"
    }
   },
   "outputs": [],
   "source": [
    "# Cual es la 'mediana' de la Serie \n",
    "data.median()"
   ]
  },
  {
   "cell_type": "code",
   "execution_count": null,
   "metadata": {
    "ExecuteTime": {
     "end_time": "2020-02-01T00:59:44.524504Z",
     "start_time": "2020-02-01T00:59:44.515610Z"
    }
   },
   "outputs": [],
   "source": [
    "data.fillna(data.median())"
   ]
  },
  {
   "cell_type": "markdown",
   "metadata": {},
   "source": [
    "---"
   ]
  },
  {
   "cell_type": "markdown",
   "metadata": {},
   "source": [
    "# <span style=color:darkblue><ins>DATA TRANSFORMATION / TRANSFORMACIÓN DEL DATO</ins></span>"
   ]
  },
  {
   "cell_type": "markdown",
   "metadata": {},
   "source": [
    "Data transformation, es otro tipo importante de operaciones en el procesado del Dato : "
   ]
  },
  {
   "cell_type": "markdown",
   "metadata": {},
   "source": [
    "## <span style=color:green><ins>Eliminar Duplicados / Removing Duplicates</ins></span>"
   ]
  },
  {
   "cell_type": "markdown",
   "metadata": {},
   "source": [
    "### <span style=color:blue>duplicated() method</span>"
   ]
  },
  {
   "cell_type": "markdown",
   "metadata": {},
   "source": [
    "Podemos encontrar <span style=color:blue>filas duplicadas</span> en un DataFrame por muchas razones :"
   ]
  },
  {
   "cell_type": "code",
   "execution_count": null,
   "metadata": {
    "ExecuteTime": {
     "end_time": "2020-02-01T01:23:08.279411Z",
     "start_time": "2020-02-01T01:23:08.261518Z"
    }
   },
   "outputs": [],
   "source": [
    "data = pd.DataFrame({'A' : ['uno', 'dos'] * 3 + ['dos'],\n",
    "                    'B' : [1, 1, 2, 3, 4, 4, 4]})\n",
    "data"
   ]
  },
  {
   "cell_type": "markdown",
   "metadata": {},
   "source": [
    "El método de DataFrame <span style=color:blue><b>duplicated()</b></span> devuelve una <span style=color:blue>Serie boleana</span> indicando si cada fila ``es un duplicado`` o ``no``, según se haya observado en la fila previa :"
   ]
  },
  {
   "cell_type": "code",
   "execution_count": null,
   "metadata": {
    "ExecuteTime": {
     "end_time": "2020-02-01T01:31:15.114322Z",
     "start_time": "2020-02-01T01:31:15.107413Z"
    },
    "scrolled": true
   },
   "outputs": [],
   "source": [
    "data.duplicated()"
   ]
  },
  {
   "cell_type": "markdown",
   "metadata": {},
   "source": [
    "### <span style=color:blue>drop_duplicates() method</span>"
   ]
  },
  {
   "cell_type": "markdown",
   "metadata": {},
   "source": [
    "El método <span style=color:blue>drop_duplicates()</span> devuelve un DataFrame donde el valor de <span style=color:blue>duplicated</span> sea <span style=color:green>False</span> :"
   ]
  },
  {
   "cell_type": "code",
   "execution_count": null,
   "metadata": {
    "ExecuteTime": {
     "end_time": "2020-02-01T01:39:04.604712Z",
     "start_time": "2020-02-01T01:39:04.590824Z"
    }
   },
   "outputs": [],
   "source": [
    "data.drop_duplicates()"
   ]
  },
  {
   "cell_type": "markdown",
   "metadata": {},
   "source": [
    "Ambos métodos consideran todas las columnas por defecto; pero podemos especificar un ``subset`` especifico para detectar ``duplicados``."
   ]
  },
  {
   "cell_type": "code",
   "execution_count": null,
   "metadata": {
    "ExecuteTime": {
     "end_time": "2020-02-01T01:42:43.123465Z",
     "start_time": "2020-02-01T01:42:43.110572Z"
    }
   },
   "outputs": [],
   "source": [
    "data['C'] = range(7)\n",
    "data"
   ]
  },
  {
   "cell_type": "code",
   "execution_count": null,
   "metadata": {
    "ExecuteTime": {
     "end_time": "2020-02-01T01:43:30.518160Z",
     "start_time": "2020-02-01T01:43:30.505761Z"
    },
    "scrolled": true
   },
   "outputs": [],
   "source": [
    "data.drop_duplicates(['A'])"
   ]
  },
  {
   "cell_type": "markdown",
   "metadata": {},
   "source": [
    "<span style=color:blue>duplicated()</span> y <span style=color:blue>drop_duplicates()</span> por defecto, mantienen la primera combinación de valores observados. Utilizando el argumento <span styel=color:darkred>keep = 'last'</span> mantendra el ultimo valor."
   ]
  },
  {
   "cell_type": "code",
   "execution_count": null,
   "metadata": {
    "ExecuteTime": {
     "end_time": "2020-02-01T01:49:46.199928Z",
     "start_time": "2020-02-01T01:49:46.185544Z"
    }
   },
   "outputs": [],
   "source": [
    "# Observar y comparar la numeración de los indices - indexes\n",
    "data.drop_duplicates(['A', 'B'], keep = 'last')"
   ]
  },
  {
   "cell_type": "markdown",
   "metadata": {},
   "source": [
    "## <span style=color:green><ins>Transformando Datos Utilizando una Función o Mapear</ins></span>"
   ]
  },
  {
   "cell_type": "markdown",
   "metadata": {},
   "source": [
    "En un posible escenario, tengamosque realizar alguna transformación basada en los valores en una matriz/array, serie o columna en un DataFrame."
   ]
  },
  {
   "cell_type": "code",
   "execution_count": null,
   "metadata": {
    "ExecuteTime": {
     "end_time": "2020-10-25T00:22:15.475226Z",
     "start_time": "2020-10-25T00:22:15.460265Z"
    }
   },
   "outputs": [],
   "source": [
    "data = pd.DataFrame({'alimento' : ['bacon', 'carne Mechada', 'bacon',\n",
    "                                  'alitas', 'Bistec', 'Bacon','pechuga',\n",
    "                                  'Cocochas','entrecot'],\n",
    "                    'gramos' : [200, 450, 150, 600, 379, 80, 200, 500, 400]})\n",
    "data"
   ]
  },
  {
   "cell_type": "markdown",
   "metadata": {},
   "source": [
    "Queremos añadir una columna que indique el tipo de animal de procedencia. \n",
    "\n",
    "Mapearemos cada alimento distinto al tipo de animal de procedencia."
   ]
  },
  {
   "cell_type": "code",
   "execution_count": null,
   "metadata": {
    "ExecuteTime": {
     "end_time": "2020-10-25T00:22:20.222524Z",
     "start_time": "2020-10-25T00:22:20.214548Z"
    }
   },
   "outputs": [],
   "source": [
    "procedencia_animal = {'bacon' : 'cerdo',\n",
    "                      'carne mechada' : 'cerdo',\n",
    "                      'alitas' : 'pollo',\n",
    "                      'bistec' : 'vaca',\n",
    "                      'pechuga' : 'pavo',\n",
    "                      'cocochas' :'bacalao',\n",
    "                      'entrecot' : 'vaca'}\n",
    "procedencia_animal"
   ]
  },
  {
   "cell_type": "markdown",
   "metadata": {},
   "source": [
    "### <span style=color:blue>map() method</span>"
   ]
  },
  {
   "cell_type": "markdown",
   "metadata": {},
   "source": [
    "El método de mapeo <span style=color:blue><b>map()</b></span> en una <b>Serie</b> acepta una ``función`` u objeto tipo ``dict`` que contiene un mapeo.\n",
    "\n",
    "Sin embargo, tenemos un pequeño problema, algunos de los caracteres de los valores de <span style=color:blue>alimentos</span> estan en ``mayúsculas`` y otros no.\n",
    "\n",
    "Tenemos que convertir cada valor a ``minúsculas`` utilizando el método para ``Series`` <span style=color:blue><b>str.lower()</b></span> :"
   ]
  },
  {
   "cell_type": "code",
   "execution_count": null,
   "metadata": {
    "ExecuteTime": {
     "end_time": "2020-10-25T00:23:07.437805Z",
     "start_time": "2020-10-25T00:23:07.425839Z"
    }
   },
   "outputs": [],
   "source": [
    "data"
   ]
  },
  {
   "cell_type": "code",
   "execution_count": null,
   "metadata": {
    "ExecuteTime": {
     "end_time": "2020-10-25T00:23:10.390911Z",
     "start_time": "2020-10-25T00:23:10.382932Z"
    }
   },
   "outputs": [],
   "source": [
    "minusculas = data['alimento'].str.lower()\n",
    "minusculas"
   ]
  },
  {
   "cell_type": "code",
   "execution_count": null,
   "metadata": {
    "ExecuteTime": {
     "end_time": "2020-10-25T00:23:29.071102Z",
     "start_time": "2020-10-25T00:23:29.056145Z"
    }
   },
   "outputs": [],
   "source": [
    "# creamos una nueva variable 'animal' y mapeamos\n",
    "data['O.animal'] = minusculas.map(procedencia_animal)\n",
    "data"
   ]
  },
  {
   "cell_type": "markdown",
   "metadata": {},
   "source": [
    "Tambien, podemos pasar una ``funcción`` que realice todo el trabajo :"
   ]
  },
  {
   "cell_type": "code",
   "execution_count": null,
   "metadata": {
    "ExecuteTime": {
     "end_time": "2020-10-25T00:23:51.829399Z",
     "start_time": "2020-10-25T00:23:51.820423Z"
    }
   },
   "outputs": [],
   "source": [
    "data['alimento'].map(lambda x : procedencia_animal[x.lower()])"
   ]
  },
  {
   "cell_type": "code",
   "execution_count": null,
   "metadata": {
    "ExecuteTime": {
     "end_time": "2020-10-25T00:23:55.684092Z",
     "start_time": "2020-10-25T00:23:55.670131Z"
    }
   },
   "outputs": [],
   "source": [
    "data"
   ]
  },
  {
   "cell_type": "markdown",
   "metadata": {},
   "source": [
    "Utilizar el método <span style=color:blue><b>map()</b></span> es una forma muy comoda para desarrollar transformaciones y otras operaciones relacionadas con la limpieza del dato."
   ]
  },
  {
   "cell_type": "markdown",
   "metadata": {},
   "source": [
    "## <span style=color:green><ins>Reemplazando Valores</ins></span>"
   ]
  },
  {
   "cell_type": "markdown",
   "metadata": {},
   "source": [
    "Hemos repoblado <span style=color:blue>Missing Values (<b>NaN/Null</b>)</span>, con el método <span style=color:blue><b>fillna()</b></span> caso especial de reemplazo. \n",
    "\n",
    "hemos utilizado, el método <span style=color:blue><b>map()</b></span> para modificar un subconjunto de valores en un objeto.\n",
    "\n",
    "Pero, el método <span style=color:blue><b>replace()</b></span> proporciona una forma más simple y flexible de realizarlo :"
   ]
  },
  {
   "cell_type": "code",
   "execution_count": null,
   "metadata": {
    "ExecuteTime": {
     "end_time": "2020-10-25T00:24:00.605935Z",
     "start_time": "2020-10-25T00:24:00.597955Z"
    }
   },
   "outputs": [],
   "source": [
    "data = pd.Series([10., 2., -999, -1000, 7., -999])\n",
    "data"
   ]
  },
  {
   "cell_type": "markdown",
   "metadata": {},
   "source": [
    "### <span style=color:blue>replace() method</span>"
   ]
  },
  {
   "cell_type": "markdown",
   "metadata": {},
   "source": [
    "Los valores ``-999`` podrían ser ``valores centinela -- sentinel value`` para <span style=color.blue>Missing Data (NaN/Null)</span>. Para sustituirlos por <span style=color:blue>NaN values</span> utilizaremos <span style=color:blue><b>replace()</b></span> devolviendomos una ``nueva`` <b>Series</b>, a menos que pasemos el argumento <span style=color:darkred>inplace = <b>True</b></span>."
   ]
  },
  {
   "cell_type": "code",
   "execution_count": null,
   "metadata": {
    "ExecuteTime": {
     "end_time": "2020-10-25T00:24:03.973939Z",
     "start_time": "2020-10-25T00:24:03.964967Z"
    }
   },
   "outputs": [],
   "source": [
    "data.replace(-999, np.nan)"
   ]
  },
  {
   "cell_type": "markdown",
   "metadata": {},
   "source": [
    "Podemos reemplazar multiple valores a la vez. Pasamos una ``lista/list`` de los <u>valores que queremos substituir</u>, y luego los ``valores de sustitución`` en otra ``lista/list``."
   ]
  },
  {
   "cell_type": "code",
   "execution_count": null,
   "metadata": {
    "ExecuteTime": {
     "end_time": "2020-02-01T03:09:14.216329Z",
     "start_time": "2020-02-01T03:09:14.208890Z"
    }
   },
   "outputs": [],
   "source": [
    "data.replace([-999, -1000], [np.nan, 0])"
   ]
  },
  {
   "cell_type": "markdown",
   "metadata": {},
   "source": [
    "Tambien podemos pasar como argumento un ``dict``:"
   ]
  },
  {
   "cell_type": "code",
   "execution_count": null,
   "metadata": {
    "ExecuteTime": {
     "end_time": "2020-02-01T03:11:58.245690Z",
     "start_time": "2020-02-01T03:11:58.237750Z"
    }
   },
   "outputs": [],
   "source": [
    "data.replace({-999 : np.nan, -1000 : 0})"
   ]
  },
  {
   "cell_type": "markdown",
   "metadata": {},
   "source": [
    "## <span style=color:green><ins>Renombrar los Indices de los Eje/Axis</ins></span>"
   ]
  },
  {
   "cell_type": "markdown",
   "metadata": {},
   "source": [
    "Las <span style=color:blue>etiquetas/labels de las coordenadas</span> se transforman de la misma manera con una ``funcción`` o ``mapeando`` para crear una nueva <span style=color:blue>etiqueta/labels</span>. \n",
    "\n",
    "Podemos mdificar los ejes en origen sin necesidad de crear un nuevo objeto."
   ]
  },
  {
   "cell_type": "code",
   "execution_count": null,
   "metadata": {
    "ExecuteTime": {
     "end_time": "2020-10-25T00:24:39.957316Z",
     "start_time": "2020-10-25T00:24:39.942356Z"
    }
   },
   "outputs": [],
   "source": [
    "data = pd.DataFrame(np.arange(12).reshape((3, 4)), \n",
    "                    index = ['Barcelona', 'Paris', 'Berlin'], \n",
    "                    columns = ['a', 'b', 'c', 'd'])\n",
    "\n",
    "data"
   ]
  },
  {
   "cell_type": "code",
   "execution_count": null,
   "metadata": {},
   "outputs": [],
   "source": [
    "data.index"
   ]
  },
  {
   "cell_type": "markdown",
   "metadata": {},
   "source": [
    "### <span style=color:blue>index.map() method</span>"
   ]
  },
  {
   "cell_type": "markdown",
   "metadata": {},
   "source": [
    "Como en las Series, los indices de los ejes, tambien tienen un método <span style=color:blue><b>map()</b></span> :"
   ]
  },
  {
   "cell_type": "code",
   "execution_count": null,
   "metadata": {
    "ExecuteTime": {
     "end_time": "2020-10-25T00:24:51.999116Z",
     "start_time": "2020-10-25T00:24:51.995128Z"
    }
   },
   "outputs": [],
   "source": [
    "transform = lambda x : x[:4].upper()"
   ]
  },
  {
   "cell_type": "code",
   "execution_count": null,
   "metadata": {
    "ExecuteTime": {
     "end_time": "2020-10-25T00:24:54.183312Z",
     "start_time": "2020-10-25T00:24:54.177329Z"
    }
   },
   "outputs": [],
   "source": [
    "transform"
   ]
  },
  {
   "cell_type": "code",
   "execution_count": null,
   "metadata": {
    "ExecuteTime": {
     "end_time": "2020-10-25T00:24:56.677678Z",
     "start_time": "2020-10-25T00:24:56.670699Z"
    }
   },
   "outputs": [],
   "source": [
    "data.index.map(transform)"
   ]
  },
  {
   "cell_type": "markdown",
   "metadata": {
    "ExecuteTime": {
     "end_time": "2020-02-01T03:36:37.738306Z",
     "start_time": "2020-02-01T03:36:37.726885Z"
    }
   },
   "source": [
    "Para modificar el DataFrame en ``origen / inplace``, podemos asignar ``index`` al dataset. "
   ]
  },
  {
   "cell_type": "code",
   "execution_count": null,
   "metadata": {
    "ExecuteTime": {
     "end_time": "2020-10-25T00:25:12.868610Z",
     "start_time": "2020-10-25T00:25:12.856634Z"
    }
   },
   "outputs": [],
   "source": [
    "data.index = data.index.map(transform)\n",
    "data"
   ]
  },
  {
   "cell_type": "code",
   "execution_count": null,
   "metadata": {},
   "outputs": [],
   "source": [
    "data.index"
   ]
  },
  {
   "cell_type": "markdown",
   "metadata": {},
   "source": [
    "### <span style=color:blue>rename() method</span>"
   ]
  },
  {
   "cell_type": "markdown",
   "metadata": {},
   "source": [
    "Si queremos crear una versión transformada del dataset, sin modificar el original, un método útil es <span style=color:blue><b>rename()</b></span> :"
   ]
  },
  {
   "cell_type": "code",
   "execution_count": null,
   "metadata": {
    "ExecuteTime": {
     "end_time": "2020-10-25T00:25:23.753034Z",
     "start_time": "2020-10-25T00:25:23.737079Z"
    }
   },
   "outputs": [],
   "source": [
    "data_title = data.rename(index=str.title, columns = str.upper)\n",
    "data_title"
   ]
  },
  {
   "cell_type": "code",
   "execution_count": null,
   "metadata": {},
   "outputs": [],
   "source": [
    "data_title.index"
   ]
  },
  {
   "cell_type": "markdown",
   "metadata": {},
   "source": [
    "<span style=color:blue><b>rename()</b></span> podemos usarlo conjuntamente con un objeto ``dict``proporcianando nuevos valores para un ``subset`` de las ``etiquetas/labels``de los ``ejes/axis``."
   ]
  },
  {
   "cell_type": "code",
   "execution_count": null,
   "metadata": {
    "ExecuteTime": {
     "end_time": "2020-10-25T00:25:27.775819Z",
     "start_time": "2020-10-25T00:25:27.770837Z"
    }
   },
   "outputs": [],
   "source": [
    "data.rename(index={'BARC' : 'BCN', 'PARI' :'PAR'},\n",
    "            columns={'c' : 'ocio'}, inplace = True)"
   ]
  },
  {
   "cell_type": "code",
   "execution_count": null,
   "metadata": {
    "ExecuteTime": {
     "end_time": "2020-10-25T00:25:30.311568Z",
     "start_time": "2020-10-25T00:25:30.300557Z"
    }
   },
   "outputs": [],
   "source": [
    "data"
   ]
  },
  {
   "cell_type": "markdown",
   "metadata": {},
   "source": [
    "<span style=color:blue><b>rename()</b></span> nos ahorra tener que copiar el DataFrame manualmente y asignar\n",
    "a sus atributos ``index`` y ``columns``. \n",
    "\n",
    "Podemos modificar el dataset original pasando el atributo\n",
    "<span style=color:darkred>inplace = <b>True</b></span> :"
   ]
  },
  {
   "cell_type": "code",
   "execution_count": null,
   "metadata": {
    "ExecuteTime": {
     "end_time": "2020-10-25T00:25:34.914956Z",
     "start_time": "2020-10-25T00:25:34.909970Z"
    }
   },
   "outputs": [],
   "source": [
    "data.rename(index={'BARC' : 'BCN'}, inplace = True)"
   ]
  },
  {
   "cell_type": "code",
   "execution_count": null,
   "metadata": {
    "ExecuteTime": {
     "end_time": "2020-10-25T00:25:37.555085Z",
     "start_time": "2020-10-25T00:25:37.540126Z"
    }
   },
   "outputs": [],
   "source": [
    "data"
   ]
  },
  {
   "cell_type": "markdown",
   "metadata": {},
   "source": [
    "## <span style=color:green><ins>Discretización y Binning</ins></span>"
   ]
  },
  {
   "cell_type": "markdown",
   "metadata": {},
   "source": [
    "Dicretization se define como un proceso de conversión de valores continuos, en un conjunto finito de intervalos con una pérdida mínima de información."
   ]
  },
  {
   "cell_type": "markdown",
   "metadata": {},
   "source": [
    "Los datos continuos a menudo se discretizan o se separan en \"contenedores / buckets\" para su análisis.\n",
    "\n",
    "Tenemos un dataset sobre un grupo de personas y queremos agruparlos en grupos de edad discretos:"
   ]
  },
  {
   "cell_type": "code",
   "execution_count": null,
   "metadata": {
    "ExecuteTime": {
     "end_time": "2020-10-25T00:26:25.886973Z",
     "start_time": "2020-10-25T00:26:25.879992Z"
    }
   },
   "outputs": [],
   "source": [
    "edad = [20, 22, 25, 27, 21, 23, 37, 31, 61, 45, 41, 32]\n",
    "edad"
   ]
  },
  {
   "cell_type": "markdown",
   "metadata": {},
   "source": [
    "### <span style=color:blue>cut() method</span>"
   ]
  },
  {
   "cell_type": "markdown",
   "metadata": {},
   "source": [
    "Dividámoslos en contenedores o agrupaciones de 18 a 25, 26 a 35, 36 a 60, y finalmente 61 ó más. usaremos el método <span style=color:blue><b>cut()</b></span> :"
   ]
  },
  {
   "cell_type": "code",
   "execution_count": null,
   "metadata": {
    "ExecuteTime": {
     "end_time": "2020-10-25T00:26:53.400727Z",
     "start_time": "2020-10-25T00:26:53.395743Z"
    }
   },
   "outputs": [],
   "source": [
    "bins = [18, 25, 35, 60, 100]\n",
    "bins"
   ]
  },
  {
   "cell_type": "code",
   "execution_count": null,
   "metadata": {
    "ExecuteTime": {
     "end_time": "2020-10-25T00:27:01.917694Z",
     "start_time": "2020-10-25T00:27:01.901739Z"
    }
   },
   "outputs": [],
   "source": [
    "cat = pd.cut(edad, bins, right = False)\n",
    "cat"
   ]
  },
  {
   "cell_type": "markdown",
   "metadata": {},
   "source": [
    "Un parentesis ``(`` significa que el lado esta abierto, mientras que los corchetes ``]`` significa que esta cerrado (inclusive).   \n",
    "\n",
    "Podemos cambiar que clase esta cerrada pasando el argumento <span style=color:darkred>right = False</span>."
   ]
  },
  {
   "cell_type": "code",
   "execution_count": null,
   "metadata": {
    "ExecuteTime": {
     "end_time": "2020-10-25T00:27:56.287989Z",
     "start_time": "2020-10-25T00:27:56.274985Z"
    }
   },
   "outputs": [],
   "source": [
    "bins1 = [18, 26, 36, 61, 100]\n",
    "catR = pd.cut(edad, bins1, right = False)\n",
    "catR"
   ]
  },
  {
   "cell_type": "markdown",
   "metadata": {},
   "source": [
    "El objecto que nos devuelve es un objecto <span style=color:blue><b>Categórico / Categorical</b></span> especial.   \n",
    "Los resultados describe los ``bins`` calculados por <span style=color:blue><b>cut()</b></span>. Lo podemos tratar como <b>array of strings - matriz de literales</b> indicando el nombre del ``bin``;"
   ]
  },
  {
   "cell_type": "markdown",
   "metadata": {},
   "source": [
    "### <span style=color:blue>cat Attributes</span>"
   ]
  },
  {
   "cell_type": "markdown",
   "metadata": {},
   "source": [
    "Internamente contiene una <span style=color:blue>matriz de categorías</span> donde se especifican las distintas <span style=color:blue>categorías - bins</span> junto con un conteo para cada rango de edad. Utilizando en el atributo ``codes``:"
   ]
  },
  {
   "cell_type": "code",
   "execution_count": null,
   "metadata": {
    "ExecuteTime": {
     "end_time": "2020-10-25T00:28:16.257874Z",
     "start_time": "2020-10-25T00:28:16.251890Z"
    }
   },
   "outputs": [],
   "source": [
    "cat.codes"
   ]
  },
  {
   "cell_type": "code",
   "execution_count": null,
   "metadata": {
    "ExecuteTime": {
     "end_time": "2020-10-25T00:28:20.043072Z",
     "start_time": "2020-10-25T00:28:20.037090Z"
    }
   },
   "outputs": [],
   "source": [
    "cat.categories"
   ]
  },
  {
   "cell_type": "code",
   "execution_count": null,
   "metadata": {},
   "outputs": [],
   "source": [
    "catR.codes"
   ]
  },
  {
   "cell_type": "code",
   "execution_count": null,
   "metadata": {
    "ExecuteTime": {
     "end_time": "2020-10-25T00:28:24.336091Z",
     "start_time": "2020-10-25T00:28:24.330108Z"
    }
   },
   "outputs": [],
   "source": [
    "catR.categories"
   ]
  },
  {
   "cell_type": "markdown",
   "metadata": {},
   "source": [
    "El método <span style=color:blue>value_counts()</span> calcula un histograma del conteo de ``bin`` de valores <span style=color:red><b><u>NO nulos</u>, ( NaN / Null )</b></span>. "
   ]
  },
  {
   "cell_type": "code",
   "execution_count": null,
   "metadata": {
    "ExecuteTime": {
     "end_time": "2020-10-25T00:29:11.321259Z",
     "start_time": "2020-10-25T00:29:11.310292Z"
    }
   },
   "outputs": [],
   "source": [
    "pd.value_counts(cat)"
   ]
  },
  {
   "cell_type": "markdown",
   "metadata": {},
   "source": [
    "Podemos cambiar el nombre/<span style=color:blue>etiquetas</span> de los <span style=color:blue><b>bins</b></span> pasando una ``list o array`` al parametro <span style=color:blue><u>labels</u></span>  del método <span style=color:blue>cut()</span>:"
   ]
  },
  {
   "cell_type": "code",
   "execution_count": null,
   "metadata": {
    "ExecuteTime": {
     "end_time": "2020-10-25T00:31:12.100477Z",
     "start_time": "2020-10-25T00:31:12.093496Z"
    }
   },
   "outputs": [],
   "source": [
    "nombre_bins = ['Joven', 'Joven Adulto', 'Mediana Edad', 'Senior']\n",
    "nombre_bins"
   ]
  },
  {
   "cell_type": "code",
   "execution_count": null,
   "metadata": {
    "ExecuteTime": {
     "end_time": "2020-10-25T00:31:20.284587Z",
     "start_time": "2020-10-25T00:31:20.274613Z"
    }
   },
   "outputs": [],
   "source": [
    "cat_1 = pd.cut(edad, bins, labels = nombre_bins)\n",
    "cat_1"
   ]
  },
  {
   "cell_type": "code",
   "execution_count": null,
   "metadata": {
    "ExecuteTime": {
     "end_time": "2020-10-25T00:32:53.902592Z",
     "start_time": "2020-10-25T00:32:53.895611Z"
    }
   },
   "outputs": [],
   "source": [
    "list(cat_1)"
   ]
  },
  {
   "cell_type": "code",
   "execution_count": null,
   "metadata": {
    "ExecuteTime": {
     "end_time": "2020-10-25T00:31:49.963373Z",
     "start_time": "2020-10-25T00:31:49.954397Z"
    }
   },
   "outputs": [],
   "source": [
    "pd.value_counts(cat_1)"
   ]
  },
  {
   "cell_type": "markdown",
   "metadata": {},
   "source": [
    "Si pasamos un <span style=color:blue>número entero</span> como <span style=color:blue><b>bin</b></span>, <span style=color:red>en vez de acotaciones explicitas</span>, nos <span style=color:blue>calculara, <b>bins</b></span> de la <span style=color:blue>misma <b>longitud</b></span>, basado en los <span style=color:blue><i>valores <u>mínimos</u> y <u>máximos</u></i></span> del dataset. "
   ]
  },
  {
   "cell_type": "code",
   "execution_count": null,
   "metadata": {
    "ExecuteTime": {
     "end_time": "2020-10-25T00:34:49.913509Z",
     "start_time": "2020-10-25T00:34:49.898549Z"
    }
   },
   "outputs": [],
   "source": [
    "# la opción 'precision = 2' limita la precision decimal a 2 digitos.\n",
    "pd.cut(edad, 2, precision = 2)"
   ]
  },
  {
   "cell_type": "markdown",
   "metadata": {},
   "source": [
    "El método <span style=color:blue><b>qcut()</b></span>, agrupa, ``bins``,los datos en base a cuantiles de muestra. "
   ]
  },
  {
   "cell_type": "code",
   "execution_count": null,
   "metadata": {
    "ExecuteTime": {
     "end_time": "2020-10-25T00:36:29.842390Z",
     "start_time": "2020-10-25T00:36:29.823444Z"
    }
   },
   "outputs": [],
   "source": [
    "cats = pd.qcut(edad, 4, precision = 2) # Cut into quantiles\n",
    "cats"
   ]
  },
  {
   "cell_type": "code",
   "execution_count": null,
   "metadata": {
    "ExecuteTime": {
     "end_time": "2020-10-25T00:36:44.018704Z",
     "start_time": "2020-10-25T00:36:44.006738Z"
    }
   },
   "outputs": [],
   "source": [
    "pd.value_counts(cats)"
   ]
  },
  {
   "cell_type": "markdown",
   "metadata": {},
   "source": [
    "Podemos introducir <span style=color:blue>nuestros propios cuantiles</span> ( números entre 0 y 1, inclusive):"
   ]
  },
  {
   "cell_type": "code",
   "execution_count": null,
   "metadata": {
    "ExecuteTime": {
     "end_time": "2020-10-25T00:37:08.600370Z",
     "start_time": "2020-10-25T00:37:08.582421Z"
    }
   },
   "outputs": [],
   "source": [
    "cats_1 = pd.qcut(edad, [0, 0.1, 0.5, 0.9, 1.], precision = 2)\n",
    "cats_1"
   ]
  },
  {
   "cell_type": "code",
   "execution_count": null,
   "metadata": {
    "ExecuteTime": {
     "end_time": "2020-10-25T00:37:36.203633Z",
     "start_time": "2020-10-25T00:37:36.191663Z"
    }
   },
   "outputs": [],
   "source": [
    "pd.value_counts(cats_1)"
   ]
  },
  {
   "cell_type": "markdown",
   "metadata": {},
   "source": [
    "## <span style=color:green><ins>Detectando y Filtrando Outliers</ins></span>\n"
   ]
  },
  {
   "cell_type": "markdown",
   "metadata": {},
   "source": [
    "Filtrar o transformar <span style=color:blue><b>Outliers - Valores Atípicos</b></span> es en gran medida la aplicación de operaciones de ``matriz - arrays``."
   ]
  },
  {
   "cell_type": "code",
   "execution_count": null,
   "metadata": {
    "ExecuteTime": {
     "end_time": "2020-10-25T00:38:06.917640Z",
     "start_time": "2020-10-25T00:38:06.912654Z"
    }
   },
   "outputs": [],
   "source": [
    "data = pd.DataFrame(np.random.randn(1000, 4))"
   ]
  },
  {
   "cell_type": "code",
   "execution_count": null,
   "metadata": {
    "ExecuteTime": {
     "end_time": "2020-10-25T00:38:09.381147Z",
     "start_time": "2020-10-25T00:38:09.376154Z"
    }
   },
   "outputs": [],
   "source": [
    "data.shape"
   ]
  },
  {
   "cell_type": "code",
   "execution_count": null,
   "metadata": {
    "ExecuteTime": {
     "end_time": "2020-10-25T00:38:11.159384Z",
     "start_time": "2020-10-25T00:38:11.149410Z"
    }
   },
   "outputs": [],
   "source": [
    "data.info()"
   ]
  },
  {
   "cell_type": "code",
   "execution_count": null,
   "metadata": {
    "ExecuteTime": {
     "end_time": "2020-10-25T00:38:13.300654Z",
     "start_time": "2020-10-25T00:38:13.285697Z"
    }
   },
   "outputs": [],
   "source": [
    "data.head()"
   ]
  },
  {
   "cell_type": "code",
   "execution_count": null,
   "metadata": {
    "ExecuteTime": {
     "end_time": "2020-10-25T00:38:16.064262Z",
     "start_time": "2020-10-25T00:38:16.030354Z"
    }
   },
   "outputs": [],
   "source": [
    "data.describe()"
   ]
  },
  {
   "cell_type": "markdown",
   "metadata": {},
   "source": [
    "Queremos encontrar en una de las columnas, <span style=color:blue><u>valores</u> que <b>contengan</b> el número <b>3</b></span> en ``valor absoluto``."
   ]
  },
  {
   "cell_type": "code",
   "execution_count": null,
   "metadata": {
    "ExecuteTime": {
     "end_time": "2020-10-25T00:38:18.610451Z",
     "start_time": "2020-10-25T00:38:18.606462Z"
    }
   },
   "outputs": [],
   "source": [
    "col = data[1]"
   ]
  },
  {
   "cell_type": "code",
   "execution_count": null,
   "metadata": {
    "ExecuteTime": {
     "end_time": "2020-10-25T00:38:21.568537Z",
     "start_time": "2020-10-25T00:38:21.559562Z"
    }
   },
   "outputs": [],
   "source": [
    "col[np.abs(col) > 3]"
   ]
  },
  {
   "cell_type": "markdown",
   "metadata": {},
   "source": [
    "Para selecionar todas las <span style=color:blue>observaciones - cases</span> con valores que <span style=color:red>excedan los <b>limites ó rangos</b></span> ``3`` o ``-3``, usaremos el método <span style=color:blue><b>any()</b></span> en un DataFrame Boleano :  "
   ]
  },
  {
   "cell_type": "code",
   "execution_count": null,
   "metadata": {
    "ExecuteTime": {
     "end_time": "2020-10-25T00:38:25.345480Z",
     "start_time": "2020-10-25T00:38:25.321546Z"
    }
   },
   "outputs": [],
   "source": [
    "data[(np.abs(data) > 3).any(1)]"
   ]
  },
  {
   "cell_type": "markdown",
   "metadata": {},
   "source": [
    "<span style=color:red>Los valores se pueden establecer en función de estos criterios</span>. \n",
    "    \n",
    "Si queremos limitar los valores del intervalo a ``–3`` a ``3``:"
   ]
  },
  {
   "cell_type": "code",
   "execution_count": null,
   "metadata": {
    "ExecuteTime": {
     "end_time": "2020-10-25T00:38:29.207152Z",
     "start_time": "2020-10-25T00:38:29.193187Z"
    }
   },
   "outputs": [],
   "source": [
    "data[np.abs(data) > 3] = np.sign(data) * 3"
   ]
  },
  {
   "cell_type": "code",
   "execution_count": null,
   "metadata": {},
   "outputs": [],
   "source": [
    "np.sign(data)"
   ]
  },
  {
   "cell_type": "code",
   "execution_count": null,
   "metadata": {},
   "outputs": [],
   "source": [
    "data.head()"
   ]
  },
  {
   "cell_type": "code",
   "execution_count": null,
   "metadata": {
    "ExecuteTime": {
     "end_time": "2020-10-25T00:38:31.136987Z",
     "start_time": "2020-10-25T00:38:31.105075Z"
    }
   },
   "outputs": [],
   "source": [
    "# observamos 'min' y 'max' en el resumen estadístico,\n",
    "# no supera el intervalo -3 y 3\n",
    "data.describe()"
   ]
  },
  {
   "cell_type": "markdown",
   "metadata": {},
   "source": [
    "La declaración np.sign(data) produce valores ``1`` y ``-1``, basandose si los valores en <span style=color:blue>data</span> son positivos o negativos :"
   ]
  },
  {
   "cell_type": "code",
   "execution_count": null,
   "metadata": {
    "ExecuteTime": {
     "end_time": "2020-10-25T00:38:34.948797Z",
     "start_time": "2020-10-25T00:38:34.932838Z"
    }
   },
   "outputs": [],
   "source": [
    "np.sign(data).head()"
   ]
  },
  {
   "cell_type": "code",
   "execution_count": null,
   "metadata": {
    "ExecuteTime": {
     "end_time": "2020-10-25T00:38:37.258614Z",
     "start_time": "2020-10-25T00:38:37.240665Z"
    }
   },
   "outputs": [],
   "source": [
    "(np.sign(data) * 3).head()"
   ]
  },
  {
   "cell_type": "markdown",
   "metadata": {},
   "source": [
    "## <span style=color:green><u>Computing Indicator/Dummy Variables</u></span>"
   ]
  },
  {
   "cell_type": "markdown",
   "metadata": {},
   "source": [
    "Otro tipo de transformación para aplicaciones de <i>Statistical Modeling</i> o <i>Machine Learning</i> es convertir una variable <span style=color:blue>Categórica</span> en una matriz <span style=color:blue><b>\"dummy / ficticia\"</b> o <b>\"indicator / indicadora\"</b></span>. \n",
    "\n",
    "Si una columna en un DataFrame tiene <b>k</b> valores distintos, derivaría una matriz o DataFrame con <b>k</b> columnas que contienen todos los <span style=color:blue><b>1s</b> y <b>0s</b></span>. Pandas tiene una función <span style=color:blue><b>get_dummies()</b></span> para hacerlo :"
   ]
  },
  {
   "cell_type": "markdown",
   "metadata": {},
   "source": [
    "### <span style=color:blue>pd.get_dummies() method</span>"
   ]
  },
  {
   "cell_type": "code",
   "execution_count": null,
   "metadata": {
    "ExecuteTime": {
     "end_time": "2020-02-07T15:51:42.687042Z",
     "start_time": "2020-02-07T15:51:42.673040Z"
    }
   },
   "outputs": [],
   "source": [
    "df = pd.DataFrame({'key': ['b', 'b', 'a', 'c', 'a', 'b'],\n",
    "                   'data1': range(6)})\n",
    "df"
   ]
  },
  {
   "cell_type": "code",
   "execution_count": null,
   "metadata": {},
   "outputs": [],
   "source": [
    "type(df)"
   ]
  },
  {
   "cell_type": "code",
   "execution_count": null,
   "metadata": {
    "ExecuteTime": {
     "end_time": "2020-02-07T15:51:45.955858Z",
     "start_time": "2020-02-07T15:51:45.942896Z"
    }
   },
   "outputs": [],
   "source": [
    "df_dummies = pd.get_dummies(df['key'])\n",
    "df_dummies"
   ]
  },
  {
   "cell_type": "markdown",
   "metadata": {},
   "source": [
    "Podemos agregar un prefijo a las columnas en el dummy DataFrame, que luego se puede combinar con los otros datos. <span style=color:blue>get_dummies()</span> tiene un argumento <span style=color:darkred><b>prefix</b></span> para hacer esto:"
   ]
  },
  {
   "cell_type": "code",
   "execution_count": null,
   "metadata": {
    "ExecuteTime": {
     "end_time": "2020-02-07T15:51:49.931858Z",
     "start_time": "2020-02-07T15:51:49.916898Z"
    }
   },
   "outputs": [],
   "source": [
    "dummies = pd.get_dummies(df['key'], prefix = 'cod')\n",
    "dummies"
   ]
  },
  {
   "cell_type": "code",
   "execution_count": null,
   "metadata": {
    "ExecuteTime": {
     "end_time": "2020-02-07T15:52:42.248284Z",
     "start_time": "2020-02-07T15:52:42.233330Z"
    }
   },
   "outputs": [],
   "source": [
    "df_con_dummies = df[['data1']].join(dummies)\n",
    "df_con_dummies"
   ]
  },
  {
   "cell_type": "code",
   "execution_count": null,
   "metadata": {
    "ExecuteTime": {
     "end_time": "2020-02-07T16:01:14.092591Z",
     "start_time": "2020-02-07T16:01:14.086608Z"
    }
   },
   "outputs": [],
   "source": [
    "os.getcwd()"
   ]
  },
  {
   "cell_type": "code",
   "execution_count": null,
   "metadata": {
    "ExecuteTime": {
     "end_time": "2020-02-07T16:02:05.234310Z",
     "start_time": "2020-02-07T16:02:05.230318Z"
    }
   },
   "outputs": [],
   "source": [
    "os.chdir('D:\\\\Documents\\\\Python\\\\Python for Data Analysis-Pandas Jupyter Notebook\\\\pydata-Notebooks\\\\datasets\\\\movielens')"
   ]
  },
  {
   "cell_type": "code",
   "execution_count": null,
   "metadata": {
    "ExecuteTime": {
     "end_time": "2020-02-07T16:02:16.636010Z",
     "start_time": "2020-02-07T16:02:16.629030Z"
    }
   },
   "outputs": [],
   "source": [
    "os.listdir()"
   ]
  },
  {
   "cell_type": "code",
   "execution_count": null,
   "metadata": {
    "ExecuteTime": {
     "end_time": "2020-02-07T16:05:20.821704Z",
     "start_time": "2020-02-07T16:05:20.816718Z"
    }
   },
   "outputs": [],
   "source": [
    "mcabecera = ['movie_id', 'titulo', 'genero']\n",
    "mcabecera"
   ]
  },
  {
   "cell_type": "code",
   "execution_count": null,
   "metadata": {
    "ExecuteTime": {
     "end_time": "2020-02-07T16:06:49.943004Z",
     "start_time": "2020-02-07T16:06:49.899124Z"
    }
   },
   "outputs": [],
   "source": [
    "movies = pd.read_table('movies.dat', sep = '::', header = None, names = mcabecera)\n",
    "movies.head()"
   ]
  },
  {
   "cell_type": "code",
   "execution_count": null,
   "metadata": {
    "ExecuteTime": {
     "end_time": "2020-02-07T16:15:50.136439Z",
     "start_time": "2020-02-07T16:15:50.130454Z"
    }
   },
   "outputs": [],
   "source": [
    "movies.shape"
   ]
  },
  {
   "cell_type": "markdown",
   "metadata": {},
   "source": [
    "Agregar <span style=color:blue>dummy variables</span> para cada género requiere un poco de transformación. \n",
    "\n",
    "Primero, extraemos la lista de géneros únicos en el dataset:"
   ]
  },
  {
   "cell_type": "code",
   "execution_count": null,
   "metadata": {
    "ExecuteTime": {
     "end_time": "2020-02-07T16:12:34.387053Z",
     "start_time": "2020-02-07T16:12:34.381069Z"
    }
   },
   "outputs": [],
   "source": [
    "todos_generos = []\n",
    "todos_generos"
   ]
  },
  {
   "cell_type": "code",
   "execution_count": null,
   "metadata": {
    "ExecuteTime": {
     "end_time": "2020-02-07T16:12:42.142243Z",
     "start_time": "2020-02-07T16:12:42.134265Z"
    }
   },
   "outputs": [],
   "source": [
    "for x in movies.genero:\n",
    "    todos_generos.extend(x.split('|'))"
   ]
  },
  {
   "cell_type": "code",
   "execution_count": null,
   "metadata": {
    "ExecuteTime": {
     "end_time": "2020-02-07T16:16:58.635192Z",
     "start_time": "2020-02-07T16:16:58.629242Z"
    }
   },
   "outputs": [],
   "source": [
    "todos_generos[:8]"
   ]
  },
  {
   "cell_type": "code",
   "execution_count": null,
   "metadata": {
    "ExecuteTime": {
     "end_time": "2020-02-07T16:18:53.529319Z",
     "start_time": "2020-02-07T16:18:53.523337Z"
    }
   },
   "outputs": [],
   "source": [
    "len(todos_generos)"
   ]
  },
  {
   "cell_type": "code",
   "execution_count": null,
   "metadata": {
    "ExecuteTime": {
     "end_time": "2020-02-07T16:18:10.904195Z",
     "start_time": "2020-02-07T16:18:10.895255Z"
    }
   },
   "outputs": [],
   "source": [
    "generos = pd.unique(todos_generos)\n",
    "generos"
   ]
  },
  {
   "cell_type": "code",
   "execution_count": null,
   "metadata": {
    "ExecuteTime": {
     "end_time": "2020-02-07T16:18:35.214501Z",
     "start_time": "2020-02-07T16:18:35.209483Z"
    }
   },
   "outputs": [],
   "source": [
    "len(generos)"
   ]
  },
  {
   "cell_type": "code",
   "execution_count": null,
   "metadata": {},
   "outputs": [],
   "source": [
    "movies"
   ]
  },
  {
   "cell_type": "markdown",
   "metadata": {},
   "source": [
    "Para construir un <span style=color:blue>Dummy</span> DataFrame, se empieza creando una matriz/array <b>'zeros'</b>, para finalmente crear un DaFrame de <b>'zeros'</b> :"
   ]
  },
  {
   "cell_type": "code",
   "execution_count": null,
   "metadata": {},
   "outputs": [],
   "source": [
    "len(movies)"
   ]
  },
  {
   "cell_type": "code",
   "execution_count": null,
   "metadata": {
    "ExecuteTime": {
     "end_time": "2020-02-07T16:23:12.307758Z",
     "start_time": "2020-02-07T16:23:12.299748Z"
    }
   },
   "outputs": [],
   "source": [
    "cero_matriz = np.zeros((len(movies), len(generos)))\n",
    "cero_matriz.shape"
   ]
  },
  {
   "cell_type": "code",
   "execution_count": null,
   "metadata": {},
   "outputs": [],
   "source": [
    "cero_matriz"
   ]
  },
  {
   "cell_type": "code",
   "execution_count": null,
   "metadata": {
    "ExecuteTime": {
     "end_time": "2020-02-07T16:27:12.125147Z",
     "start_time": "2020-02-07T16:27:12.091239Z"
    },
    "scrolled": true
   },
   "outputs": [],
   "source": [
    "dummies = pd.DataFrame(cero_matriz, columns = generos)\n",
    "dummies.head()"
   ]
  },
  {
   "cell_type": "code",
   "execution_count": null,
   "metadata": {},
   "outputs": [],
   "source": [
    "dummies.sum()"
   ]
  },
  {
   "cell_type": "code",
   "execution_count": null,
   "metadata": {},
   "outputs": [],
   "source": [
    "dummies.describe()"
   ]
  },
  {
   "cell_type": "markdown",
   "metadata": {},
   "source": [
    "Ahora, <span style=color:blue><b>iteramos</b> cada película</span> y configuramos las entradas en cada fila de <span style=color:blue>dummies</span> a <b>1</b>. Para hacer esto, usamos <span style=color:blue>dummies.columns</span> para calcular los índices de columna para cada género:"
   ]
  },
  {
   "cell_type": "code",
   "execution_count": null,
   "metadata": {},
   "outputs": [],
   "source": [
    "dummies.columns"
   ]
  },
  {
   "cell_type": "code",
   "execution_count": 1,
   "metadata": {
    "ExecuteTime": {
     "end_time": "2020-02-07T16:34:42.964444Z",
     "start_time": "2020-02-07T16:34:42.957465Z"
    }
   },
   "outputs": [
    {
     "ename": "NameError",
     "evalue": "name 'movies' is not defined",
     "output_type": "error",
     "traceback": [
      "\u001b[1;31m---------------------------------------------------------------------------\u001b[0m",
      "\u001b[1;31mNameError\u001b[0m                                 Traceback (most recent call last)",
      "\u001b[1;32m<ipython-input-1-72a26dfc9b5e>\u001b[0m in \u001b[0;36m<module>\u001b[1;34m()\u001b[0m\n\u001b[1;32m----> 1\u001b[1;33m \u001b[0mgen\u001b[0m \u001b[1;33m=\u001b[0m \u001b[0mmovies\u001b[0m\u001b[1;33m.\u001b[0m\u001b[0mgenero\u001b[0m\u001b[1;33m[\u001b[0m\u001b[1;36m0\u001b[0m\u001b[1;33m]\u001b[0m\u001b[1;33m\u001b[0m\u001b[0m\n\u001b[0m\u001b[0;32m      2\u001b[0m \u001b[0mgen\u001b[0m\u001b[1;33m\u001b[0m\u001b[0m\n",
      "\u001b[1;31mNameError\u001b[0m: name 'movies' is not defined"
     ]
    }
   ],
   "source": [
    "gen = movies.genero[0]\n",
    "gen"
   ]
  },
  {
   "cell_type": "code",
   "execution_count": null,
   "metadata": {
    "ExecuteTime": {
     "end_time": "2020-02-07T16:35:50.574870Z",
     "start_time": "2020-02-07T16:35:50.568887Z"
    }
   },
   "outputs": [],
   "source": [
    "gen.split('|')"
   ]
  },
  {
   "cell_type": "code",
   "execution_count": null,
   "metadata": {
    "ExecuteTime": {
     "end_time": "2020-02-07T16:36:22.840071Z",
     "start_time": "2020-02-07T16:36:22.833089Z"
    }
   },
   "outputs": [],
   "source": [
    "dummies.columns.get_indexer(gen.split('|'))"
   ]
  },
  {
   "cell_type": "markdown",
   "metadata": {},
   "source": [
    "Ahora, podemos utilizar <span style=color:blue>.iloc</span> para establecer valores basados en estos índices :"
   ]
  },
  {
   "cell_type": "code",
   "execution_count": null,
   "metadata": {
    "ExecuteTime": {
     "end_time": "2020-02-07T16:41:45.249330Z",
     "start_time": "2020-02-07T16:41:43.162713Z"
    }
   },
   "outputs": [],
   "source": [
    "for i, gen in enumerate(movies.genero):\n",
    "    indices = dummies.columns.get_indexer(gen.split('|'))\n",
    "    dummies.iloc[i, indices] = 1"
   ]
  },
  {
   "cell_type": "code",
   "execution_count": null,
   "metadata": {},
   "outputs": [],
   "source": [
    "movies.head()"
   ]
  },
  {
   "cell_type": "code",
   "execution_count": null,
   "metadata": {
    "ExecuteTime": {
     "end_time": "2020-02-07T16:43:26.918310Z",
     "start_time": "2020-02-07T16:43:26.891380Z"
    }
   },
   "outputs": [],
   "source": [
    "dummies.head()"
   ]
  },
  {
   "cell_type": "code",
   "execution_count": null,
   "metadata": {},
   "outputs": [],
   "source": [
    "dummies.sum()"
   ]
  },
  {
   "cell_type": "markdown",
   "metadata": {},
   "source": [
    "Finalmente podemos combinar <b>'dummies'</b>, con <b>'movies'</b>"
   ]
  },
  {
   "cell_type": "code",
   "execution_count": null,
   "metadata": {
    "ExecuteTime": {
     "end_time": "2020-02-07T16:47:27.529641Z",
     "start_time": "2020-02-07T16:47:27.499722Z"
    }
   },
   "outputs": [],
   "source": [
    "movies_dummies = movies.join(dummies.add_prefix('Genero_'))\n",
    "movies_dummies.head()"
   ]
  },
  {
   "cell_type": "code",
   "execution_count": null,
   "metadata": {
    "ExecuteTime": {
     "end_time": "2020-02-07T16:48:04.695858Z",
     "start_time": "2020-02-07T16:48:04.688878Z"
    }
   },
   "outputs": [],
   "source": [
    "movies_dummies.iloc[1]"
   ]
  },
  {
   "cell_type": "markdown",
   "metadata": {},
   "source": [
    "Una receta útil para aplicaciones estadísticas es combinar <span style=color:blue><b>pd.get_dummies()</b></span> con una función de discretización como <span style=color:blue><b>pd.cut()</b></span>:"
   ]
  },
  {
   "cell_type": "code",
   "execution_count": null,
   "metadata": {
    "ExecuteTime": {
     "end_time": "2020-02-07T16:53:26.154931Z",
     "start_time": "2020-02-07T16:53:26.150939Z"
    }
   },
   "outputs": [],
   "source": [
    "np.random.seed(12345)"
   ]
  },
  {
   "cell_type": "code",
   "execution_count": null,
   "metadata": {
    "ExecuteTime": {
     "end_time": "2020-02-07T16:53:54.703868Z",
     "start_time": "2020-02-07T16:53:54.696888Z"
    }
   },
   "outputs": [],
   "source": [
    "values = np.random.rand(10)\n",
    "values"
   ]
  },
  {
   "cell_type": "code",
   "execution_count": null,
   "metadata": {
    "ExecuteTime": {
     "end_time": "2020-02-07T16:54:42.921937Z",
     "start_time": "2020-02-07T16:54:42.916952Z"
    }
   },
   "outputs": [],
   "source": [
    "bins = [0, 0.2, 0.4, 0.6, 0.8, 1]\n",
    "bins"
   ]
  },
  {
   "cell_type": "code",
   "execution_count": null,
   "metadata": {
    "ExecuteTime": {
     "end_time": "2020-02-07T16:55:10.107848Z",
     "start_time": "2020-02-07T16:55:10.081918Z"
    }
   },
   "outputs": [],
   "source": [
    "pd.get_dummies(pd.cut(values, bins))"
   ]
  },
  {
   "cell_type": "markdown",
   "metadata": {},
   "source": [
    "# <span style=color:darkblue><ins>MANIPULACION DE LITERALES / STRING MANIPULATION</ins></span>"
   ]
  },
  {
   "cell_type": "markdown",
   "metadata": {},
   "source": [
    "## <span style=color:blue>split() method</span>"
   ]
  },
  {
   "cell_type": "markdown",
   "metadata": {},
   "source": [
    "Podemos dividir en pedazos un <b>String - cadena literales</b> separada por comas con el método <span style=color:blue><b>split()</b></span> :"
   ]
  },
  {
   "cell_type": "code",
   "execution_count": null,
   "metadata": {
    "ExecuteTime": {
     "end_time": "2020-02-07T17:19:59.181635Z",
     "start_time": "2020-02-07T17:19:59.174655Z"
    }
   },
   "outputs": [],
   "source": [
    "val = '  a,b  ,   verde'\n",
    "type(val)"
   ]
  },
  {
   "cell_type": "code",
   "execution_count": null,
   "metadata": {
    "ExecuteTime": {
     "end_time": "2020-02-07T17:20:01.656807Z",
     "start_time": "2020-02-07T17:20:01.650857Z"
    }
   },
   "outputs": [],
   "source": [
    "val"
   ]
  },
  {
   "cell_type": "code",
   "execution_count": null,
   "metadata": {
    "ExecuteTime": {
     "end_time": "2020-02-07T17:20:07.438280Z",
     "start_time": "2020-02-07T17:20:07.433259Z"
    }
   },
   "outputs": [],
   "source": [
    "val1 = val.split(',')"
   ]
  },
  {
   "cell_type": "code",
   "execution_count": null,
   "metadata": {},
   "outputs": [],
   "source": [
    "val1"
   ]
  },
  {
   "cell_type": "markdown",
   "metadata": {},
   "source": [
    "Amenudo combinaremos <span style=color:blue><b>split()</b></span> con <span style=color:blue><b>strip()</b></span> para ajustar espacios en blanco, incluido saltos de linea :"
   ]
  },
  {
   "cell_type": "markdown",
   "metadata": {},
   "source": [
    "## <span style=color:blue>strip() method</span>"
   ]
  },
  {
   "cell_type": "code",
   "execution_count": null,
   "metadata": {
    "ExecuteTime": {
     "end_time": "2020-02-07T17:21:20.937830Z",
     "start_time": "2020-02-07T17:21:20.930851Z"
    }
   },
   "outputs": [],
   "source": [
    "espacios_b = [x.strip() for x in val.split(',')]\n",
    "espacios_b"
   ]
  },
  {
   "cell_type": "markdown",
   "metadata": {},
   "source": [
    "Estas <b>subcadenas-substrings</b> podrían concatenarse junto con un delimitador de dos puntos, <span style=color:red><b>': :'</b></span> usando el operador suma , <b>+</b>:"
   ]
  },
  {
   "cell_type": "code",
   "execution_count": null,
   "metadata": {
    "ExecuteTime": {
     "end_time": "2020-02-07T17:26:46.859453Z",
     "start_time": "2020-02-07T17:26:46.854468Z"
    }
   },
   "outputs": [],
   "source": [
    "primera, segunda, tercera = espacios_b \n",
    "primera, segunda,tercera"
   ]
  },
  {
   "cell_type": "code",
   "execution_count": null,
   "metadata": {
    "ExecuteTime": {
     "end_time": "2020-02-07T17:27:48.951860Z",
     "start_time": "2020-02-07T17:27:48.945875Z"
    }
   },
   "outputs": [],
   "source": [
    "primera + '::' + segunda + '::' + tercera"
   ]
  },
  {
   "cell_type": "markdown",
   "metadata": {},
   "source": [
    "Una manera más rápida, es pasar una <b>'list'</b> o <b>tupla</b> al método <span style=color:blue><b>join()</b></span> al <b>String</b> <span style=color:red><b>': :'</b></span>"
   ]
  },
  {
   "cell_type": "markdown",
   "metadata": {},
   "source": [
    "## <span style=color:blue>join() method</span>"
   ]
  },
  {
   "cell_type": "code",
   "execution_count": null,
   "metadata": {
    "ExecuteTime": {
     "end_time": "2020-02-07T17:33:02.502427Z",
     "start_time": "2020-02-07T17:33:02.497405Z"
    }
   },
   "outputs": [],
   "source": [
    "'::'.join(espacios_b)"
   ]
  },
  {
   "cell_type": "markdown",
   "metadata": {},
   "source": [
    "## <span style=color:blue>in</span>"
   ]
  },
  {
   "cell_type": "markdown",
   "metadata": {},
   "source": [
    "Podemos localizar <b>'substrings'</b>, utilizando la palabra clave <span style=color:blue><b>in</b></span> :"
   ]
  },
  {
   "cell_type": "code",
   "execution_count": null,
   "metadata": {
    "ExecuteTime": {
     "end_time": "2020-02-07T17:37:44.501802Z",
     "start_time": "2020-02-07T17:37:44.495818Z"
    }
   },
   "outputs": [],
   "source": [
    "'verde' in val"
   ]
  },
  {
   "cell_type": "markdown",
   "metadata": {},
   "source": [
    "## <span style=color:blue>index() method</span>"
   ]
  },
  {
   "cell_type": "code",
   "execution_count": null,
   "metadata": {
    "ExecuteTime": {
     "end_time": "2020-02-07T17:38:20.406831Z",
     "start_time": "2020-02-07T17:38:20.400848Z"
    }
   },
   "outputs": [],
   "source": [
    "# Posición en la que se encuentra el caracter-substring de busqueda en el string que lo contiene\n",
    "val.index('v')"
   ]
  },
  {
   "cell_type": "code",
   "execution_count": null,
   "metadata": {},
   "outputs": [],
   "source": [
    "val"
   ]
  },
  {
   "cell_type": "markdown",
   "metadata": {},
   "source": [
    "## <span style=color:blue>find() method</span>"
   ]
  },
  {
   "cell_type": "code",
   "execution_count": null,
   "metadata": {
    "ExecuteTime": {
     "end_time": "2020-02-07T17:38:45.083032Z",
     "start_time": "2020-02-07T17:38:45.078047Z"
    }
   },
   "outputs": [],
   "source": [
    "val.find(':')"
   ]
  },
  {
   "cell_type": "markdown",
   "metadata": {},
   "source": [
    "La diferencia entre <span style=color:blue><b>find()</b></span> e <span style=color:blue><b>index()</b></span> es que el <span style=color:blue><b>index()</b></span> genera una excepción si no lo encuentra, mientras que <span style=color:blue><b>find()</b></span> nos devolvera <b>–1</b> :"
   ]
  },
  {
   "cell_type": "markdown",
   "metadata": {},
   "source": [
    "## <span style=color:blue>count() method</span>"
   ]
  },
  {
   "cell_type": "markdown",
   "metadata": {},
   "source": [
    "<span style=color:blue>count()</span> devuelve el número de ocurrencias de un <b>substring</b> especifico :"
   ]
  },
  {
   "cell_type": "code",
   "execution_count": null,
   "metadata": {
    "ExecuteTime": {
     "end_time": "2020-02-07T18:02:41.397412Z",
     "start_time": "2020-02-07T18:02:41.391427Z"
    }
   },
   "outputs": [],
   "source": [
    "val.count('e')"
   ]
  },
  {
   "cell_type": "markdown",
   "metadata": {},
   "source": [
    "## <span style=color:blue>replace() method</span>"
   ]
  },
  {
   "cell_type": "markdown",
   "metadata": {},
   "source": [
    "<span style=color:blue>replace()</span> substituye ocurrencias de un patron por otro. \n",
    "\n",
    "Se utiliza tambien para <b>eliminar</b> patrones, pasando un <b>string vacio</b> :"
   ]
  },
  {
   "cell_type": "code",
   "execution_count": null,
   "metadata": {},
   "outputs": [],
   "source": [
    "val"
   ]
  },
  {
   "cell_type": "code",
   "execution_count": null,
   "metadata": {
    "ExecuteTime": {
     "end_time": "2020-02-07T18:05:52.232968Z",
     "start_time": "2020-02-07T18:05:52.227982Z"
    }
   },
   "outputs": [],
   "source": [
    "val.replace(',', '::')"
   ]
  },
  {
   "cell_type": "code",
   "execution_count": null,
   "metadata": {
    "ExecuteTime": {
     "end_time": "2020-02-07T18:06:25.230670Z",
     "start_time": "2020-02-07T18:06:25.225685Z"
    }
   },
   "outputs": [],
   "source": [
    "val.replace(' ', '')"
   ]
  },
  {
   "cell_type": "markdown",
   "metadata": {},
   "source": [
    "## <span style=color:green><ins>Pandas DataFrame: Eliminar partes no deseadas del strings en una columnas</ins></span>"
   ]
  },
  {
   "cell_type": "code",
   "execution_count": null,
   "metadata": {},
   "outputs": [],
   "source": [
    "Baltimore.head()"
   ]
  },
  {
   "cell_type": "code",
   "execution_count": null,
   "metadata": {
    "ExecuteTime": {
     "end_time": "2020-10-25T00:40:37.412355Z",
     "start_time": "2020-10-25T00:40:37.406370Z"
    }
   },
   "outputs": [],
   "source": [
    "Baltimore.columns"
   ]
  },
  {
   "cell_type": "code",
   "execution_count": null,
   "metadata": {
    "ExecuteTime": {
     "end_time": "2020-10-25T00:40:43.044702Z",
     "start_time": "2020-10-25T00:40:43.039715Z"
    }
   },
   "outputs": [],
   "source": [
    "# antes de efectuar un split\n",
    "Baltimore.columns = Baltimore.columns.str.replace(' ' , '_')"
   ]
  },
  {
   "cell_type": "code",
   "execution_count": null,
   "metadata": {
    "ExecuteTime": {
     "end_time": "2020-10-25T00:40:45.296291Z",
     "start_time": "2020-10-25T00:40:45.289341Z"
    }
   },
   "outputs": [],
   "source": [
    "Baltimore.columns"
   ]
  },
  {
   "cell_type": "code",
   "execution_count": null,
   "metadata": {},
   "outputs": [],
   "source": [
    "Baltimore.dtypes"
   ]
  },
  {
   "cell_type": "code",
   "execution_count": null,
   "metadata": {
    "ExecuteTime": {
     "end_time": "2020-10-25T00:40:40.994249Z",
     "start_time": "2020-10-25T00:40:40.987268Z"
    }
   },
   "outputs": [],
   "source": [
    "Baltimore['Location_1'].head()"
   ]
  },
  {
   "cell_type": "code",
   "execution_count": null,
   "metadata": {
    "ExecuteTime": {
     "end_time": "2020-10-25T00:40:48.442664Z",
     "start_time": "2020-10-25T00:40:48.432692Z"
    }
   },
   "outputs": [],
   "source": [
    "# antes de efectuar un split - eliminamos los parentesis del string Location_1\n",
    "Baltimore.Location_1.str.replace('(', '').str.replace(')', '').head()"
   ]
  },
  {
   "cell_type": "code",
   "execution_count": null,
   "metadata": {
    "ExecuteTime": {
     "end_time": "2020-10-25T00:40:59.479881Z",
     "start_time": "2020-10-25T00:40:59.470907Z"
    }
   },
   "outputs": [],
   "source": [
    "# Crear dos variable nuevas 'lat' y 'lon' del resultado se dividir/separar 'Location 1'\n",
    "Baltimore['lat'], Baltimore['lon'] = Baltimore['Location_1'].str.split(',',1).str"
   ]
  },
  {
   "cell_type": "code",
   "execution_count": null,
   "metadata": {
    "ExecuteTime": {
     "end_time": "2020-10-25T00:41:19.842058Z",
     "start_time": "2020-10-25T00:41:19.824108Z"
    }
   },
   "outputs": [],
   "source": [
    "Baltimore.head()"
   ]
  },
  {
   "cell_type": "code",
   "execution_count": null,
   "metadata": {
    "ExecuteTime": {
     "end_time": "2020-10-25T00:41:23.926921Z",
     "start_time": "2020-10-25T00:41:23.920936Z"
    }
   },
   "outputs": [],
   "source": [
    "Baltimore.shape"
   ]
  },
  {
   "cell_type": "code",
   "execution_count": null,
   "metadata": {
    "ExecuteTime": {
     "end_time": "2020-10-25T00:41:26.142554Z",
     "start_time": "2020-10-25T00:41:26.137566Z"
    }
   },
   "outputs": [],
   "source": [
    "Baltimore.columns"
   ]
  },
  {
   "cell_type": "code",
   "execution_count": null,
   "metadata": {},
   "outputs": [],
   "source": [
    "Baltimore['lat']"
   ]
  },
  {
   "cell_type": "code",
   "execution_count": null,
   "metadata": {
    "ExecuteTime": {
     "end_time": "2020-10-25T00:41:39.413005Z",
     "start_time": "2020-10-25T00:41:39.408021Z"
    }
   },
   "outputs": [],
   "source": [
    "# 'lstrip' devuelve una copia de un 'string' con los caracteres seleccionados eliminados. \n",
    "# Usando Regular Expresions\n",
    "\n",
    "Baltimore['lat'] = Baltimore['lat'].map(lambda x: x.lstrip('(').rstrip('aAbBcC'))"
   ]
  },
  {
   "cell_type": "code",
   "execution_count": null,
   "metadata": {
    "ExecuteTime": {
     "end_time": "2020-10-25T00:41:41.605597Z",
     "start_time": "2020-10-25T00:41:41.586649Z"
    }
   },
   "outputs": [],
   "source": [
    "Baltimore.head()"
   ]
  },
  {
   "cell_type": "code",
   "execution_count": null,
   "metadata": {
    "ExecuteTime": {
     "end_time": "2020-10-25T00:41:57.757690Z",
     "start_time": "2020-10-25T00:41:57.752708Z"
    }
   },
   "outputs": [],
   "source": [
    "Baltimore['lon'] = Baltimore['lon'].map(lambda x: x.lstrip('aAbBcC').rstrip(')'))"
   ]
  },
  {
   "cell_type": "code",
   "execution_count": null,
   "metadata": {
    "ExecuteTime": {
     "end_time": "2020-10-25T00:41:59.711960Z",
     "start_time": "2020-10-25T00:41:59.692976Z"
    }
   },
   "outputs": [],
   "source": [
    "Baltimore.head()"
   ]
  },
  {
   "cell_type": "code",
   "execution_count": null,
   "metadata": {
    "ExecuteTime": {
     "end_time": "2020-10-25T00:42:02.966835Z",
     "start_time": "2020-10-25T00:42:02.958860Z"
    }
   },
   "outputs": [],
   "source": [
    "Baltimore['lon'][1:10]"
   ]
  },
  {
   "cell_type": "code",
   "execution_count": null,
   "metadata": {
    "ExecuteTime": {
     "end_time": "2020-10-25T00:42:07.260785Z",
     "start_time": "2020-10-25T00:42:07.255799Z"
    }
   },
   "outputs": [],
   "source": [
    "Baltimore['lon'].dtypes"
   ]
  },
  {
   "cell_type": "code",
   "execution_count": null,
   "metadata": {
    "ExecuteTime": {
     "end_time": "2020-10-25T00:42:11.374892Z",
     "start_time": "2020-10-25T00:42:11.365928Z"
    }
   },
   "outputs": [],
   "source": [
    "Baltimore.dtypes"
   ]
  },
  {
   "cell_type": "code",
   "execution_count": null,
   "metadata": {
    "ExecuteTime": {
     "end_time": "2020-10-25T00:42:17.904526Z",
     "start_time": "2020-10-25T00:42:17.896549Z"
    }
   },
   "outputs": [],
   "source": [
    "# Convertimos las variable (object) 'lat' y 'lon' a float\n",
    "Baltimore[['lat', 'lon']] = Baltimore[['lat', 'lon']].astype(float)"
   ]
  },
  {
   "cell_type": "code",
   "execution_count": null,
   "metadata": {
    "ExecuteTime": {
     "end_time": "2020-10-25T00:42:19.950858Z",
     "start_time": "2020-10-25T00:42:19.942879Z"
    }
   },
   "outputs": [],
   "source": [
    "Baltimore.dtypes"
   ]
  },
  {
   "cell_type": "code",
   "execution_count": null,
   "metadata": {},
   "outputs": [],
   "source": [
    "Baltimore.head()"
   ]
  },
  {
   "cell_type": "code",
   "execution_count": null,
   "metadata": {
    "ExecuteTime": {
     "end_time": "2020-10-25T00:42:47.667442Z",
     "start_time": "2020-10-25T00:42:47.658467Z"
    }
   },
   "outputs": [],
   "source": [
    "# Mostra missing values (NaN)\n",
    "Baltimore['lat'].value_counts(dropna=False).head()"
   ]
  },
  {
   "cell_type": "code",
   "execution_count": null,
   "metadata": {},
   "outputs": [],
   "source": [
    "(Baltimore.isnull().sum()/len(Baltimore))*100"
   ]
  },
  {
   "cell_type": "markdown",
   "metadata": {},
   "source": [
    "### <span style=color:blue><em>Confirmamos la transformación y de paso extra de artimética</em></span>"
   ]
  },
  {
   "cell_type": "code",
   "execution_count": null,
   "metadata": {
    "ExecuteTime": {
     "end_time": "2020-10-25T00:44:21.205774Z",
     "start_time": "2020-10-25T00:44:21.196798Z"
    }
   },
   "outputs": [],
   "source": [
    "# Display an array with the results asked:\n",
    "[Baltimore.lat.mean(),\n",
    "Baltimore.lon.mean(),\n",
    "Baltimore.lat.median(),\n",
    "Baltimore.lon.median(),\n",
    "Baltimore.lat.sum(),\n",
    "Baltimore.lon.sum() ]"
   ]
  },
  {
   "cell_type": "code",
   "execution_count": null,
   "metadata": {
    "ExecuteTime": {
     "end_time": "2020-10-25T00:45:18.396477Z",
     "start_time": "2020-10-25T00:45:18.388500Z"
    }
   },
   "outputs": [],
   "source": [
    "ls = Baltimore.lon.sum()\n",
    "lm = Baltimore.lon.mean()\n",
    "nOb = ls / lm\n",
    "round(ls,15), round(lm,3), round(nOb, 3)"
   ]
  },
  {
   "cell_type": "code",
   "execution_count": null,
   "metadata": {
    "ExecuteTime": {
     "end_time": "2020-10-25T00:45:44.139951Z",
     "start_time": "2020-10-25T00:45:44.133970Z"
    }
   },
   "outputs": [],
   "source": [
    "# Convertimos 'int' a 'float'\n",
    "nObs=float(ls/lm)\n",
    "nObs"
   ]
  },
  {
   "cell_type": "code",
   "execution_count": null,
   "metadata": {
    "ExecuteTime": {
     "end_time": "2020-10-25T00:45:47.896223Z",
     "start_time": "2020-10-25T00:45:47.890247Z"
    }
   },
   "outputs": [],
   "source": [
    "# Convertimos 'float' a 'int'\n",
    "nObs=int(ls/lm)\n",
    "nObs"
   ]
  },
  {
   "cell_type": "code",
   "execution_count": null,
   "metadata": {
    "ExecuteTime": {
     "end_time": "2020-10-25T00:45:53.791512Z",
     "start_time": "2020-10-25T00:45:53.784531Z"
    }
   },
   "outputs": [],
   "source": [
    "# Convertimos 'int' a 'str'\n",
    "nObs=float(ls/lm)\n",
    "nObs=str(ls/lm)\n",
    "type(nObs)"
   ]
  },
  {
   "cell_type": "markdown",
   "metadata": {},
   "source": [
    "## <span style=color:green><ins>Pandas DataFrame: Eliminar columnas</ins></span>"
   ]
  },
  {
   "cell_type": "code",
   "execution_count": null,
   "metadata": {
    "ExecuteTime": {
     "end_time": "2020-10-25T00:45:59.282827Z",
     "start_time": "2020-10-25T00:45:59.276846Z"
    }
   },
   "outputs": [],
   "source": [
    "Baltimore.shape"
   ]
  },
  {
   "cell_type": "code",
   "execution_count": null,
   "metadata": {
    "ExecuteTime": {
     "end_time": "2020-10-25T00:46:01.158806Z",
     "start_time": "2020-10-25T00:46:01.144845Z"
    }
   },
   "outputs": [],
   "source": [
    "Baltimore.head()"
   ]
  },
  {
   "cell_type": "code",
   "execution_count": null,
   "metadata": {},
   "outputs": [],
   "source": [
    "# Eliminando columna :\n",
    "# axis=0 eje de la fila\n",
    "# axis=1 eje de la columna\n",
    "Baltimore.drop('Location_1', axis=1, inplace=True)"
   ]
  },
  {
   "cell_type": "code",
   "execution_count": null,
   "metadata": {},
   "outputs": [],
   "source": [
    "Baltimore.shape"
   ]
  },
  {
   "cell_type": "code",
   "execution_count": null,
   "metadata": {},
   "outputs": [],
   "source": [
    "Baltimore.head()"
   ]
  },
  {
   "cell_type": "markdown",
   "metadata": {},
   "source": [
    "## <span style=color:green><ins>Pandas DataFrame: Renombrar columnas</ins></span>"
   ]
  },
  {
   "cell_type": "code",
   "execution_count": null,
   "metadata": {},
   "outputs": [],
   "source": [
    "#  Sustituyendo espacios por guion bajo para todas las columnas\n",
    "# Baltimore.columns = Baltimore.columns.str.replace(' ', '_')\n",
    "# Baltimore.head()"
   ]
  },
  {
   "cell_type": "code",
   "execution_count": null,
   "metadata": {
    "ExecuteTime": {
     "end_time": "2020-10-25T00:46:17.570684Z",
     "start_time": "2020-10-25T00:46:17.566688Z"
    }
   },
   "outputs": [],
   "source": [
    "# Extraemos una lista de las columnas\n",
    "Baltimore.columns"
   ]
  },
  {
   "cell_type": "code",
   "execution_count": null,
   "metadata": {
    "ExecuteTime": {
     "end_time": "2020-10-25T00:46:24.362510Z",
     "start_time": "2020-10-25T00:46:24.353533Z"
    }
   },
   "outputs": [],
   "source": [
    "# inplace=True afecta al DataFrame directamente\n",
    "\n",
    "Baltimore.rename(columns = {'address': 'direccion', 'street': 'calle',\n",
    "                            'crossStreet':'cruce', 'intersection': 'interseccion',\n",
    "                            'direction': 'orientacion', 'Lat': 'lat', 'Lon':'lon'}, \n",
    "                 inplace=True)\n",
    "Baltimore.columns"
   ]
  },
  {
   "cell_type": "code",
   "execution_count": null,
   "metadata": {
    "ExecuteTime": {
     "end_time": "2020-10-25T00:46:30.619771Z",
     "start_time": "2020-10-25T00:46:30.604809Z"
    }
   },
   "outputs": [],
   "source": [
    "Baltimore.head()"
   ]
  },
  {
   "cell_type": "code",
   "execution_count": null,
   "metadata": {},
   "outputs": [],
   "source": [
    "# Renombrar multiple columnas en la carga del archivo -- OJO!! -- Re-nombra columns empezando \n",
    "# por la derecha.\n",
    "data_cols = ['direccion', 'orientac','calle', 'cruce', 'interseccion','coordenadas']\n",
    "data_cols"
   ]
  },
  {
   "cell_type": "code",
   "execution_count": null,
   "metadata": {},
   "outputs": [],
   "source": [
    "# Renombrar multiple columnas en la carga del archivo\n",
    "data_cols = ['direccion', 'orientac','calle', 'cruce', 'interseccion',\n",
    "             'coordenadas', '2010_Census_Barrio','2010_Precintos_Sala_Census', 'Cod_Postal']\n",
    "data_cols"
   ]
  },
  {
   "cell_type": "code",
   "execution_count": null,
   "metadata": {},
   "outputs": [],
   "source": [
    "# Cambiar columnas mietras se lee/carga el dataset\n",
    "data1 = pd.read_csv('D:\\\\Documents\\\\EureCat\\\\Formacion\\\\Eurecat 2019\\\\Programa Formacion Violeta\\\\Projecto\\\\Data\\Rawdata\\\\baltimore_1.csv', \n",
    "                    sep=',', names=data_cols, header=0, encoding='utf-8')\n",
    "data1.head()"
   ]
  },
  {
   "cell_type": "code",
   "execution_count": null,
   "metadata": {},
   "outputs": [],
   "source": [
    "# Mostrara estadiscticas descriptivas de las columnas numericas\n",
    "data1.describe()"
   ]
  },
  {
   "cell_type": "code",
   "execution_count": null,
   "metadata": {},
   "outputs": [],
   "source": [
    "# calcula la frecuencia de repetición de diferentes 'street'\n",
    "data1.calle.value_counts().head()"
   ]
  },
  {
   "cell_type": "code",
   "execution_count": null,
   "metadata": {},
   "outputs": [],
   "source": [
    "# Transforma el conteo de las variables en porcentajes '%'\n",
    "data1.calle.value_counts(normalize=True)"
   ]
  },
  {
   "cell_type": "code",
   "execution_count": null,
   "metadata": {},
   "outputs": [],
   "source": [
    "# Buscar valores unicos\n",
    "data1.cruce.unique()"
   ]
  },
  {
   "cell_type": "code",
   "execution_count": null,
   "metadata": {},
   "outputs": [],
   "source": [
    "# number of unique values\n",
    "data1.cruce.nunique()"
   ]
  },
  {
   "cell_type": "code",
   "execution_count": null,
   "metadata": {},
   "outputs": [],
   "source": [
    "Baltimore.columns"
   ]
  },
  {
   "cell_type": "code",
   "execution_count": null,
   "metadata": {},
   "outputs": [],
   "source": [
    "# crosstab es util para explorar mas el data\n",
    "pd.crosstab(Baltimore['Zip_Codes'], Baltimore['orientacion'])"
   ]
  },
  {
   "cell_type": "code",
   "execution_count": null,
   "metadata": {},
   "outputs": [],
   "source": [
    "# Eliminar multiples columnas\n",
    "list_drop =['direccion', 'interseccion']\n",
    "Baltimore.drop(list_drop, axis=1, inplace=False)"
   ]
  },
  {
   "cell_type": "code",
   "execution_count": null,
   "metadata": {},
   "outputs": [],
   "source": [
    "Baltimore.shape"
   ]
  },
  {
   "cell_type": "code",
   "execution_count": null,
   "metadata": {},
   "outputs": [],
   "source": [
    "Baltimore.head()"
   ]
  },
  {
   "cell_type": "markdown",
   "metadata": {},
   "source": [
    "## <span style=color:green><ins>Pandas DataFrame: Eliminar Lineas</ins></span>"
   ]
  },
  {
   "cell_type": "code",
   "execution_count": null,
   "metadata": {},
   "outputs": [],
   "source": [
    "Baltimore.shape"
   ]
  },
  {
   "cell_type": "code",
   "execution_count": null,
   "metadata": {},
   "outputs": [],
   "source": [
    "Baltimore.head()"
   ]
  },
  {
   "cell_type": "code",
   "execution_count": null,
   "metadata": {},
   "outputs": [],
   "source": [
    "# Eliminar filas 0 y 1\n",
    "# axis=0 es el default, tecnicamente, no es necesario incluir el argumento\n",
    "rows = [0, 1]\n",
    "Baltimore.drop(rows, axis=0, inplace=True)\n",
    "Baltimore.shape"
   ]
  },
  {
   "cell_type": "code",
   "execution_count": null,
   "metadata": {},
   "outputs": [],
   "source": [
    "Baltimore.head()"
   ]
  },
  {
   "cell_type": "markdown",
   "metadata": {},
   "source": [
    "### <span style=color:blue><ins>Ordenar - sort_values()</ins></span>"
   ]
  },
  {
   "cell_type": "code",
   "execution_count": null,
   "metadata": {},
   "outputs": [],
   "source": [
    "# ordenar usando sort_values\n",
    "# ordenar con numeros primero, luego orden alfabetico\n",
    "Baltimore['Zip_Codes'].sort_values().tail()\n",
    "# Baltimore.address.sort_values().head()"
   ]
  },
  {
   "cell_type": "code",
   "execution_count": null,
   "metadata": {},
   "outputs": [],
   "source": [
    "Baltimore.sort_values('Zip_Codes', ascending=True).head()"
   ]
  },
  {
   "cell_type": "code",
   "execution_count": null,
   "metadata": {},
   "outputs": [],
   "source": [
    "# otra alternativa a ordenar/sort\n",
    "Baltimore['calle'].sort_values().head()"
   ]
  },
  {
   "cell_type": "code",
   "execution_count": null,
   "metadata": {},
   "outputs": [],
   "source": [
    "Baltimore.columns"
   ]
  },
  {
   "cell_type": "markdown",
   "metadata": {},
   "source": [
    "## <span style=color:green><ins>Ordenar un DataFrame usando multiple columnas</ins></span>"
   ]
  },
  {
   "cell_type": "code",
   "execution_count": null,
   "metadata": {},
   "outputs": [],
   "source": [
    "# Creamos una lista de columnas\n",
    "\n",
    "columna = ['orientacion', 'Zip_Codes']\n",
    "\n",
    "# Ordenamos columnas. OJO!! No es correcto hacerlo con estas variables\n",
    "Baltimore.sort_values(columna)"
   ]
  },
  {
   "cell_type": "code",
   "execution_count": null,
   "metadata": {},
   "outputs": [],
   "source": [
    "# Usando \"groupby\" in panda\n",
    "Baltimore.groupby('orientacion').count()"
   ]
  },
  {
   "cell_type": "code",
   "execution_count": null,
   "metadata": {},
   "outputs": [],
   "source": [
    "Baltimore.groupby('orientacion').mean().round(3)"
   ]
  },
  {
   "cell_type": "code",
   "execution_count": null,
   "metadata": {},
   "outputs": [],
   "source": [
    "Baltimore.groupby('orientacion').lon.mean()"
   ]
  },
  {
   "cell_type": "code",
   "execution_count": null,
   "metadata": {},
   "outputs": [],
   "source": [
    "# Resultados agregados\n",
    "Baltimore.groupby('orientacion').Zip_Codes.agg(['count','min','max','mean'])"
   ]
  },
  {
   "cell_type": "code",
   "execution_count": null,
   "metadata": {},
   "outputs": [],
   "source": [
    "# Accedemos todos S/B en la column \"orientacion\"\n",
    "# data[data.orientacion=='S/B'].head()\n",
    "# data[data.orientacion=='S/B'].tail()\n",
    "# data[data.orientacion=='S/B']\n",
    "# data[data.orientacion=='S/B'].mean()\n",
    "#data[data.orientacion=='S/B'].max()\n",
    "Baltimore[Baltimore.orientacion == 'S/B'].min()"
   ]
  },
  {
   "cell_type": "code",
   "execution_count": null,
   "metadata": {},
   "outputs": [],
   "source": [
    "Baltimore.columns"
   ]
  },
  {
   "cell_type": "code",
   "execution_count": null,
   "metadata": {},
   "outputs": [],
   "source": [
    "# Buscar/extraer lineas que contengas un valor especifico en su contenido\n",
    "Baltimore[Baltimore.calle == 'Erdman']"
   ]
  },
  {
   "cell_type": "code",
   "execution_count": null,
   "metadata": {},
   "outputs": [],
   "source": [
    "Baltimore.head()"
   ]
  },
  {
   "cell_type": "code",
   "execution_count": null,
   "metadata": {},
   "outputs": [],
   "source": [
    "BaltimoreDraft_1 = Baltimore.groupby('orientacion').mean()\n",
    "BaltimoreDraft_1"
   ]
  },
  {
   "cell_type": "code",
   "execution_count": null,
   "metadata": {},
   "outputs": [],
   "source": [
    "# Mostrar el directorio de trabajo\n",
    "print(os.getcwd())"
   ]
  },
  {
   "cell_type": "code",
   "execution_count": null,
   "metadata": {},
   "outputs": [],
   "source": [
    "# Establecer nuevo directorio de trabajo a la carpeta Proyecto/Data/RawData\n",
    "\n",
    "RData = 'D://Documents//EureCat//Formacion//Eurecat 2019//Programa Formacion Violeta//Projecto//Data//Rawdata'\n",
    "os.chdir(RData)"
   ]
  },
  {
   "cell_type": "code",
   "execution_count": null,
   "metadata": {},
   "outputs": [],
   "source": [
    "# Guardamos el dataset preprocesado\n",
    "data.to_csv('BaltimoreDraft_1.csv', sep=',', encoding='utf-8', index=False)"
   ]
  },
  {
   "cell_type": "code",
   "execution_count": null,
   "metadata": {},
   "outputs": [],
   "source": [
    "# Mostrar archivos del directorio\n",
    "os.listdir(os.curdir)"
   ]
  },
  {
   "cell_type": "markdown",
   "metadata": {},
   "source": [
    "## <span style=color:green><ins>Metodos Utiles con STRINGS</ins></span>"
   ]
  },
  {
   "cell_type": "code",
   "execution_count": 46,
   "metadata": {},
   "outputs": [],
   "source": [
    "# Importamos librerias necesarias\n",
    "import os\n",
    "import pandas as pd\n",
    "import numpy as np"
   ]
  },
  {
   "cell_type": "code",
   "execution_count": 47,
   "metadata": {},
   "outputs": [
    {
     "name": "stdout",
     "output_type": "stream",
     "text": [
      "D:\\Documents\\EureCat\\Formacion\\Eurecat 2019\\Programa Formacion Violeta\\Projecto\\Data\\Rawdata\n"
     ]
    }
   ],
   "source": [
    "# Mostrar el directorio de trabajo\n",
    "print(os.getcwd())"
   ]
  },
  {
   "cell_type": "code",
   "execution_count": 48,
   "metadata": {},
   "outputs": [],
   "source": [
    "# Establecer nuevo directorio de trabajo a la carpeta Proyecto/Data/RawData\n",
    "\n",
    "RData = 'D:\\\\Documents\\\\EureCat\\\\Formacion\\\\Eurecat 2019\\\\Programa Formacion Violeta\\\\Projecto\\\\Data\\\\Rawdata'\n",
    "os.chdir(RData)"
   ]
  },
  {
   "cell_type": "code",
   "execution_count": null,
   "metadata": {},
   "outputs": [],
   "source": [
    "# Verificamos el nuevo directorio de trabajo\n",
    "print(os.getcwd())"
   ]
  },
  {
   "cell_type": "code",
   "execution_count": null,
   "metadata": {},
   "outputs": [],
   "source": [
    "# Mostrar archivos del directorio\n",
    "os.listdir(os.curdir)"
   ]
  },
  {
   "cell_type": "code",
   "execution_count": null,
   "metadata": {},
   "outputs": [],
   "source": [
    "url = 'http://bit.ly/chiporders'\n",
    "# orders = pd.read_table(url)\n",
    "orders = pd.read_csv(url, sep='\\t')"
   ]
  },
  {
   "cell_type": "code",
   "execution_count": null,
   "metadata": {},
   "outputs": [],
   "source": [
    "# Guardamos el dataset preprocesado\n",
    "orders.to_csv('chiporders.csv', sep=',', encoding='utf-8', index=False)"
   ]
  },
  {
   "cell_type": "code",
   "execution_count": null,
   "metadata": {},
   "outputs": [],
   "source": [
    "# Eliminar la carga de memoria \n",
    "%reset -fs"
   ]
  },
  {
   "cell_type": "code",
   "execution_count": null,
   "metadata": {
    "scrolled": true
   },
   "outputs": [],
   "source": [
    "import os\n",
    "import pandas as pd\n",
    "\n",
    "os.listdir(os.curdir)"
   ]
  },
  {
   "cell_type": "code",
   "execution_count": 49,
   "metadata": {},
   "outputs": [],
   "source": [
    "orders = pd.read_csv('chiporders.csv', sep=',')"
   ]
  },
  {
   "cell_type": "code",
   "execution_count": 50,
   "metadata": {},
   "outputs": [
    {
     "data": {
      "text/plain": [
       "(4622, 5)"
      ]
     },
     "execution_count": 50,
     "metadata": {},
     "output_type": "execute_result"
    }
   ],
   "source": [
    "orders.shape"
   ]
  },
  {
   "cell_type": "code",
   "execution_count": 51,
   "metadata": {},
   "outputs": [
    {
     "data": {
      "text/html": [
       "<div>\n",
       "<style scoped>\n",
       "    .dataframe tbody tr th:only-of-type {\n",
       "        vertical-align: middle;\n",
       "    }\n",
       "\n",
       "    .dataframe tbody tr th {\n",
       "        vertical-align: top;\n",
       "    }\n",
       "\n",
       "    .dataframe thead th {\n",
       "        text-align: right;\n",
       "    }\n",
       "</style>\n",
       "<table border=\"1\" class=\"dataframe\">\n",
       "  <thead>\n",
       "    <tr style=\"text-align: right;\">\n",
       "      <th></th>\n",
       "      <th>order_id</th>\n",
       "      <th>quantity</th>\n",
       "      <th>item_name</th>\n",
       "      <th>choice_description</th>\n",
       "      <th>item_price</th>\n",
       "    </tr>\n",
       "  </thead>\n",
       "  <tbody>\n",
       "    <tr>\n",
       "      <th>0</th>\n",
       "      <td>1</td>\n",
       "      <td>1</td>\n",
       "      <td>Chips and Fresh Tomato Salsa</td>\n",
       "      <td>NaN</td>\n",
       "      <td>$2.39</td>\n",
       "    </tr>\n",
       "    <tr>\n",
       "      <th>1</th>\n",
       "      <td>1</td>\n",
       "      <td>1</td>\n",
       "      <td>Izze</td>\n",
       "      <td>[Clementine]</td>\n",
       "      <td>$3.39</td>\n",
       "    </tr>\n",
       "    <tr>\n",
       "      <th>2</th>\n",
       "      <td>1</td>\n",
       "      <td>1</td>\n",
       "      <td>Nantucket Nectar</td>\n",
       "      <td>[Apple]</td>\n",
       "      <td>$3.39</td>\n",
       "    </tr>\n",
       "    <tr>\n",
       "      <th>3</th>\n",
       "      <td>1</td>\n",
       "      <td>1</td>\n",
       "      <td>Chips and Tomatillo-Green Chili Salsa</td>\n",
       "      <td>NaN</td>\n",
       "      <td>$2.39</td>\n",
       "    </tr>\n",
       "    <tr>\n",
       "      <th>4</th>\n",
       "      <td>2</td>\n",
       "      <td>2</td>\n",
       "      <td>Chicken Bowl</td>\n",
       "      <td>[Tomatillo-Red Chili Salsa (Hot), [Black Beans...</td>\n",
       "      <td>$16.98</td>\n",
       "    </tr>\n",
       "  </tbody>\n",
       "</table>\n",
       "</div>"
      ],
      "text/plain": [
       "   order_id  quantity                              item_name  \\\n",
       "0         1         1           Chips and Fresh Tomato Salsa   \n",
       "1         1         1                                   Izze   \n",
       "2         1         1                       Nantucket Nectar   \n",
       "3         1         1  Chips and Tomatillo-Green Chili Salsa   \n",
       "4         2         2                           Chicken Bowl   \n",
       "\n",
       "                                  choice_description item_price  \n",
       "0                                                NaN     $2.39   \n",
       "1                                       [Clementine]     $3.39   \n",
       "2                                            [Apple]     $3.39   \n",
       "3                                                NaN     $2.39   \n",
       "4  [Tomatillo-Red Chili Salsa (Hot), [Black Beans...    $16.98   "
      ]
     },
     "execution_count": 51,
     "metadata": {},
     "output_type": "execute_result"
    }
   ],
   "source": [
    "orders.head()"
   ]
  },
  {
   "cell_type": "code",
   "execution_count": 52,
   "metadata": {},
   "outputs": [
    {
     "data": {
      "text/plain": [
       "Index(['order_id', 'quantity', 'item_name', 'choice_description',\n",
       "       'item_price'],\n",
       "      dtype='object')"
      ]
     },
     "execution_count": 52,
     "metadata": {},
     "output_type": "execute_result"
    }
   ],
   "source": [
    "orders.columns"
   ]
  },
  {
   "cell_type": "code",
   "execution_count": 53,
   "metadata": {},
   "outputs": [],
   "source": [
    "orders.columns = orders.columns.str.upper()"
   ]
  },
  {
   "cell_type": "code",
   "execution_count": 54,
   "metadata": {},
   "outputs": [
    {
     "data": {
      "text/html": [
       "<div>\n",
       "<style scoped>\n",
       "    .dataframe tbody tr th:only-of-type {\n",
       "        vertical-align: middle;\n",
       "    }\n",
       "\n",
       "    .dataframe tbody tr th {\n",
       "        vertical-align: top;\n",
       "    }\n",
       "\n",
       "    .dataframe thead th {\n",
       "        text-align: right;\n",
       "    }\n",
       "</style>\n",
       "<table border=\"1\" class=\"dataframe\">\n",
       "  <thead>\n",
       "    <tr style=\"text-align: right;\">\n",
       "      <th></th>\n",
       "      <th>ORDER_ID</th>\n",
       "      <th>QUANTITY</th>\n",
       "      <th>ITEM_NAME</th>\n",
       "      <th>CHOICE_DESCRIPTION</th>\n",
       "      <th>ITEM_PRICE</th>\n",
       "    </tr>\n",
       "  </thead>\n",
       "  <tbody>\n",
       "    <tr>\n",
       "      <th>0</th>\n",
       "      <td>1</td>\n",
       "      <td>1</td>\n",
       "      <td>Chips and Fresh Tomato Salsa</td>\n",
       "      <td>NaN</td>\n",
       "      <td>$2.39</td>\n",
       "    </tr>\n",
       "    <tr>\n",
       "      <th>1</th>\n",
       "      <td>1</td>\n",
       "      <td>1</td>\n",
       "      <td>Izze</td>\n",
       "      <td>[Clementine]</td>\n",
       "      <td>$3.39</td>\n",
       "    </tr>\n",
       "    <tr>\n",
       "      <th>2</th>\n",
       "      <td>1</td>\n",
       "      <td>1</td>\n",
       "      <td>Nantucket Nectar</td>\n",
       "      <td>[Apple]</td>\n",
       "      <td>$3.39</td>\n",
       "    </tr>\n",
       "    <tr>\n",
       "      <th>3</th>\n",
       "      <td>1</td>\n",
       "      <td>1</td>\n",
       "      <td>Chips and Tomatillo-Green Chili Salsa</td>\n",
       "      <td>NaN</td>\n",
       "      <td>$2.39</td>\n",
       "    </tr>\n",
       "    <tr>\n",
       "      <th>4</th>\n",
       "      <td>2</td>\n",
       "      <td>2</td>\n",
       "      <td>Chicken Bowl</td>\n",
       "      <td>[Tomatillo-Red Chili Salsa (Hot), [Black Beans...</td>\n",
       "      <td>$16.98</td>\n",
       "    </tr>\n",
       "  </tbody>\n",
       "</table>\n",
       "</div>"
      ],
      "text/plain": [
       "   ORDER_ID  QUANTITY                              ITEM_NAME  \\\n",
       "0         1         1           Chips and Fresh Tomato Salsa   \n",
       "1         1         1                                   Izze   \n",
       "2         1         1                       Nantucket Nectar   \n",
       "3         1         1  Chips and Tomatillo-Green Chili Salsa   \n",
       "4         2         2                           Chicken Bowl   \n",
       "\n",
       "                                  CHOICE_DESCRIPTION ITEM_PRICE  \n",
       "0                                                NaN     $2.39   \n",
       "1                                       [Clementine]     $3.39   \n",
       "2                                            [Apple]     $3.39   \n",
       "3                                                NaN     $2.39   \n",
       "4  [Tomatillo-Red Chili Salsa (Hot), [Black Beans...    $16.98   "
      ]
     },
     "execution_count": 54,
     "metadata": {},
     "output_type": "execute_result"
    }
   ],
   "source": [
    "orders.head()"
   ]
  },
  {
   "cell_type": "code",
   "execution_count": null,
   "metadata": {},
   "outputs": [],
   "source": [
    "orders.columns.values.tolist()"
   ]
  },
  {
   "cell_type": "code",
   "execution_count": 55,
   "metadata": {},
   "outputs": [
    {
     "data": {
      "text/plain": [
       "ORDER_ID               int64\n",
       "QUANTITY               int64\n",
       "ITEM_NAME             object\n",
       "CHOICE_DESCRIPTION    object\n",
       "ITEM_PRICE            object\n",
       "dtype: object"
      ]
     },
     "execution_count": 55,
     "metadata": {},
     "output_type": "execute_result"
    }
   ],
   "source": [
    "orders.dtypes"
   ]
  },
  {
   "cell_type": "code",
   "execution_count": 56,
   "metadata": {},
   "outputs": [
    {
     "data": {
      "text/plain": [
       "0             Chips and Fresh Tomato Salsa\n",
       "1                                     Izze\n",
       "2                         Nantucket Nectar\n",
       "3    Chips and Tomatillo-Green Chili Salsa\n",
       "4                             Chicken Bowl\n",
       "Name: ITEM_NAME, dtype: object"
      ]
     },
     "execution_count": 56,
     "metadata": {},
     "output_type": "execute_result"
    }
   ],
   "source": [
    "orders['ITEM_NAME'].head()"
   ]
  },
  {
   "cell_type": "code",
   "execution_count": 57,
   "metadata": {},
   "outputs": [],
   "source": [
    "# Podemos sobre-escribir el contenido de una variable con el siguiente código\n",
    "# data.nombre_variable = data.nombre_variable.str.upper()\n",
    "orders.ITEM_NAME = orders.ITEM_NAME.str.upper()"
   ]
  },
  {
   "cell_type": "code",
   "execution_count": 58,
   "metadata": {},
   "outputs": [
    {
     "data": {
      "text/plain": [
       "0             CHIPS AND FRESH TOMATO SALSA\n",
       "1                                     IZZE\n",
       "2                         NANTUCKET NECTAR\n",
       "3    CHIPS AND TOMATILLO-GREEN CHILI SALSA\n",
       "4                             CHICKEN BOWL\n",
       "Name: ITEM_NAME, dtype: object"
      ]
     },
     "execution_count": 58,
     "metadata": {},
     "output_type": "execute_result"
    }
   ],
   "source": [
    "orders['ITEM_NAME'].head()"
   ]
  },
  {
   "cell_type": "code",
   "execution_count": 61,
   "metadata": {},
   "outputs": [
    {
     "data": {
      "text/plain": [
       "array(['CHIPS AND FRESH TOMATO SALSA',\n",
       "       'CHIPS AND MILD FRESH TOMATO SALSA'], dtype=object)"
      ]
     },
     "execution_count": 61,
     "metadata": {},
     "output_type": "execute_result"
    }
   ],
   "source": [
    "# Verificar presencia de substrings. Util para filtrar data\n",
    "# orders.ITEM_NAME.str.contains('SAL')\n",
    "\n",
    "orders1 = orders.loc[orders.ITEM_NAME.str.contains('FRE')]\n",
    "orders1.ITEM_NAME.unique()"
   ]
  },
  {
   "cell_type": "code",
   "execution_count": 62,
   "metadata": {},
   "outputs": [
    {
     "data": {
      "text/html": [
       "<div>\n",
       "<style scoped>\n",
       "    .dataframe tbody tr th:only-of-type {\n",
       "        vertical-align: middle;\n",
       "    }\n",
       "\n",
       "    .dataframe tbody tr th {\n",
       "        vertical-align: top;\n",
       "    }\n",
       "\n",
       "    .dataframe thead th {\n",
       "        text-align: right;\n",
       "    }\n",
       "</style>\n",
       "<table border=\"1\" class=\"dataframe\">\n",
       "  <thead>\n",
       "    <tr style=\"text-align: right;\">\n",
       "      <th></th>\n",
       "      <th>ORDER_ID</th>\n",
       "      <th>QUANTITY</th>\n",
       "      <th>ITEM_NAME</th>\n",
       "      <th>CHOICE_DESCRIPTION</th>\n",
       "      <th>ITEM_PRICE</th>\n",
       "    </tr>\n",
       "  </thead>\n",
       "  <tbody>\n",
       "    <tr>\n",
       "      <th>1</th>\n",
       "      <td>1</td>\n",
       "      <td>1</td>\n",
       "      <td>IZZE</td>\n",
       "      <td>[Clementine]</td>\n",
       "      <td>$3.39</td>\n",
       "    </tr>\n",
       "    <tr>\n",
       "      <th>24</th>\n",
       "      <td>12</td>\n",
       "      <td>1</td>\n",
       "      <td>IZZE</td>\n",
       "      <td>[Grapefruit]</td>\n",
       "      <td>$3.39</td>\n",
       "    </tr>\n",
       "    <tr>\n",
       "      <th>47</th>\n",
       "      <td>21</td>\n",
       "      <td>1</td>\n",
       "      <td>IZZE</td>\n",
       "      <td>[Blackberry]</td>\n",
       "      <td>$3.39</td>\n",
       "    </tr>\n",
       "    <tr>\n",
       "      <th>66</th>\n",
       "      <td>30</td>\n",
       "      <td>1</td>\n",
       "      <td>IZZE</td>\n",
       "      <td>[Blackberry]</td>\n",
       "      <td>$3.39</td>\n",
       "    </tr>\n",
       "    <tr>\n",
       "      <th>359</th>\n",
       "      <td>155</td>\n",
       "      <td>1</td>\n",
       "      <td>IZZE</td>\n",
       "      <td>[Blackberry]</td>\n",
       "      <td>$3.39</td>\n",
       "    </tr>\n",
       "    <tr>\n",
       "      <th>360</th>\n",
       "      <td>155</td>\n",
       "      <td>1</td>\n",
       "      <td>IZZE</td>\n",
       "      <td>[Grapefruit]</td>\n",
       "      <td>$3.39</td>\n",
       "    </tr>\n",
       "    <tr>\n",
       "      <th>430</th>\n",
       "      <td>186</td>\n",
       "      <td>1</td>\n",
       "      <td>IZZE</td>\n",
       "      <td>[Grapefruit]</td>\n",
       "      <td>$3.39</td>\n",
       "    </tr>\n",
       "    <tr>\n",
       "      <th>579</th>\n",
       "      <td>237</td>\n",
       "      <td>1</td>\n",
       "      <td>IZZE</td>\n",
       "      <td>[Clementine]</td>\n",
       "      <td>$3.39</td>\n",
       "    </tr>\n",
       "    <tr>\n",
       "      <th>580</th>\n",
       "      <td>237</td>\n",
       "      <td>1</td>\n",
       "      <td>IZZE</td>\n",
       "      <td>[Grapefruit]</td>\n",
       "      <td>$3.39</td>\n",
       "    </tr>\n",
       "    <tr>\n",
       "      <th>1059</th>\n",
       "      <td>436</td>\n",
       "      <td>1</td>\n",
       "      <td>IZZE</td>\n",
       "      <td>[Clementine]</td>\n",
       "      <td>$3.39</td>\n",
       "    </tr>\n",
       "    <tr>\n",
       "      <th>1213</th>\n",
       "      <td>495</td>\n",
       "      <td>1</td>\n",
       "      <td>IZZE</td>\n",
       "      <td>[Clementine]</td>\n",
       "      <td>$3.39</td>\n",
       "    </tr>\n",
       "    <tr>\n",
       "      <th>1611</th>\n",
       "      <td>651</td>\n",
       "      <td>1</td>\n",
       "      <td>IZZE</td>\n",
       "      <td>[Blackberry]</td>\n",
       "      <td>$3.39</td>\n",
       "    </tr>\n",
       "    <tr>\n",
       "      <th>1612</th>\n",
       "      <td>651</td>\n",
       "      <td>1</td>\n",
       "      <td>IZZE</td>\n",
       "      <td>[Blackberry]</td>\n",
       "      <td>$3.39</td>\n",
       "    </tr>\n",
       "    <tr>\n",
       "      <th>1680</th>\n",
       "      <td>680</td>\n",
       "      <td>1</td>\n",
       "      <td>IZZE</td>\n",
       "      <td>[Clementine]</td>\n",
       "      <td>$3.39</td>\n",
       "    </tr>\n",
       "    <tr>\n",
       "      <th>2088</th>\n",
       "      <td>842</td>\n",
       "      <td>1</td>\n",
       "      <td>IZZE</td>\n",
       "      <td>[Clementine]</td>\n",
       "      <td>$3.39</td>\n",
       "    </tr>\n",
       "    <tr>\n",
       "      <th>2619</th>\n",
       "      <td>1040</td>\n",
       "      <td>1</td>\n",
       "      <td>IZZE</td>\n",
       "      <td>[Clementine]</td>\n",
       "      <td>$3.39</td>\n",
       "    </tr>\n",
       "    <tr>\n",
       "      <th>2634</th>\n",
       "      <td>1046</td>\n",
       "      <td>1</td>\n",
       "      <td>IZZE</td>\n",
       "      <td>[Clementine]</td>\n",
       "      <td>$3.39</td>\n",
       "    </tr>\n",
       "    <tr>\n",
       "      <th>2758</th>\n",
       "      <td>1095</td>\n",
       "      <td>1</td>\n",
       "      <td>IZZE</td>\n",
       "      <td>[Blackberry]</td>\n",
       "      <td>$3.39</td>\n",
       "    </tr>\n",
       "    <tr>\n",
       "      <th>2891</th>\n",
       "      <td>1149</td>\n",
       "      <td>1</td>\n",
       "      <td>IZZE</td>\n",
       "      <td>[Blackberry]</td>\n",
       "      <td>$3.39</td>\n",
       "    </tr>\n",
       "    <tr>\n",
       "      <th>3669</th>\n",
       "      <td>1468</td>\n",
       "      <td>1</td>\n",
       "      <td>IZZE</td>\n",
       "      <td>[Blackberry]</td>\n",
       "      <td>$3.39</td>\n",
       "    </tr>\n",
       "  </tbody>\n",
       "</table>\n",
       "</div>"
      ],
      "text/plain": [
       "      ORDER_ID  QUANTITY ITEM_NAME CHOICE_DESCRIPTION ITEM_PRICE\n",
       "1            1         1      IZZE       [Clementine]     $3.39 \n",
       "24          12         1      IZZE       [Grapefruit]     $3.39 \n",
       "47          21         1      IZZE       [Blackberry]     $3.39 \n",
       "66          30         1      IZZE       [Blackberry]     $3.39 \n",
       "359        155         1      IZZE       [Blackberry]     $3.39 \n",
       "360        155         1      IZZE       [Grapefruit]     $3.39 \n",
       "430        186         1      IZZE       [Grapefruit]     $3.39 \n",
       "579        237         1      IZZE       [Clementine]     $3.39 \n",
       "580        237         1      IZZE       [Grapefruit]     $3.39 \n",
       "1059       436         1      IZZE       [Clementine]     $3.39 \n",
       "1213       495         1      IZZE       [Clementine]     $3.39 \n",
       "1611       651         1      IZZE       [Blackberry]     $3.39 \n",
       "1612       651         1      IZZE       [Blackberry]     $3.39 \n",
       "1680       680         1      IZZE       [Clementine]     $3.39 \n",
       "2088       842         1      IZZE       [Clementine]     $3.39 \n",
       "2619      1040         1      IZZE       [Clementine]     $3.39 \n",
       "2634      1046         1      IZZE       [Clementine]     $3.39 \n",
       "2758      1095         1      IZZE       [Blackberry]     $3.39 \n",
       "2891      1149         1      IZZE       [Blackberry]     $3.39 \n",
       "3669      1468         1      IZZE       [Blackberry]     $3.39 "
      ]
     },
     "execution_count": 62,
     "metadata": {},
     "output_type": "execute_result"
    }
   ],
   "source": [
    "orders2 = orders.loc[orders.ITEM_NAME == 'IZZE']\n",
    "orders2"
   ]
  },
  {
   "cell_type": "code",
   "execution_count": 63,
   "metadata": {},
   "outputs": [
    {
     "data": {
      "text/plain": [
       "0                                                  NaN\n",
       "1                                          Clementine]\n",
       "2                                               Apple]\n",
       "3                                                  NaN\n",
       "4    Tomatillo-Red Chili Salsa (Hot), Black Beans, ...\n",
       "Name: CHOICE_DESCRIPTION, dtype: object"
      ]
     },
     "execution_count": 63,
     "metadata": {},
     "output_type": "execute_result"
    }
   ],
   "source": [
    "# Cadena de metodos String\n",
    "# sustituir elementos\n",
    "orders.CHOICE_DESCRIPTION.str.replace('[', '').head()"
   ]
  },
  {
   "cell_type": "code",
   "execution_count": 66,
   "metadata": {},
   "outputs": [],
   "source": [
    "# Cadena de metodos strings\n",
    "orders.CHOICE_DESCRIPTION = orders.CHOICE_DESCRIPTION.str.replace('[', '').str.replace(']', '').head()"
   ]
  },
  {
   "cell_type": "code",
   "execution_count": 67,
   "metadata": {},
   "outputs": [
    {
     "data": {
      "text/html": [
       "<div>\n",
       "<style scoped>\n",
       "    .dataframe tbody tr th:only-of-type {\n",
       "        vertical-align: middle;\n",
       "    }\n",
       "\n",
       "    .dataframe tbody tr th {\n",
       "        vertical-align: top;\n",
       "    }\n",
       "\n",
       "    .dataframe thead th {\n",
       "        text-align: right;\n",
       "    }\n",
       "</style>\n",
       "<table border=\"1\" class=\"dataframe\">\n",
       "  <thead>\n",
       "    <tr style=\"text-align: right;\">\n",
       "      <th></th>\n",
       "      <th>ORDER_ID</th>\n",
       "      <th>QUANTITY</th>\n",
       "      <th>ITEM_NAME</th>\n",
       "      <th>CHOICE_DESCRIPTION</th>\n",
       "      <th>ITEM_PRICE</th>\n",
       "    </tr>\n",
       "  </thead>\n",
       "  <tbody>\n",
       "    <tr>\n",
       "      <th>0</th>\n",
       "      <td>1</td>\n",
       "      <td>1</td>\n",
       "      <td>CHIPS AND FRESH TOMATO SALSA</td>\n",
       "      <td>NaN</td>\n",
       "      <td>$2.39</td>\n",
       "    </tr>\n",
       "    <tr>\n",
       "      <th>1</th>\n",
       "      <td>1</td>\n",
       "      <td>1</td>\n",
       "      <td>IZZE</td>\n",
       "      <td>Clementine</td>\n",
       "      <td>$3.39</td>\n",
       "    </tr>\n",
       "    <tr>\n",
       "      <th>2</th>\n",
       "      <td>1</td>\n",
       "      <td>1</td>\n",
       "      <td>NANTUCKET NECTAR</td>\n",
       "      <td>Apple</td>\n",
       "      <td>$3.39</td>\n",
       "    </tr>\n",
       "    <tr>\n",
       "      <th>3</th>\n",
       "      <td>1</td>\n",
       "      <td>1</td>\n",
       "      <td>CHIPS AND TOMATILLO-GREEN CHILI SALSA</td>\n",
       "      <td>NaN</td>\n",
       "      <td>$2.39</td>\n",
       "    </tr>\n",
       "    <tr>\n",
       "      <th>4</th>\n",
       "      <td>2</td>\n",
       "      <td>2</td>\n",
       "      <td>CHICKEN BOWL</td>\n",
       "      <td>Tomatillo-Red Chili Salsa (Hot), Black Beans, ...</td>\n",
       "      <td>$16.98</td>\n",
       "    </tr>\n",
       "    <tr>\n",
       "      <th>5</th>\n",
       "      <td>3</td>\n",
       "      <td>1</td>\n",
       "      <td>CHICKEN BOWL</td>\n",
       "      <td>NaN</td>\n",
       "      <td>$10.98</td>\n",
       "    </tr>\n",
       "    <tr>\n",
       "      <th>6</th>\n",
       "      <td>3</td>\n",
       "      <td>1</td>\n",
       "      <td>SIDE OF CHIPS</td>\n",
       "      <td>NaN</td>\n",
       "      <td>$1.69</td>\n",
       "    </tr>\n",
       "    <tr>\n",
       "      <th>7</th>\n",
       "      <td>4</td>\n",
       "      <td>1</td>\n",
       "      <td>STEAK BURRITO</td>\n",
       "      <td>NaN</td>\n",
       "      <td>$11.75</td>\n",
       "    </tr>\n",
       "    <tr>\n",
       "      <th>8</th>\n",
       "      <td>4</td>\n",
       "      <td>1</td>\n",
       "      <td>STEAK SOFT TACOS</td>\n",
       "      <td>NaN</td>\n",
       "      <td>$9.25</td>\n",
       "    </tr>\n",
       "    <tr>\n",
       "      <th>9</th>\n",
       "      <td>5</td>\n",
       "      <td>1</td>\n",
       "      <td>STEAK BURRITO</td>\n",
       "      <td>NaN</td>\n",
       "      <td>$9.25</td>\n",
       "    </tr>\n",
       "    <tr>\n",
       "      <th>10</th>\n",
       "      <td>5</td>\n",
       "      <td>1</td>\n",
       "      <td>CHIPS AND GUACAMOLE</td>\n",
       "      <td>NaN</td>\n",
       "      <td>$4.45</td>\n",
       "    </tr>\n",
       "    <tr>\n",
       "      <th>11</th>\n",
       "      <td>6</td>\n",
       "      <td>1</td>\n",
       "      <td>CHICKEN CRISPY TACOS</td>\n",
       "      <td>NaN</td>\n",
       "      <td>$8.75</td>\n",
       "    </tr>\n",
       "    <tr>\n",
       "      <th>12</th>\n",
       "      <td>6</td>\n",
       "      <td>1</td>\n",
       "      <td>CHICKEN SOFT TACOS</td>\n",
       "      <td>NaN</td>\n",
       "      <td>$8.75</td>\n",
       "    </tr>\n",
       "    <tr>\n",
       "      <th>13</th>\n",
       "      <td>7</td>\n",
       "      <td>1</td>\n",
       "      <td>CHICKEN BOWL</td>\n",
       "      <td>NaN</td>\n",
       "      <td>$11.25</td>\n",
       "    </tr>\n",
       "    <tr>\n",
       "      <th>14</th>\n",
       "      <td>7</td>\n",
       "      <td>1</td>\n",
       "      <td>CHIPS AND GUACAMOLE</td>\n",
       "      <td>NaN</td>\n",
       "      <td>$4.45</td>\n",
       "    </tr>\n",
       "    <tr>\n",
       "      <th>15</th>\n",
       "      <td>8</td>\n",
       "      <td>1</td>\n",
       "      <td>CHIPS AND TOMATILLO-GREEN CHILI SALSA</td>\n",
       "      <td>NaN</td>\n",
       "      <td>$2.39</td>\n",
       "    </tr>\n",
       "    <tr>\n",
       "      <th>16</th>\n",
       "      <td>8</td>\n",
       "      <td>1</td>\n",
       "      <td>CHICKEN BURRITO</td>\n",
       "      <td>NaN</td>\n",
       "      <td>$8.49</td>\n",
       "    </tr>\n",
       "    <tr>\n",
       "      <th>17</th>\n",
       "      <td>9</td>\n",
       "      <td>1</td>\n",
       "      <td>CHICKEN BURRITO</td>\n",
       "      <td>NaN</td>\n",
       "      <td>$8.49</td>\n",
       "    </tr>\n",
       "    <tr>\n",
       "      <th>18</th>\n",
       "      <td>9</td>\n",
       "      <td>2</td>\n",
       "      <td>CANNED SODA</td>\n",
       "      <td>NaN</td>\n",
       "      <td>$2.18</td>\n",
       "    </tr>\n",
       "    <tr>\n",
       "      <th>19</th>\n",
       "      <td>10</td>\n",
       "      <td>1</td>\n",
       "      <td>CHICKEN BOWL</td>\n",
       "      <td>NaN</td>\n",
       "      <td>$8.75</td>\n",
       "    </tr>\n",
       "    <tr>\n",
       "      <th>20</th>\n",
       "      <td>10</td>\n",
       "      <td>1</td>\n",
       "      <td>CHIPS AND GUACAMOLE</td>\n",
       "      <td>NaN</td>\n",
       "      <td>$4.45</td>\n",
       "    </tr>\n",
       "    <tr>\n",
       "      <th>21</th>\n",
       "      <td>11</td>\n",
       "      <td>1</td>\n",
       "      <td>BARBACOA BURRITO</td>\n",
       "      <td>NaN</td>\n",
       "      <td>$8.99</td>\n",
       "    </tr>\n",
       "    <tr>\n",
       "      <th>22</th>\n",
       "      <td>11</td>\n",
       "      <td>1</td>\n",
       "      <td>NANTUCKET NECTAR</td>\n",
       "      <td>NaN</td>\n",
       "      <td>$3.39</td>\n",
       "    </tr>\n",
       "    <tr>\n",
       "      <th>23</th>\n",
       "      <td>12</td>\n",
       "      <td>1</td>\n",
       "      <td>CHICKEN BURRITO</td>\n",
       "      <td>NaN</td>\n",
       "      <td>$10.98</td>\n",
       "    </tr>\n",
       "    <tr>\n",
       "      <th>24</th>\n",
       "      <td>12</td>\n",
       "      <td>1</td>\n",
       "      <td>IZZE</td>\n",
       "      <td>NaN</td>\n",
       "      <td>$3.39</td>\n",
       "    </tr>\n",
       "    <tr>\n",
       "      <th>25</th>\n",
       "      <td>13</td>\n",
       "      <td>1</td>\n",
       "      <td>CHIPS AND FRESH TOMATO SALSA</td>\n",
       "      <td>NaN</td>\n",
       "      <td>$2.39</td>\n",
       "    </tr>\n",
       "    <tr>\n",
       "      <th>26</th>\n",
       "      <td>13</td>\n",
       "      <td>1</td>\n",
       "      <td>CHICKEN BOWL</td>\n",
       "      <td>NaN</td>\n",
       "      <td>$8.49</td>\n",
       "    </tr>\n",
       "    <tr>\n",
       "      <th>27</th>\n",
       "      <td>14</td>\n",
       "      <td>1</td>\n",
       "      <td>CARNITAS BURRITO</td>\n",
       "      <td>NaN</td>\n",
       "      <td>$8.99</td>\n",
       "    </tr>\n",
       "    <tr>\n",
       "      <th>28</th>\n",
       "      <td>14</td>\n",
       "      <td>1</td>\n",
       "      <td>CANNED SODA</td>\n",
       "      <td>NaN</td>\n",
       "      <td>$1.09</td>\n",
       "    </tr>\n",
       "    <tr>\n",
       "      <th>29</th>\n",
       "      <td>15</td>\n",
       "      <td>1</td>\n",
       "      <td>CHICKEN BURRITO</td>\n",
       "      <td>NaN</td>\n",
       "      <td>$8.49</td>\n",
       "    </tr>\n",
       "    <tr>\n",
       "      <th>...</th>\n",
       "      <td>...</td>\n",
       "      <td>...</td>\n",
       "      <td>...</td>\n",
       "      <td>...</td>\n",
       "      <td>...</td>\n",
       "    </tr>\n",
       "    <tr>\n",
       "      <th>4592</th>\n",
       "      <td>1825</td>\n",
       "      <td>1</td>\n",
       "      <td>BARBACOA BURRITO</td>\n",
       "      <td>NaN</td>\n",
       "      <td>$11.75</td>\n",
       "    </tr>\n",
       "    <tr>\n",
       "      <th>4593</th>\n",
       "      <td>1825</td>\n",
       "      <td>1</td>\n",
       "      <td>CARNITAS BOWL</td>\n",
       "      <td>NaN</td>\n",
       "      <td>$11.75</td>\n",
       "    </tr>\n",
       "    <tr>\n",
       "      <th>4594</th>\n",
       "      <td>1825</td>\n",
       "      <td>1</td>\n",
       "      <td>BARBACOA BOWL</td>\n",
       "      <td>NaN</td>\n",
       "      <td>$11.75</td>\n",
       "    </tr>\n",
       "    <tr>\n",
       "      <th>4595</th>\n",
       "      <td>1826</td>\n",
       "      <td>1</td>\n",
       "      <td>CHICKEN BOWL</td>\n",
       "      <td>NaN</td>\n",
       "      <td>$8.75</td>\n",
       "    </tr>\n",
       "    <tr>\n",
       "      <th>4596</th>\n",
       "      <td>1826</td>\n",
       "      <td>1</td>\n",
       "      <td>CHIPS AND GUACAMOLE</td>\n",
       "      <td>NaN</td>\n",
       "      <td>$4.45</td>\n",
       "    </tr>\n",
       "    <tr>\n",
       "      <th>4597</th>\n",
       "      <td>1826</td>\n",
       "      <td>1</td>\n",
       "      <td>CANNED SOFT DRINK</td>\n",
       "      <td>NaN</td>\n",
       "      <td>$1.25</td>\n",
       "    </tr>\n",
       "    <tr>\n",
       "      <th>4598</th>\n",
       "      <td>1826</td>\n",
       "      <td>1</td>\n",
       "      <td>BOTTLED WATER</td>\n",
       "      <td>NaN</td>\n",
       "      <td>$1.50</td>\n",
       "    </tr>\n",
       "    <tr>\n",
       "      <th>4599</th>\n",
       "      <td>1827</td>\n",
       "      <td>1</td>\n",
       "      <td>CHICKEN BOWL</td>\n",
       "      <td>NaN</td>\n",
       "      <td>$8.75</td>\n",
       "    </tr>\n",
       "    <tr>\n",
       "      <th>4600</th>\n",
       "      <td>1827</td>\n",
       "      <td>1</td>\n",
       "      <td>CHIPS AND GUACAMOLE</td>\n",
       "      <td>NaN</td>\n",
       "      <td>$4.45</td>\n",
       "    </tr>\n",
       "    <tr>\n",
       "      <th>4601</th>\n",
       "      <td>1827</td>\n",
       "      <td>1</td>\n",
       "      <td>CANNED SOFT DRINK</td>\n",
       "      <td>NaN</td>\n",
       "      <td>$1.25</td>\n",
       "    </tr>\n",
       "    <tr>\n",
       "      <th>4602</th>\n",
       "      <td>1827</td>\n",
       "      <td>1</td>\n",
       "      <td>BARBACOA BURRITO</td>\n",
       "      <td>NaN</td>\n",
       "      <td>$9.25</td>\n",
       "    </tr>\n",
       "    <tr>\n",
       "      <th>4603</th>\n",
       "      <td>1827</td>\n",
       "      <td>1</td>\n",
       "      <td>BARBACOA BURRITO</td>\n",
       "      <td>NaN</td>\n",
       "      <td>$9.25</td>\n",
       "    </tr>\n",
       "    <tr>\n",
       "      <th>4604</th>\n",
       "      <td>1828</td>\n",
       "      <td>1</td>\n",
       "      <td>CHICKEN BOWL</td>\n",
       "      <td>NaN</td>\n",
       "      <td>$8.75</td>\n",
       "    </tr>\n",
       "    <tr>\n",
       "      <th>4605</th>\n",
       "      <td>1828</td>\n",
       "      <td>1</td>\n",
       "      <td>CHIPS AND GUACAMOLE</td>\n",
       "      <td>NaN</td>\n",
       "      <td>$4.45</td>\n",
       "    </tr>\n",
       "    <tr>\n",
       "      <th>4606</th>\n",
       "      <td>1828</td>\n",
       "      <td>1</td>\n",
       "      <td>CANNED SOFT DRINK</td>\n",
       "      <td>NaN</td>\n",
       "      <td>$1.25</td>\n",
       "    </tr>\n",
       "    <tr>\n",
       "      <th>4607</th>\n",
       "      <td>1829</td>\n",
       "      <td>1</td>\n",
       "      <td>STEAK BURRITO</td>\n",
       "      <td>NaN</td>\n",
       "      <td>$11.75</td>\n",
       "    </tr>\n",
       "    <tr>\n",
       "      <th>4608</th>\n",
       "      <td>1829</td>\n",
       "      <td>1</td>\n",
       "      <td>VEGGIE BURRITO</td>\n",
       "      <td>NaN</td>\n",
       "      <td>$11.25</td>\n",
       "    </tr>\n",
       "    <tr>\n",
       "      <th>4609</th>\n",
       "      <td>1829</td>\n",
       "      <td>1</td>\n",
       "      <td>CANNED SOFT DRINK</td>\n",
       "      <td>NaN</td>\n",
       "      <td>$1.25</td>\n",
       "    </tr>\n",
       "    <tr>\n",
       "      <th>4610</th>\n",
       "      <td>1830</td>\n",
       "      <td>1</td>\n",
       "      <td>STEAK BURRITO</td>\n",
       "      <td>NaN</td>\n",
       "      <td>$11.75</td>\n",
       "    </tr>\n",
       "    <tr>\n",
       "      <th>4611</th>\n",
       "      <td>1830</td>\n",
       "      <td>1</td>\n",
       "      <td>VEGGIE BURRITO</td>\n",
       "      <td>NaN</td>\n",
       "      <td>$11.25</td>\n",
       "    </tr>\n",
       "    <tr>\n",
       "      <th>4612</th>\n",
       "      <td>1831</td>\n",
       "      <td>1</td>\n",
       "      <td>CARNITAS BOWL</td>\n",
       "      <td>NaN</td>\n",
       "      <td>$9.25</td>\n",
       "    </tr>\n",
       "    <tr>\n",
       "      <th>4613</th>\n",
       "      <td>1831</td>\n",
       "      <td>1</td>\n",
       "      <td>CHIPS</td>\n",
       "      <td>NaN</td>\n",
       "      <td>$2.15</td>\n",
       "    </tr>\n",
       "    <tr>\n",
       "      <th>4614</th>\n",
       "      <td>1831</td>\n",
       "      <td>1</td>\n",
       "      <td>BOTTLED WATER</td>\n",
       "      <td>NaN</td>\n",
       "      <td>$1.50</td>\n",
       "    </tr>\n",
       "    <tr>\n",
       "      <th>4615</th>\n",
       "      <td>1832</td>\n",
       "      <td>1</td>\n",
       "      <td>CHICKEN SOFT TACOS</td>\n",
       "      <td>NaN</td>\n",
       "      <td>$8.75</td>\n",
       "    </tr>\n",
       "    <tr>\n",
       "      <th>4616</th>\n",
       "      <td>1832</td>\n",
       "      <td>1</td>\n",
       "      <td>CHIPS AND GUACAMOLE</td>\n",
       "      <td>NaN</td>\n",
       "      <td>$4.45</td>\n",
       "    </tr>\n",
       "    <tr>\n",
       "      <th>4617</th>\n",
       "      <td>1833</td>\n",
       "      <td>1</td>\n",
       "      <td>STEAK BURRITO</td>\n",
       "      <td>NaN</td>\n",
       "      <td>$11.75</td>\n",
       "    </tr>\n",
       "    <tr>\n",
       "      <th>4618</th>\n",
       "      <td>1833</td>\n",
       "      <td>1</td>\n",
       "      <td>STEAK BURRITO</td>\n",
       "      <td>NaN</td>\n",
       "      <td>$11.75</td>\n",
       "    </tr>\n",
       "    <tr>\n",
       "      <th>4619</th>\n",
       "      <td>1834</td>\n",
       "      <td>1</td>\n",
       "      <td>CHICKEN SALAD BOWL</td>\n",
       "      <td>NaN</td>\n",
       "      <td>$11.25</td>\n",
       "    </tr>\n",
       "    <tr>\n",
       "      <th>4620</th>\n",
       "      <td>1834</td>\n",
       "      <td>1</td>\n",
       "      <td>CHICKEN SALAD BOWL</td>\n",
       "      <td>NaN</td>\n",
       "      <td>$8.75</td>\n",
       "    </tr>\n",
       "    <tr>\n",
       "      <th>4621</th>\n",
       "      <td>1834</td>\n",
       "      <td>1</td>\n",
       "      <td>CHICKEN SALAD BOWL</td>\n",
       "      <td>NaN</td>\n",
       "      <td>$8.75</td>\n",
       "    </tr>\n",
       "  </tbody>\n",
       "</table>\n",
       "<p>4622 rows × 5 columns</p>\n",
       "</div>"
      ],
      "text/plain": [
       "      ORDER_ID  QUANTITY                              ITEM_NAME  \\\n",
       "0            1         1           CHIPS AND FRESH TOMATO SALSA   \n",
       "1            1         1                                   IZZE   \n",
       "2            1         1                       NANTUCKET NECTAR   \n",
       "3            1         1  CHIPS AND TOMATILLO-GREEN CHILI SALSA   \n",
       "4            2         2                           CHICKEN BOWL   \n",
       "5            3         1                           CHICKEN BOWL   \n",
       "6            3         1                          SIDE OF CHIPS   \n",
       "7            4         1                          STEAK BURRITO   \n",
       "8            4         1                       STEAK SOFT TACOS   \n",
       "9            5         1                          STEAK BURRITO   \n",
       "10           5         1                    CHIPS AND GUACAMOLE   \n",
       "11           6         1                   CHICKEN CRISPY TACOS   \n",
       "12           6         1                     CHICKEN SOFT TACOS   \n",
       "13           7         1                           CHICKEN BOWL   \n",
       "14           7         1                    CHIPS AND GUACAMOLE   \n",
       "15           8         1  CHIPS AND TOMATILLO-GREEN CHILI SALSA   \n",
       "16           8         1                        CHICKEN BURRITO   \n",
       "17           9         1                        CHICKEN BURRITO   \n",
       "18           9         2                            CANNED SODA   \n",
       "19          10         1                           CHICKEN BOWL   \n",
       "20          10         1                    CHIPS AND GUACAMOLE   \n",
       "21          11         1                       BARBACOA BURRITO   \n",
       "22          11         1                       NANTUCKET NECTAR   \n",
       "23          12         1                        CHICKEN BURRITO   \n",
       "24          12         1                                   IZZE   \n",
       "25          13         1           CHIPS AND FRESH TOMATO SALSA   \n",
       "26          13         1                           CHICKEN BOWL   \n",
       "27          14         1                       CARNITAS BURRITO   \n",
       "28          14         1                            CANNED SODA   \n",
       "29          15         1                        CHICKEN BURRITO   \n",
       "...        ...       ...                                    ...   \n",
       "4592      1825         1                       BARBACOA BURRITO   \n",
       "4593      1825         1                          CARNITAS BOWL   \n",
       "4594      1825         1                          BARBACOA BOWL   \n",
       "4595      1826         1                           CHICKEN BOWL   \n",
       "4596      1826         1                    CHIPS AND GUACAMOLE   \n",
       "4597      1826         1                      CANNED SOFT DRINK   \n",
       "4598      1826         1                          BOTTLED WATER   \n",
       "4599      1827         1                           CHICKEN BOWL   \n",
       "4600      1827         1                    CHIPS AND GUACAMOLE   \n",
       "4601      1827         1                      CANNED SOFT DRINK   \n",
       "4602      1827         1                       BARBACOA BURRITO   \n",
       "4603      1827         1                       BARBACOA BURRITO   \n",
       "4604      1828         1                           CHICKEN BOWL   \n",
       "4605      1828         1                    CHIPS AND GUACAMOLE   \n",
       "4606      1828         1                      CANNED SOFT DRINK   \n",
       "4607      1829         1                          STEAK BURRITO   \n",
       "4608      1829         1                         VEGGIE BURRITO   \n",
       "4609      1829         1                      CANNED SOFT DRINK   \n",
       "4610      1830         1                          STEAK BURRITO   \n",
       "4611      1830         1                         VEGGIE BURRITO   \n",
       "4612      1831         1                          CARNITAS BOWL   \n",
       "4613      1831         1                                  CHIPS   \n",
       "4614      1831         1                          BOTTLED WATER   \n",
       "4615      1832         1                     CHICKEN SOFT TACOS   \n",
       "4616      1832         1                    CHIPS AND GUACAMOLE   \n",
       "4617      1833         1                          STEAK BURRITO   \n",
       "4618      1833         1                          STEAK BURRITO   \n",
       "4619      1834         1                     CHICKEN SALAD BOWL   \n",
       "4620      1834         1                     CHICKEN SALAD BOWL   \n",
       "4621      1834         1                     CHICKEN SALAD BOWL   \n",
       "\n",
       "                                     CHOICE_DESCRIPTION ITEM_PRICE  \n",
       "0                                                   NaN     $2.39   \n",
       "1                                            Clementine     $3.39   \n",
       "2                                                 Apple     $3.39   \n",
       "3                                                   NaN     $2.39   \n",
       "4     Tomatillo-Red Chili Salsa (Hot), Black Beans, ...    $16.98   \n",
       "5                                                   NaN    $10.98   \n",
       "6                                                   NaN     $1.69   \n",
       "7                                                   NaN    $11.75   \n",
       "8                                                   NaN     $9.25   \n",
       "9                                                   NaN     $9.25   \n",
       "10                                                  NaN     $4.45   \n",
       "11                                                  NaN     $8.75   \n",
       "12                                                  NaN     $8.75   \n",
       "13                                                  NaN    $11.25   \n",
       "14                                                  NaN     $4.45   \n",
       "15                                                  NaN     $2.39   \n",
       "16                                                  NaN     $8.49   \n",
       "17                                                  NaN     $8.49   \n",
       "18                                                  NaN     $2.18   \n",
       "19                                                  NaN     $8.75   \n",
       "20                                                  NaN     $4.45   \n",
       "21                                                  NaN     $8.99   \n",
       "22                                                  NaN     $3.39   \n",
       "23                                                  NaN    $10.98   \n",
       "24                                                  NaN     $3.39   \n",
       "25                                                  NaN     $2.39   \n",
       "26                                                  NaN     $8.49   \n",
       "27                                                  NaN     $8.99   \n",
       "28                                                  NaN     $1.09   \n",
       "29                                                  NaN     $8.49   \n",
       "...                                                 ...        ...  \n",
       "4592                                                NaN    $11.75   \n",
       "4593                                                NaN    $11.75   \n",
       "4594                                                NaN    $11.75   \n",
       "4595                                                NaN     $8.75   \n",
       "4596                                                NaN     $4.45   \n",
       "4597                                                NaN     $1.25   \n",
       "4598                                                NaN     $1.50   \n",
       "4599                                                NaN     $8.75   \n",
       "4600                                                NaN     $4.45   \n",
       "4601                                                NaN     $1.25   \n",
       "4602                                                NaN     $9.25   \n",
       "4603                                                NaN     $9.25   \n",
       "4604                                                NaN     $8.75   \n",
       "4605                                                NaN     $4.45   \n",
       "4606                                                NaN     $1.25   \n",
       "4607                                                NaN    $11.75   \n",
       "4608                                                NaN    $11.25   \n",
       "4609                                                NaN     $1.25   \n",
       "4610                                                NaN    $11.75   \n",
       "4611                                                NaN    $11.25   \n",
       "4612                                                NaN     $9.25   \n",
       "4613                                                NaN     $2.15   \n",
       "4614                                                NaN     $1.50   \n",
       "4615                                                NaN     $8.75   \n",
       "4616                                                NaN     $4.45   \n",
       "4617                                                NaN    $11.75   \n",
       "4618                                                NaN    $11.75   \n",
       "4619                                                NaN    $11.25   \n",
       "4620                                                NaN     $8.75   \n",
       "4621                                                NaN     $8.75   \n",
       "\n",
       "[4622 rows x 5 columns]"
      ]
     },
     "execution_count": 67,
     "metadata": {},
     "output_type": "execute_result"
    }
   ],
   "source": [
    "orders"
   ]
  },
  {
   "cell_type": "code",
   "execution_count": 68,
   "metadata": {},
   "outputs": [
    {
     "data": {
      "text/plain": [
       "0                                                  NaN\n",
       "1                                           Clementine\n",
       "2                                                Apple\n",
       "3                                                  NaN\n",
       "4    Tomatillo-Red Chili Salsa (Hot), Black Beans, ...\n",
       "Name: CHOICE_DESCRIPTION, dtype: object"
      ]
     },
     "execution_count": 68,
     "metadata": {},
     "output_type": "execute_result"
    }
   ],
   "source": [
    "# O usamos regex - Expresiones Regulares para simplificar el codigo anterior\n",
    "orders.CHOICE_DESCRIPTION.str.replace('[\\[\\]]', '').head()"
   ]
  },
  {
   "cell_type": "code",
   "execution_count": 69,
   "metadata": {},
   "outputs": [
    {
     "data": {
      "text/plain": [
       "ORDER_ID               0.000000\n",
       "QUANTITY               0.000000\n",
       "ITEM_NAME              0.000000\n",
       "CHOICE_DESCRIPTION    99.935093\n",
       "ITEM_PRICE             0.000000\n",
       "dtype: float64"
      ]
     },
     "execution_count": 69,
     "metadata": {},
     "output_type": "execute_result"
    }
   ],
   "source": [
    "orders.isnull().sum() / len(orders) * 100"
   ]
  },
  {
   "cell_type": "code",
   "execution_count": null,
   "metadata": {},
   "outputs": [],
   "source": [
    "orders['ITEM_PRICE'].head()"
   ]
  },
  {
   "cell_type": "code",
   "execution_count": 70,
   "metadata": {
    "collapsed": true
   },
   "outputs": [
    {
     "ename": "ValueError",
     "evalue": "could not convert string to float: '$2.39 '",
     "output_type": "error",
     "traceback": [
      "\u001b[1;31m---------------------------------------------------------------------------\u001b[0m",
      "\u001b[1;31mValueError\u001b[0m                                Traceback (most recent call last)",
      "\u001b[1;32m<ipython-input-70-6cbbb21b059f>\u001b[0m in \u001b[0;36m<module>\u001b[1;34m()\u001b[0m\n\u001b[0;32m      1\u001b[0m \u001b[1;31m# Cambiando el tipo de dato despues de leer el csv\u001b[0m\u001b[1;33m\u001b[0m\u001b[1;33m\u001b[0m\u001b[0m\n\u001b[0;32m      2\u001b[0m \u001b[1;31m# para cambiar usamos .astype()\u001b[0m\u001b[1;33m\u001b[0m\u001b[1;33m\u001b[0m\u001b[0m\n\u001b[1;32m----> 3\u001b[1;33m \u001b[0morders\u001b[0m\u001b[1;33m[\u001b[0m\u001b[1;34m'ITEM_PRICE'\u001b[0m\u001b[1;33m]\u001b[0m \u001b[1;33m=\u001b[0m \u001b[0morders\u001b[0m\u001b[1;33m.\u001b[0m\u001b[0mITEM_PRICE\u001b[0m\u001b[1;33m.\u001b[0m\u001b[0mastype\u001b[0m\u001b[1;33m(\u001b[0m\u001b[0mfloat\u001b[0m\u001b[1;33m)\u001b[0m\u001b[1;33m\u001b[0m\u001b[0m\n\u001b[0m",
      "\u001b[1;32mc:\\python37\\lib\\site-packages\\pandas\\core\\generic.py\u001b[0m in \u001b[0;36mastype\u001b[1;34m(self, dtype, copy, errors, **kwargs)\u001b[0m\n\u001b[0;32m   5689\u001b[0m             \u001b[1;31m# else, only a single dtype is given\u001b[0m\u001b[1;33m\u001b[0m\u001b[1;33m\u001b[0m\u001b[0m\n\u001b[0;32m   5690\u001b[0m             new_data = self._data.astype(dtype=dtype, copy=copy, errors=errors,\n\u001b[1;32m-> 5691\u001b[1;33m                                          **kwargs)\n\u001b[0m\u001b[0;32m   5692\u001b[0m             \u001b[1;32mreturn\u001b[0m \u001b[0mself\u001b[0m\u001b[1;33m.\u001b[0m\u001b[0m_constructor\u001b[0m\u001b[1;33m(\u001b[0m\u001b[0mnew_data\u001b[0m\u001b[1;33m)\u001b[0m\u001b[1;33m.\u001b[0m\u001b[0m__finalize__\u001b[0m\u001b[1;33m(\u001b[0m\u001b[0mself\u001b[0m\u001b[1;33m)\u001b[0m\u001b[1;33m\u001b[0m\u001b[0m\n\u001b[0;32m   5693\u001b[0m \u001b[1;33m\u001b[0m\u001b[0m\n",
      "\u001b[1;32mc:\\python37\\lib\\site-packages\\pandas\\core\\internals\\managers.py\u001b[0m in \u001b[0;36mastype\u001b[1;34m(self, dtype, **kwargs)\u001b[0m\n\u001b[0;32m    529\u001b[0m \u001b[1;33m\u001b[0m\u001b[0m\n\u001b[0;32m    530\u001b[0m     \u001b[1;32mdef\u001b[0m \u001b[0mastype\u001b[0m\u001b[1;33m(\u001b[0m\u001b[0mself\u001b[0m\u001b[1;33m,\u001b[0m \u001b[0mdtype\u001b[0m\u001b[1;33m,\u001b[0m \u001b[1;33m**\u001b[0m\u001b[0mkwargs\u001b[0m\u001b[1;33m)\u001b[0m\u001b[1;33m:\u001b[0m\u001b[1;33m\u001b[0m\u001b[0m\n\u001b[1;32m--> 531\u001b[1;33m         \u001b[1;32mreturn\u001b[0m \u001b[0mself\u001b[0m\u001b[1;33m.\u001b[0m\u001b[0mapply\u001b[0m\u001b[1;33m(\u001b[0m\u001b[1;34m'astype'\u001b[0m\u001b[1;33m,\u001b[0m \u001b[0mdtype\u001b[0m\u001b[1;33m=\u001b[0m\u001b[0mdtype\u001b[0m\u001b[1;33m,\u001b[0m \u001b[1;33m**\u001b[0m\u001b[0mkwargs\u001b[0m\u001b[1;33m)\u001b[0m\u001b[1;33m\u001b[0m\u001b[0m\n\u001b[0m\u001b[0;32m    532\u001b[0m \u001b[1;33m\u001b[0m\u001b[0m\n\u001b[0;32m    533\u001b[0m     \u001b[1;32mdef\u001b[0m \u001b[0mconvert\u001b[0m\u001b[1;33m(\u001b[0m\u001b[0mself\u001b[0m\u001b[1;33m,\u001b[0m \u001b[1;33m**\u001b[0m\u001b[0mkwargs\u001b[0m\u001b[1;33m)\u001b[0m\u001b[1;33m:\u001b[0m\u001b[1;33m\u001b[0m\u001b[0m\n",
      "\u001b[1;32mc:\\python37\\lib\\site-packages\\pandas\\core\\internals\\managers.py\u001b[0m in \u001b[0;36mapply\u001b[1;34m(self, f, axes, filter, do_integrity_check, consolidate, **kwargs)\u001b[0m\n\u001b[0;32m    393\u001b[0m                                             copy=align_copy)\n\u001b[0;32m    394\u001b[0m \u001b[1;33m\u001b[0m\u001b[0m\n\u001b[1;32m--> 395\u001b[1;33m             \u001b[0mapplied\u001b[0m \u001b[1;33m=\u001b[0m \u001b[0mgetattr\u001b[0m\u001b[1;33m(\u001b[0m\u001b[0mb\u001b[0m\u001b[1;33m,\u001b[0m \u001b[0mf\u001b[0m\u001b[1;33m)\u001b[0m\u001b[1;33m(\u001b[0m\u001b[1;33m**\u001b[0m\u001b[0mkwargs\u001b[0m\u001b[1;33m)\u001b[0m\u001b[1;33m\u001b[0m\u001b[0m\n\u001b[0m\u001b[0;32m    396\u001b[0m             \u001b[0mresult_blocks\u001b[0m \u001b[1;33m=\u001b[0m \u001b[0m_extend_blocks\u001b[0m\u001b[1;33m(\u001b[0m\u001b[0mapplied\u001b[0m\u001b[1;33m,\u001b[0m \u001b[0mresult_blocks\u001b[0m\u001b[1;33m)\u001b[0m\u001b[1;33m\u001b[0m\u001b[0m\n\u001b[0;32m    397\u001b[0m \u001b[1;33m\u001b[0m\u001b[0m\n",
      "\u001b[1;32mc:\\python37\\lib\\site-packages\\pandas\\core\\internals\\blocks.py\u001b[0m in \u001b[0;36mastype\u001b[1;34m(self, dtype, copy, errors, values, **kwargs)\u001b[0m\n\u001b[0;32m    532\u001b[0m     \u001b[1;32mdef\u001b[0m \u001b[0mastype\u001b[0m\u001b[1;33m(\u001b[0m\u001b[0mself\u001b[0m\u001b[1;33m,\u001b[0m \u001b[0mdtype\u001b[0m\u001b[1;33m,\u001b[0m \u001b[0mcopy\u001b[0m\u001b[1;33m=\u001b[0m\u001b[1;32mFalse\u001b[0m\u001b[1;33m,\u001b[0m \u001b[0merrors\u001b[0m\u001b[1;33m=\u001b[0m\u001b[1;34m'raise'\u001b[0m\u001b[1;33m,\u001b[0m \u001b[0mvalues\u001b[0m\u001b[1;33m=\u001b[0m\u001b[1;32mNone\u001b[0m\u001b[1;33m,\u001b[0m \u001b[1;33m**\u001b[0m\u001b[0mkwargs\u001b[0m\u001b[1;33m)\u001b[0m\u001b[1;33m:\u001b[0m\u001b[1;33m\u001b[0m\u001b[0m\n\u001b[0;32m    533\u001b[0m         return self._astype(dtype, copy=copy, errors=errors, values=values,\n\u001b[1;32m--> 534\u001b[1;33m                             **kwargs)\n\u001b[0m\u001b[0;32m    535\u001b[0m \u001b[1;33m\u001b[0m\u001b[0m\n\u001b[0;32m    536\u001b[0m     def _astype(self, dtype, copy=False, errors='raise', values=None,\n",
      "\u001b[1;32mc:\\python37\\lib\\site-packages\\pandas\\core\\internals\\blocks.py\u001b[0m in \u001b[0;36m_astype\u001b[1;34m(self, dtype, copy, errors, values, **kwargs)\u001b[0m\n\u001b[0;32m    631\u001b[0m \u001b[1;33m\u001b[0m\u001b[0m\n\u001b[0;32m    632\u001b[0m                     \u001b[1;31m# _astype_nansafe works fine with 1-d only\u001b[0m\u001b[1;33m\u001b[0m\u001b[1;33m\u001b[0m\u001b[0m\n\u001b[1;32m--> 633\u001b[1;33m                     \u001b[0mvalues\u001b[0m \u001b[1;33m=\u001b[0m \u001b[0mastype_nansafe\u001b[0m\u001b[1;33m(\u001b[0m\u001b[0mvalues\u001b[0m\u001b[1;33m.\u001b[0m\u001b[0mravel\u001b[0m\u001b[1;33m(\u001b[0m\u001b[1;33m)\u001b[0m\u001b[1;33m,\u001b[0m \u001b[0mdtype\u001b[0m\u001b[1;33m,\u001b[0m \u001b[0mcopy\u001b[0m\u001b[1;33m=\u001b[0m\u001b[1;32mTrue\u001b[0m\u001b[1;33m)\u001b[0m\u001b[1;33m\u001b[0m\u001b[0m\n\u001b[0m\u001b[0;32m    634\u001b[0m \u001b[1;33m\u001b[0m\u001b[0m\n\u001b[0;32m    635\u001b[0m                 \u001b[1;31m# TODO(extension)\u001b[0m\u001b[1;33m\u001b[0m\u001b[1;33m\u001b[0m\u001b[0m\n",
      "\u001b[1;32mc:\\python37\\lib\\site-packages\\pandas\\core\\dtypes\\cast.py\u001b[0m in \u001b[0;36mastype_nansafe\u001b[1;34m(arr, dtype, copy, skipna)\u001b[0m\n\u001b[0;32m    700\u001b[0m     \u001b[1;32mif\u001b[0m \u001b[0mcopy\u001b[0m \u001b[1;32mor\u001b[0m \u001b[0mis_object_dtype\u001b[0m\u001b[1;33m(\u001b[0m\u001b[0marr\u001b[0m\u001b[1;33m)\u001b[0m \u001b[1;32mor\u001b[0m \u001b[0mis_object_dtype\u001b[0m\u001b[1;33m(\u001b[0m\u001b[0mdtype\u001b[0m\u001b[1;33m)\u001b[0m\u001b[1;33m:\u001b[0m\u001b[1;33m\u001b[0m\u001b[0m\n\u001b[0;32m    701\u001b[0m         \u001b[1;31m# Explicit copy, or required since NumPy can't view from / to object.\u001b[0m\u001b[1;33m\u001b[0m\u001b[1;33m\u001b[0m\u001b[0m\n\u001b[1;32m--> 702\u001b[1;33m         \u001b[1;32mreturn\u001b[0m \u001b[0marr\u001b[0m\u001b[1;33m.\u001b[0m\u001b[0mastype\u001b[0m\u001b[1;33m(\u001b[0m\u001b[0mdtype\u001b[0m\u001b[1;33m,\u001b[0m \u001b[0mcopy\u001b[0m\u001b[1;33m=\u001b[0m\u001b[1;32mTrue\u001b[0m\u001b[1;33m)\u001b[0m\u001b[1;33m\u001b[0m\u001b[0m\n\u001b[0m\u001b[0;32m    703\u001b[0m \u001b[1;33m\u001b[0m\u001b[0m\n\u001b[0;32m    704\u001b[0m     \u001b[1;32mreturn\u001b[0m \u001b[0marr\u001b[0m\u001b[1;33m.\u001b[0m\u001b[0mview\u001b[0m\u001b[1;33m(\u001b[0m\u001b[0mdtype\u001b[0m\u001b[1;33m)\u001b[0m\u001b[1;33m\u001b[0m\u001b[0m\n",
      "\u001b[1;31mValueError\u001b[0m: could not convert string to float: '$2.39 '"
     ]
    }
   ],
   "source": [
    "# Cambiando el tipo de dato despues de leer el csv\n",
    "# para cambiar usamos .astype()\n",
    "orders['ITEM_PRICE'] = orders.ITEM_PRICE.astype(float)"
   ]
  },
  {
   "cell_type": "markdown",
   "metadata": {},
   "source": [
    "#### <span style=color:red>Como resolveriamos el problema ??</span>"
   ]
  },
  {
   "cell_type": "code",
   "execution_count": 71,
   "metadata": {},
   "outputs": [],
   "source": [
    "# Casos especificos donde panda no reconoce una variable como un objeto 'float'\n",
    "orders['ITEM_PRICE'] = orders.ITEM_PRICE.str.replace('$', '').astype(float)"
   ]
  },
  {
   "cell_type": "code",
   "execution_count": 72,
   "metadata": {},
   "outputs": [
    {
     "data": {
      "text/plain": [
       "0     2.39\n",
       "1     3.39\n",
       "2     3.39\n",
       "3     2.39\n",
       "4    16.98\n",
       "Name: ITEM_PRICE, dtype: float64"
      ]
     },
     "execution_count": 72,
     "metadata": {},
     "output_type": "execute_result"
    }
   ],
   "source": [
    "orders['ITEM_PRICE'].head()"
   ]
  },
  {
   "cell_type": "code",
   "execution_count": null,
   "metadata": {},
   "outputs": [],
   "source": [
    "# Para testear algun proceso y no comprometer el dataset semi-procesado\n",
    "# realizamos una copia sobre la que realizaremos las pruebas.\n",
    "\n",
    "orders3 = orders.copy()"
   ]
  },
  {
   "cell_type": "code",
   "execution_count": null,
   "metadata": {},
   "outputs": [],
   "source": [
    "# Podemos contar el uso actual de memoria\n",
    "orders.info(memory_usage='deep')"
   ]
  },
  {
   "cell_type": "code",
   "execution_count": null,
   "metadata": {},
   "outputs": [],
   "source": [
    "# Podemos mostrar cuanto espacio cada columna actualmente usa\n",
    "# los numberos son en bytes, no kilobytes\n",
    "orders.memory_usage(deep=True)\n",
    "#Observar la reduccion de espacio en memoria de Location_1, 'lat' y 'lon'"
   ]
  },
  {
   "cell_type": "code",
   "execution_count": 73,
   "metadata": {},
   "outputs": [
    {
     "data": {
      "text/html": [
       "<div>\n",
       "<style scoped>\n",
       "    .dataframe tbody tr th:only-of-type {\n",
       "        vertical-align: middle;\n",
       "    }\n",
       "\n",
       "    .dataframe tbody tr th {\n",
       "        vertical-align: top;\n",
       "    }\n",
       "\n",
       "    .dataframe thead th {\n",
       "        text-align: right;\n",
       "    }\n",
       "</style>\n",
       "<table border=\"1\" class=\"dataframe\">\n",
       "  <thead>\n",
       "    <tr style=\"text-align: right;\">\n",
       "      <th></th>\n",
       "      <th>ORDER_ID</th>\n",
       "      <th>QUANTITY</th>\n",
       "      <th>ITEM_NAME</th>\n",
       "      <th>CHOICE_DESCRIPTION</th>\n",
       "      <th>ITEM_PRICE</th>\n",
       "    </tr>\n",
       "  </thead>\n",
       "  <tbody>\n",
       "    <tr>\n",
       "      <th>0</th>\n",
       "      <td>1</td>\n",
       "      <td>1</td>\n",
       "      <td>CHIPS AND FRESH TOMATO SALSA</td>\n",
       "      <td>NaN</td>\n",
       "      <td>2.39</td>\n",
       "    </tr>\n",
       "    <tr>\n",
       "      <th>1</th>\n",
       "      <td>1</td>\n",
       "      <td>1</td>\n",
       "      <td>IZZE</td>\n",
       "      <td>Clementine</td>\n",
       "      <td>3.39</td>\n",
       "    </tr>\n",
       "    <tr>\n",
       "      <th>2</th>\n",
       "      <td>1</td>\n",
       "      <td>1</td>\n",
       "      <td>NANTUCKET NECTAR</td>\n",
       "      <td>Apple</td>\n",
       "      <td>3.39</td>\n",
       "    </tr>\n",
       "    <tr>\n",
       "      <th>3</th>\n",
       "      <td>1</td>\n",
       "      <td>1</td>\n",
       "      <td>CHIPS AND TOMATILLO-GREEN CHILI SALSA</td>\n",
       "      <td>NaN</td>\n",
       "      <td>2.39</td>\n",
       "    </tr>\n",
       "    <tr>\n",
       "      <th>4</th>\n",
       "      <td>2</td>\n",
       "      <td>2</td>\n",
       "      <td>CHICKEN BOWL</td>\n",
       "      <td>Tomatillo-Red Chili Salsa (Hot), Black Beans, ...</td>\n",
       "      <td>16.98</td>\n",
       "    </tr>\n",
       "    <tr>\n",
       "      <th>5</th>\n",
       "      <td>3</td>\n",
       "      <td>1</td>\n",
       "      <td>CHICKEN BOWL</td>\n",
       "      <td>NaN</td>\n",
       "      <td>10.98</td>\n",
       "    </tr>\n",
       "    <tr>\n",
       "      <th>6</th>\n",
       "      <td>3</td>\n",
       "      <td>1</td>\n",
       "      <td>SIDE OF CHIPS</td>\n",
       "      <td>NaN</td>\n",
       "      <td>1.69</td>\n",
       "    </tr>\n",
       "    <tr>\n",
       "      <th>7</th>\n",
       "      <td>4</td>\n",
       "      <td>1</td>\n",
       "      <td>STEAK BURRITO</td>\n",
       "      <td>NaN</td>\n",
       "      <td>11.75</td>\n",
       "    </tr>\n",
       "    <tr>\n",
       "      <th>8</th>\n",
       "      <td>4</td>\n",
       "      <td>1</td>\n",
       "      <td>STEAK SOFT TACOS</td>\n",
       "      <td>NaN</td>\n",
       "      <td>9.25</td>\n",
       "    </tr>\n",
       "    <tr>\n",
       "      <th>9</th>\n",
       "      <td>5</td>\n",
       "      <td>1</td>\n",
       "      <td>STEAK BURRITO</td>\n",
       "      <td>NaN</td>\n",
       "      <td>9.25</td>\n",
       "    </tr>\n",
       "    <tr>\n",
       "      <th>10</th>\n",
       "      <td>5</td>\n",
       "      <td>1</td>\n",
       "      <td>CHIPS AND GUACAMOLE</td>\n",
       "      <td>NaN</td>\n",
       "      <td>4.45</td>\n",
       "    </tr>\n",
       "    <tr>\n",
       "      <th>11</th>\n",
       "      <td>6</td>\n",
       "      <td>1</td>\n",
       "      <td>CHICKEN CRISPY TACOS</td>\n",
       "      <td>NaN</td>\n",
       "      <td>8.75</td>\n",
       "    </tr>\n",
       "    <tr>\n",
       "      <th>12</th>\n",
       "      <td>6</td>\n",
       "      <td>1</td>\n",
       "      <td>CHICKEN SOFT TACOS</td>\n",
       "      <td>NaN</td>\n",
       "      <td>8.75</td>\n",
       "    </tr>\n",
       "    <tr>\n",
       "      <th>13</th>\n",
       "      <td>7</td>\n",
       "      <td>1</td>\n",
       "      <td>CHICKEN BOWL</td>\n",
       "      <td>NaN</td>\n",
       "      <td>11.25</td>\n",
       "    </tr>\n",
       "    <tr>\n",
       "      <th>14</th>\n",
       "      <td>7</td>\n",
       "      <td>1</td>\n",
       "      <td>CHIPS AND GUACAMOLE</td>\n",
       "      <td>NaN</td>\n",
       "      <td>4.45</td>\n",
       "    </tr>\n",
       "    <tr>\n",
       "      <th>15</th>\n",
       "      <td>8</td>\n",
       "      <td>1</td>\n",
       "      <td>CHIPS AND TOMATILLO-GREEN CHILI SALSA</td>\n",
       "      <td>NaN</td>\n",
       "      <td>2.39</td>\n",
       "    </tr>\n",
       "    <tr>\n",
       "      <th>16</th>\n",
       "      <td>8</td>\n",
       "      <td>1</td>\n",
       "      <td>CHICKEN BURRITO</td>\n",
       "      <td>NaN</td>\n",
       "      <td>8.49</td>\n",
       "    </tr>\n",
       "    <tr>\n",
       "      <th>17</th>\n",
       "      <td>9</td>\n",
       "      <td>1</td>\n",
       "      <td>CHICKEN BURRITO</td>\n",
       "      <td>NaN</td>\n",
       "      <td>8.49</td>\n",
       "    </tr>\n",
       "    <tr>\n",
       "      <th>18</th>\n",
       "      <td>9</td>\n",
       "      <td>2</td>\n",
       "      <td>CANNED SODA</td>\n",
       "      <td>NaN</td>\n",
       "      <td>2.18</td>\n",
       "    </tr>\n",
       "    <tr>\n",
       "      <th>19</th>\n",
       "      <td>10</td>\n",
       "      <td>1</td>\n",
       "      <td>CHICKEN BOWL</td>\n",
       "      <td>NaN</td>\n",
       "      <td>8.75</td>\n",
       "    </tr>\n",
       "    <tr>\n",
       "      <th>20</th>\n",
       "      <td>10</td>\n",
       "      <td>1</td>\n",
       "      <td>CHIPS AND GUACAMOLE</td>\n",
       "      <td>NaN</td>\n",
       "      <td>4.45</td>\n",
       "    </tr>\n",
       "    <tr>\n",
       "      <th>21</th>\n",
       "      <td>11</td>\n",
       "      <td>1</td>\n",
       "      <td>BARBACOA BURRITO</td>\n",
       "      <td>NaN</td>\n",
       "      <td>8.99</td>\n",
       "    </tr>\n",
       "    <tr>\n",
       "      <th>22</th>\n",
       "      <td>11</td>\n",
       "      <td>1</td>\n",
       "      <td>NANTUCKET NECTAR</td>\n",
       "      <td>NaN</td>\n",
       "      <td>3.39</td>\n",
       "    </tr>\n",
       "    <tr>\n",
       "      <th>23</th>\n",
       "      <td>12</td>\n",
       "      <td>1</td>\n",
       "      <td>CHICKEN BURRITO</td>\n",
       "      <td>NaN</td>\n",
       "      <td>10.98</td>\n",
       "    </tr>\n",
       "    <tr>\n",
       "      <th>24</th>\n",
       "      <td>12</td>\n",
       "      <td>1</td>\n",
       "      <td>IZZE</td>\n",
       "      <td>NaN</td>\n",
       "      <td>3.39</td>\n",
       "    </tr>\n",
       "    <tr>\n",
       "      <th>25</th>\n",
       "      <td>13</td>\n",
       "      <td>1</td>\n",
       "      <td>CHIPS AND FRESH TOMATO SALSA</td>\n",
       "      <td>NaN</td>\n",
       "      <td>2.39</td>\n",
       "    </tr>\n",
       "    <tr>\n",
       "      <th>26</th>\n",
       "      <td>13</td>\n",
       "      <td>1</td>\n",
       "      <td>CHICKEN BOWL</td>\n",
       "      <td>NaN</td>\n",
       "      <td>8.49</td>\n",
       "    </tr>\n",
       "    <tr>\n",
       "      <th>27</th>\n",
       "      <td>14</td>\n",
       "      <td>1</td>\n",
       "      <td>CARNITAS BURRITO</td>\n",
       "      <td>NaN</td>\n",
       "      <td>8.99</td>\n",
       "    </tr>\n",
       "    <tr>\n",
       "      <th>28</th>\n",
       "      <td>14</td>\n",
       "      <td>1</td>\n",
       "      <td>CANNED SODA</td>\n",
       "      <td>NaN</td>\n",
       "      <td>1.09</td>\n",
       "    </tr>\n",
       "    <tr>\n",
       "      <th>29</th>\n",
       "      <td>15</td>\n",
       "      <td>1</td>\n",
       "      <td>CHICKEN BURRITO</td>\n",
       "      <td>NaN</td>\n",
       "      <td>8.49</td>\n",
       "    </tr>\n",
       "    <tr>\n",
       "      <th>...</th>\n",
       "      <td>...</td>\n",
       "      <td>...</td>\n",
       "      <td>...</td>\n",
       "      <td>...</td>\n",
       "      <td>...</td>\n",
       "    </tr>\n",
       "    <tr>\n",
       "      <th>4592</th>\n",
       "      <td>1825</td>\n",
       "      <td>1</td>\n",
       "      <td>BARBACOA BURRITO</td>\n",
       "      <td>NaN</td>\n",
       "      <td>11.75</td>\n",
       "    </tr>\n",
       "    <tr>\n",
       "      <th>4593</th>\n",
       "      <td>1825</td>\n",
       "      <td>1</td>\n",
       "      <td>CARNITAS BOWL</td>\n",
       "      <td>NaN</td>\n",
       "      <td>11.75</td>\n",
       "    </tr>\n",
       "    <tr>\n",
       "      <th>4594</th>\n",
       "      <td>1825</td>\n",
       "      <td>1</td>\n",
       "      <td>BARBACOA BOWL</td>\n",
       "      <td>NaN</td>\n",
       "      <td>11.75</td>\n",
       "    </tr>\n",
       "    <tr>\n",
       "      <th>4595</th>\n",
       "      <td>1826</td>\n",
       "      <td>1</td>\n",
       "      <td>CHICKEN BOWL</td>\n",
       "      <td>NaN</td>\n",
       "      <td>8.75</td>\n",
       "    </tr>\n",
       "    <tr>\n",
       "      <th>4596</th>\n",
       "      <td>1826</td>\n",
       "      <td>1</td>\n",
       "      <td>CHIPS AND GUACAMOLE</td>\n",
       "      <td>NaN</td>\n",
       "      <td>4.45</td>\n",
       "    </tr>\n",
       "    <tr>\n",
       "      <th>4597</th>\n",
       "      <td>1826</td>\n",
       "      <td>1</td>\n",
       "      <td>CANNED SOFT DRINK</td>\n",
       "      <td>NaN</td>\n",
       "      <td>1.25</td>\n",
       "    </tr>\n",
       "    <tr>\n",
       "      <th>4598</th>\n",
       "      <td>1826</td>\n",
       "      <td>1</td>\n",
       "      <td>BOTTLED WATER</td>\n",
       "      <td>NaN</td>\n",
       "      <td>1.50</td>\n",
       "    </tr>\n",
       "    <tr>\n",
       "      <th>4599</th>\n",
       "      <td>1827</td>\n",
       "      <td>1</td>\n",
       "      <td>CHICKEN BOWL</td>\n",
       "      <td>NaN</td>\n",
       "      <td>8.75</td>\n",
       "    </tr>\n",
       "    <tr>\n",
       "      <th>4600</th>\n",
       "      <td>1827</td>\n",
       "      <td>1</td>\n",
       "      <td>CHIPS AND GUACAMOLE</td>\n",
       "      <td>NaN</td>\n",
       "      <td>4.45</td>\n",
       "    </tr>\n",
       "    <tr>\n",
       "      <th>4601</th>\n",
       "      <td>1827</td>\n",
       "      <td>1</td>\n",
       "      <td>CANNED SOFT DRINK</td>\n",
       "      <td>NaN</td>\n",
       "      <td>1.25</td>\n",
       "    </tr>\n",
       "    <tr>\n",
       "      <th>4602</th>\n",
       "      <td>1827</td>\n",
       "      <td>1</td>\n",
       "      <td>BARBACOA BURRITO</td>\n",
       "      <td>NaN</td>\n",
       "      <td>9.25</td>\n",
       "    </tr>\n",
       "    <tr>\n",
       "      <th>4603</th>\n",
       "      <td>1827</td>\n",
       "      <td>1</td>\n",
       "      <td>BARBACOA BURRITO</td>\n",
       "      <td>NaN</td>\n",
       "      <td>9.25</td>\n",
       "    </tr>\n",
       "    <tr>\n",
       "      <th>4604</th>\n",
       "      <td>1828</td>\n",
       "      <td>1</td>\n",
       "      <td>CHICKEN BOWL</td>\n",
       "      <td>NaN</td>\n",
       "      <td>8.75</td>\n",
       "    </tr>\n",
       "    <tr>\n",
       "      <th>4605</th>\n",
       "      <td>1828</td>\n",
       "      <td>1</td>\n",
       "      <td>CHIPS AND GUACAMOLE</td>\n",
       "      <td>NaN</td>\n",
       "      <td>4.45</td>\n",
       "    </tr>\n",
       "    <tr>\n",
       "      <th>4606</th>\n",
       "      <td>1828</td>\n",
       "      <td>1</td>\n",
       "      <td>CANNED SOFT DRINK</td>\n",
       "      <td>NaN</td>\n",
       "      <td>1.25</td>\n",
       "    </tr>\n",
       "    <tr>\n",
       "      <th>4607</th>\n",
       "      <td>1829</td>\n",
       "      <td>1</td>\n",
       "      <td>STEAK BURRITO</td>\n",
       "      <td>NaN</td>\n",
       "      <td>11.75</td>\n",
       "    </tr>\n",
       "    <tr>\n",
       "      <th>4608</th>\n",
       "      <td>1829</td>\n",
       "      <td>1</td>\n",
       "      <td>VEGGIE BURRITO</td>\n",
       "      <td>NaN</td>\n",
       "      <td>11.25</td>\n",
       "    </tr>\n",
       "    <tr>\n",
       "      <th>4609</th>\n",
       "      <td>1829</td>\n",
       "      <td>1</td>\n",
       "      <td>CANNED SOFT DRINK</td>\n",
       "      <td>NaN</td>\n",
       "      <td>1.25</td>\n",
       "    </tr>\n",
       "    <tr>\n",
       "      <th>4610</th>\n",
       "      <td>1830</td>\n",
       "      <td>1</td>\n",
       "      <td>STEAK BURRITO</td>\n",
       "      <td>NaN</td>\n",
       "      <td>11.75</td>\n",
       "    </tr>\n",
       "    <tr>\n",
       "      <th>4611</th>\n",
       "      <td>1830</td>\n",
       "      <td>1</td>\n",
       "      <td>VEGGIE BURRITO</td>\n",
       "      <td>NaN</td>\n",
       "      <td>11.25</td>\n",
       "    </tr>\n",
       "    <tr>\n",
       "      <th>4612</th>\n",
       "      <td>1831</td>\n",
       "      <td>1</td>\n",
       "      <td>CARNITAS BOWL</td>\n",
       "      <td>NaN</td>\n",
       "      <td>9.25</td>\n",
       "    </tr>\n",
       "    <tr>\n",
       "      <th>4613</th>\n",
       "      <td>1831</td>\n",
       "      <td>1</td>\n",
       "      <td>CHIPS</td>\n",
       "      <td>NaN</td>\n",
       "      <td>2.15</td>\n",
       "    </tr>\n",
       "    <tr>\n",
       "      <th>4614</th>\n",
       "      <td>1831</td>\n",
       "      <td>1</td>\n",
       "      <td>BOTTLED WATER</td>\n",
       "      <td>NaN</td>\n",
       "      <td>1.50</td>\n",
       "    </tr>\n",
       "    <tr>\n",
       "      <th>4615</th>\n",
       "      <td>1832</td>\n",
       "      <td>1</td>\n",
       "      <td>CHICKEN SOFT TACOS</td>\n",
       "      <td>NaN</td>\n",
       "      <td>8.75</td>\n",
       "    </tr>\n",
       "    <tr>\n",
       "      <th>4616</th>\n",
       "      <td>1832</td>\n",
       "      <td>1</td>\n",
       "      <td>CHIPS AND GUACAMOLE</td>\n",
       "      <td>NaN</td>\n",
       "      <td>4.45</td>\n",
       "    </tr>\n",
       "    <tr>\n",
       "      <th>4617</th>\n",
       "      <td>1833</td>\n",
       "      <td>1</td>\n",
       "      <td>STEAK BURRITO</td>\n",
       "      <td>NaN</td>\n",
       "      <td>11.75</td>\n",
       "    </tr>\n",
       "    <tr>\n",
       "      <th>4618</th>\n",
       "      <td>1833</td>\n",
       "      <td>1</td>\n",
       "      <td>STEAK BURRITO</td>\n",
       "      <td>NaN</td>\n",
       "      <td>11.75</td>\n",
       "    </tr>\n",
       "    <tr>\n",
       "      <th>4619</th>\n",
       "      <td>1834</td>\n",
       "      <td>1</td>\n",
       "      <td>CHICKEN SALAD BOWL</td>\n",
       "      <td>NaN</td>\n",
       "      <td>11.25</td>\n",
       "    </tr>\n",
       "    <tr>\n",
       "      <th>4620</th>\n",
       "      <td>1834</td>\n",
       "      <td>1</td>\n",
       "      <td>CHICKEN SALAD BOWL</td>\n",
       "      <td>NaN</td>\n",
       "      <td>8.75</td>\n",
       "    </tr>\n",
       "    <tr>\n",
       "      <th>4621</th>\n",
       "      <td>1834</td>\n",
       "      <td>1</td>\n",
       "      <td>CHICKEN SALAD BOWL</td>\n",
       "      <td>NaN</td>\n",
       "      <td>8.75</td>\n",
       "    </tr>\n",
       "  </tbody>\n",
       "</table>\n",
       "<p>4622 rows × 5 columns</p>\n",
       "</div>"
      ],
      "text/plain": [
       "      ORDER_ID  QUANTITY                              ITEM_NAME  \\\n",
       "0            1         1           CHIPS AND FRESH TOMATO SALSA   \n",
       "1            1         1                                   IZZE   \n",
       "2            1         1                       NANTUCKET NECTAR   \n",
       "3            1         1  CHIPS AND TOMATILLO-GREEN CHILI SALSA   \n",
       "4            2         2                           CHICKEN BOWL   \n",
       "5            3         1                           CHICKEN BOWL   \n",
       "6            3         1                          SIDE OF CHIPS   \n",
       "7            4         1                          STEAK BURRITO   \n",
       "8            4         1                       STEAK SOFT TACOS   \n",
       "9            5         1                          STEAK BURRITO   \n",
       "10           5         1                    CHIPS AND GUACAMOLE   \n",
       "11           6         1                   CHICKEN CRISPY TACOS   \n",
       "12           6         1                     CHICKEN SOFT TACOS   \n",
       "13           7         1                           CHICKEN BOWL   \n",
       "14           7         1                    CHIPS AND GUACAMOLE   \n",
       "15           8         1  CHIPS AND TOMATILLO-GREEN CHILI SALSA   \n",
       "16           8         1                        CHICKEN BURRITO   \n",
       "17           9         1                        CHICKEN BURRITO   \n",
       "18           9         2                            CANNED SODA   \n",
       "19          10         1                           CHICKEN BOWL   \n",
       "20          10         1                    CHIPS AND GUACAMOLE   \n",
       "21          11         1                       BARBACOA BURRITO   \n",
       "22          11         1                       NANTUCKET NECTAR   \n",
       "23          12         1                        CHICKEN BURRITO   \n",
       "24          12         1                                   IZZE   \n",
       "25          13         1           CHIPS AND FRESH TOMATO SALSA   \n",
       "26          13         1                           CHICKEN BOWL   \n",
       "27          14         1                       CARNITAS BURRITO   \n",
       "28          14         1                            CANNED SODA   \n",
       "29          15         1                        CHICKEN BURRITO   \n",
       "...        ...       ...                                    ...   \n",
       "4592      1825         1                       BARBACOA BURRITO   \n",
       "4593      1825         1                          CARNITAS BOWL   \n",
       "4594      1825         1                          BARBACOA BOWL   \n",
       "4595      1826         1                           CHICKEN BOWL   \n",
       "4596      1826         1                    CHIPS AND GUACAMOLE   \n",
       "4597      1826         1                      CANNED SOFT DRINK   \n",
       "4598      1826         1                          BOTTLED WATER   \n",
       "4599      1827         1                           CHICKEN BOWL   \n",
       "4600      1827         1                    CHIPS AND GUACAMOLE   \n",
       "4601      1827         1                      CANNED SOFT DRINK   \n",
       "4602      1827         1                       BARBACOA BURRITO   \n",
       "4603      1827         1                       BARBACOA BURRITO   \n",
       "4604      1828         1                           CHICKEN BOWL   \n",
       "4605      1828         1                    CHIPS AND GUACAMOLE   \n",
       "4606      1828         1                      CANNED SOFT DRINK   \n",
       "4607      1829         1                          STEAK BURRITO   \n",
       "4608      1829         1                         VEGGIE BURRITO   \n",
       "4609      1829         1                      CANNED SOFT DRINK   \n",
       "4610      1830         1                          STEAK BURRITO   \n",
       "4611      1830         1                         VEGGIE BURRITO   \n",
       "4612      1831         1                          CARNITAS BOWL   \n",
       "4613      1831         1                                  CHIPS   \n",
       "4614      1831         1                          BOTTLED WATER   \n",
       "4615      1832         1                     CHICKEN SOFT TACOS   \n",
       "4616      1832         1                    CHIPS AND GUACAMOLE   \n",
       "4617      1833         1                          STEAK BURRITO   \n",
       "4618      1833         1                          STEAK BURRITO   \n",
       "4619      1834         1                     CHICKEN SALAD BOWL   \n",
       "4620      1834         1                     CHICKEN SALAD BOWL   \n",
       "4621      1834         1                     CHICKEN SALAD BOWL   \n",
       "\n",
       "                                     CHOICE_DESCRIPTION  ITEM_PRICE  \n",
       "0                                                   NaN        2.39  \n",
       "1                                            Clementine        3.39  \n",
       "2                                                 Apple        3.39  \n",
       "3                                                   NaN        2.39  \n",
       "4     Tomatillo-Red Chili Salsa (Hot), Black Beans, ...       16.98  \n",
       "5                                                   NaN       10.98  \n",
       "6                                                   NaN        1.69  \n",
       "7                                                   NaN       11.75  \n",
       "8                                                   NaN        9.25  \n",
       "9                                                   NaN        9.25  \n",
       "10                                                  NaN        4.45  \n",
       "11                                                  NaN        8.75  \n",
       "12                                                  NaN        8.75  \n",
       "13                                                  NaN       11.25  \n",
       "14                                                  NaN        4.45  \n",
       "15                                                  NaN        2.39  \n",
       "16                                                  NaN        8.49  \n",
       "17                                                  NaN        8.49  \n",
       "18                                                  NaN        2.18  \n",
       "19                                                  NaN        8.75  \n",
       "20                                                  NaN        4.45  \n",
       "21                                                  NaN        8.99  \n",
       "22                                                  NaN        3.39  \n",
       "23                                                  NaN       10.98  \n",
       "24                                                  NaN        3.39  \n",
       "25                                                  NaN        2.39  \n",
       "26                                                  NaN        8.49  \n",
       "27                                                  NaN        8.99  \n",
       "28                                                  NaN        1.09  \n",
       "29                                                  NaN        8.49  \n",
       "...                                                 ...         ...  \n",
       "4592                                                NaN       11.75  \n",
       "4593                                                NaN       11.75  \n",
       "4594                                                NaN       11.75  \n",
       "4595                                                NaN        8.75  \n",
       "4596                                                NaN        4.45  \n",
       "4597                                                NaN        1.25  \n",
       "4598                                                NaN        1.50  \n",
       "4599                                                NaN        8.75  \n",
       "4600                                                NaN        4.45  \n",
       "4601                                                NaN        1.25  \n",
       "4602                                                NaN        9.25  \n",
       "4603                                                NaN        9.25  \n",
       "4604                                                NaN        8.75  \n",
       "4605                                                NaN        4.45  \n",
       "4606                                                NaN        1.25  \n",
       "4607                                                NaN       11.75  \n",
       "4608                                                NaN       11.25  \n",
       "4609                                                NaN        1.25  \n",
       "4610                                                NaN       11.75  \n",
       "4611                                                NaN       11.25  \n",
       "4612                                                NaN        9.25  \n",
       "4613                                                NaN        2.15  \n",
       "4614                                                NaN        1.50  \n",
       "4615                                                NaN        8.75  \n",
       "4616                                                NaN        4.45  \n",
       "4617                                                NaN       11.75  \n",
       "4618                                                NaN       11.75  \n",
       "4619                                                NaN       11.25  \n",
       "4620                                                NaN        8.75  \n",
       "4621                                                NaN        8.75  \n",
       "\n",
       "[4622 rows x 5 columns]"
      ]
     },
     "execution_count": 73,
     "metadata": {},
     "output_type": "execute_result"
    }
   ],
   "source": [
    "orders"
   ]
  },
  {
   "cell_type": "code",
   "execution_count": 74,
   "metadata": {},
   "outputs": [
    {
     "data": {
      "text/plain": [
       "ORDER_ID                int64\n",
       "QUANTITY                int64\n",
       "ITEM_NAME              object\n",
       "CHOICE_DESCRIPTION     object\n",
       "ITEM_PRICE            float64\n",
       "dtype: object"
      ]
     },
     "execution_count": 74,
     "metadata": {},
     "output_type": "execute_result"
    }
   ],
   "source": [
    "orders.dtypes"
   ]
  },
  {
   "cell_type": "markdown",
   "metadata": {},
   "source": [
    "## <span style=color:green><ins>Pandas DataFrames : Selecting Multiples rows and Columns</ins></span>"
   ]
  },
  {
   "cell_type": "code",
   "execution_count": null,
   "metadata": {},
   "outputs": [],
   "source": [
    "#  -----.loc ----- este es un metodo flexible y potente\n",
    "#  fltrar filas y seleccionar columnas por etiquetas\n",
    "#  Sintax df.loc[rows, columns]"
   ]
  },
  {
   "cell_type": "code",
   "execution_count": null,
   "metadata": {},
   "outputs": [],
   "source": [
    "#  Vamos a filtrar por fila 0 y todas las columnas\n",
    "orders.loc[1, :]"
   ]
  },
  {
   "cell_type": "code",
   "execution_count": null,
   "metadata": {},
   "outputs": [],
   "source": [
    "# filas 0, 1, 2 y todas las columnas\n",
    "orders.loc[[0,10,2], :]"
   ]
  },
  {
   "cell_type": "code",
   "execution_count": null,
   "metadata": {},
   "outputs": [],
   "source": [
    "# otra opción más facil de leer con transpose() o .T\n",
    "# (orders.loc[[0,1,2], :]).transpose()\n",
    "(orders.loc[[0,10,2], :]).T"
   ]
  },
  {
   "cell_type": "code",
   "execution_count": null,
   "metadata": {},
   "outputs": [],
   "source": [
    "# Mas eficiente seria, eliminando los corchetes anidados para filtrar un rango de filas :\n",
    "orders.loc[0:5, :]"
   ]
  },
  {
   "cell_type": "code",
   "execution_count": null,
   "metadata": {},
   "outputs": [],
   "source": [
    "# Funciona si eliminamos la ',' y ':', pero al dejarlos nos clarifica y \n",
    "# simplifica la lectura del codigo\n",
    "orders.loc[0:3]"
   ]
  },
  {
   "cell_type": "code",
   "execution_count": null,
   "metadata": {},
   "outputs": [],
   "source": [
    "# todas las filas y columna 'address' : \n",
    "orders.loc[:,'ITEM_NAME']"
   ]
  },
  {
   "cell_type": "code",
   "execution_count": null,
   "metadata": {},
   "outputs": [],
   "source": [
    "# todas las filas y columna 'address' y 'street' : \n",
    "\n",
    "orders.loc[:,['ITEM_PRICE', 'QUATNITY']].head()"
   ]
  },
  {
   "cell_type": "code",
   "execution_count": null,
   "metadata": {},
   "outputs": [],
   "source": [
    "# Multiples filas y Multiples columnas\n",
    "orders.loc[0:3, ['ITEM_PRICE', 'QUANTITY']]"
   ]
  },
  {
   "cell_type": "code",
   "execution_count": null,
   "metadata": {},
   "outputs": [],
   "source": [
    "# Multiples filas y Multiples columnas\n",
    "orders.loc[[0,15,3], ['ITEM_PRICE', 'QUANTITY']]"
   ]
  },
  {
   "cell_type": "code",
   "execution_count": null,
   "metadata": {},
   "outputs": [],
   "source": [
    "# Filtrando usando item_name=='IZZE'\n",
    "orders[orders.ITEM_NAME =='IZZE']"
   ]
  },
  {
   "cell_type": "code",
   "execution_count": null,
   "metadata": {},
   "outputs": [],
   "source": [
    "# Mas facil de leer, especificando las filas y las columnas\n",
    "orders.loc[orders.ITEM_NAME =='IZZE', :]"
   ]
  },
  {
   "cell_type": "code",
   "execution_count": null,
   "metadata": {},
   "outputs": [],
   "source": [
    "# Mas facil de leer, especificando las filas y las columnas\n",
    "orders.iloc[orders.ITEM_NAME =='IZZE', :]"
   ]
  },
  {
   "cell_type": "code",
   "execution_count": null,
   "metadata": {},
   "outputs": [],
   "source": [
    "orders.iloc[:, 0:4].head() # iloc excluye 4 e incluye 0"
   ]
  },
  {
   "cell_type": "code",
   "execution_count": null,
   "metadata": {},
   "outputs": [],
   "source": [
    "orders.iloc[:, [0,4]].head() # iloc excluye 4 e incluye 0"
   ]
  },
  {
   "cell_type": "code",
   "execution_count": null,
   "metadata": {},
   "outputs": [],
   "source": [
    "# esta es la major diferencia, excluye fila 3.\n",
    "orders.iloc[0:3, :]"
   ]
  },
  {
   "cell_type": "code",
   "execution_count": null,
   "metadata": {},
   "outputs": [],
   "source": [
    "# Codigo no-explicito \n",
    "orders[['item_name', 'quantity']].head()"
   ]
  },
  {
   "cell_type": "code",
   "execution_count": null,
   "metadata": {},
   "outputs": [],
   "source": [
    "# explicito \n",
    "orders.loc[:, ['item_name', 'quantity']].head()"
   ]
  },
  {
   "cell_type": "code",
   "execution_count": null,
   "metadata": {},
   "outputs": [],
   "source": [
    "# explicito \n",
    "orders.reindex(['item_name', 'quantity']).head()"
   ]
  },
  {
   "cell_type": "code",
   "execution_count": null,
   "metadata": {},
   "outputs": [],
   "source": [
    "### Codigo ambiguo, nos referimos a filas o a columnas\n",
    "orders[0:3]"
   ]
  },
  {
   "cell_type": "code",
   "execution_count": null,
   "metadata": {},
   "outputs": [],
   "source": [
    "# Usamos iloc\n",
    "orders.iloc[0:3, 2:5]"
   ]
  },
  {
   "cell_type": "code",
   "execution_count": null,
   "metadata": {},
   "outputs": [],
   "source": [
    "orders.loc[1:4, ['item_price', 'quantity']]"
   ]
  },
  {
   "cell_type": "markdown",
   "metadata": {},
   "source": [
    "### [How to Select Rows of Pandas Dataframe Based on a list?](https://cmdlinetips.com/2018/02/how-to-subset-pandas-dataframe-based-on-values-of-a-column/)"
   ]
  },
  {
   "cell_type": "markdown",
   "metadata": {},
   "source": [
    "Selección de filas usando multiples valores presentes en un iterable o una list.\n",
    "\n",
    "Pandas dataframe’s ``isin() function`` allows us to select rows using a list or any iterable. If we use ``isin()`` with a single column, it will simply result in a boolean variable with True if the value matches and False if it does not."
   ]
  },
  {
   "cell_type": "markdown",
   "metadata": {},
   "source": [
    "## <span style=color:green><ins>Pandas DataFrames : Trabajando con fechas y hora</ins></span>"
   ]
  },
  {
   "cell_type": "code",
   "execution_count": null,
   "metadata": {},
   "outputs": [],
   "source": [
    "url1 = 'http://bit.ly/uforeports'\n",
    "ufodata = pd.read_csv(url1)"
   ]
  },
  {
   "cell_type": "code",
   "execution_count": null,
   "metadata": {},
   "outputs": [],
   "source": [
    "os.getcwd()"
   ]
  },
  {
   "cell_type": "code",
   "execution_count": null,
   "metadata": {},
   "outputs": [],
   "source": [
    "# Guardamos el dataset preprocesado\n",
    "ufodata.to_csv('uforeports.csv', sep=',', encoding='utf-8', index=False)"
   ]
  },
  {
   "cell_type": "code",
   "execution_count": null,
   "metadata": {},
   "outputs": [],
   "source": [
    "os.listdir(os.curdir)"
   ]
  },
  {
   "cell_type": "code",
   "execution_count": null,
   "metadata": {},
   "outputs": [],
   "source": [
    "ufodata = pd.read_csv('uforeports.csv', sep=',')"
   ]
  },
  {
   "cell_type": "code",
   "execution_count": null,
   "metadata": {},
   "outputs": [],
   "source": [
    "ufodata.shape"
   ]
  },
  {
   "cell_type": "code",
   "execution_count": null,
   "metadata": {},
   "outputs": [],
   "source": [
    "ufodata.head()"
   ]
  },
  {
   "cell_type": "code",
   "execution_count": null,
   "metadata": {},
   "outputs": [],
   "source": [
    "# ejemplo de como estraer la hora\n",
    "ufodata.dtypes"
   ]
  },
  {
   "cell_type": "code",
   "execution_count": null,
   "metadata": {},
   "outputs": [],
   "source": [
    "ufodata.describe()"
   ]
  },
  {
   "cell_type": "code",
   "execution_count": null,
   "metadata": {},
   "outputs": [],
   "source": [
    "# Buscamos Null values\n",
    "ufodata.isnull().sum()"
   ]
  },
  {
   "cell_type": "code",
   "execution_count": null,
   "metadata": {},
   "outputs": [],
   "source": [
    "# Buscamos Null values\n",
    "(ufodata.notnull().sum() / len(ufodata)) *100"
   ]
  },
  {
   "cell_type": "code",
   "execution_count": null,
   "metadata": {},
   "outputs": [],
   "source": [
    "len(ufodata)"
   ]
  },
  {
   "cell_type": "code",
   "execution_count": null,
   "metadata": {},
   "outputs": [],
   "source": [
    "ufodata.shape"
   ]
  },
  {
   "cell_type": "code",
   "execution_count": null,
   "metadata": {},
   "outputs": [],
   "source": [
    "ufodata.head()"
   ]
  },
  {
   "cell_type": "code",
   "execution_count": null,
   "metadata": {},
   "outputs": [],
   "source": [
    "ufodata['hora'] = ufodata.Time.str.slice(-5, -3).astype(int).head()"
   ]
  },
  {
   "cell_type": "code",
   "execution_count": null,
   "metadata": {},
   "outputs": [],
   "source": [
    "ufodata.head()"
   ]
  },
  {
   "cell_type": "code",
   "execution_count": null,
   "metadata": {},
   "outputs": [],
   "source": [
    "# Convertimos la columna 'time' to 'datatime' format\n",
    "# existen muchas opciones para asegurar que funciona bien en nuestro dataset"
   ]
  },
  {
   "cell_type": "code",
   "execution_count": null,
   "metadata": {},
   "outputs": [],
   "source": [
    "ufodata['Time'] = pd.to_datetime(ufodata.Time)\n",
    "ufodata.head()"
   ]
  },
  {
   "cell_type": "code",
   "execution_count": null,
   "metadata": {},
   "outputs": [],
   "source": [
    "ufodata.dtypes"
   ]
  },
  {
   "cell_type": "code",
   "execution_count": null,
   "metadata": {},
   "outputs": [],
   "source": [
    "# Extraer Hora\n",
    "ufodata.Time.dt.hour.head()"
   ]
  },
  {
   "cell_type": "code",
   "execution_count": null,
   "metadata": {},
   "outputs": [],
   "source": [
    "# Extrar el nombre de dia de la semana\n",
    "ufodata['dia_semana'] = ufodata.Time.dt.weekday_name.head()"
   ]
  },
  {
   "cell_type": "code",
   "execution_count": null,
   "metadata": {},
   "outputs": [],
   "source": [
    "ufodata.head()"
   ]
  },
  {
   "cell_type": "code",
   "execution_count": null,
   "metadata": {},
   "outputs": [],
   "source": [
    "# Extrar el dia de la semana numerico\n",
    "ufodata['n_dia_semana'] = ufodata.Time.dt.weekday.head()\n",
    "ufodata.head()\n"
   ]
  },
  {
   "cell_type": "code",
   "execution_count": null,
   "metadata": {},
   "outputs": [],
   "source": [
    "# Extrar el nº del dia del año que corresponde\n",
    "ufodata['Año']=ufodata.Time.dt.dayofyear.head()"
   ]
  },
  {
   "cell_type": "code",
   "execution_count": null,
   "metadata": {},
   "outputs": [],
   "source": [
    "ufodata.head()"
   ]
  },
  {
   "cell_type": "code",
   "execution_count": null,
   "metadata": {},
   "outputs": [],
   "source": [
    "# Creamos una nueva variable a partir de la variable 'Time'\n",
    "ufodata['Year'] = ufodata.Time.dt.year\n",
    "ufodata.head()"
   ]
  },
  {
   "cell_type": "code",
   "execution_count": null,
   "metadata": {},
   "outputs": [],
   "source": [
    "ufodata.shape"
   ]
  },
  {
   "cell_type": "code",
   "execution_count": null,
   "metadata": {},
   "outputs": [],
   "source": [
    "ufodata.columns"
   ]
  },
  {
   "cell_type": "code",
   "execution_count": null,
   "metadata": {},
   "outputs": [],
   "source": [
    "# var = ['Time']\n",
    "#orders_5 = ufodata.drop('Time', axis=1, inplace=True)\n",
    "ufodata1 = ufodata.drop('Time', axis=1)"
   ]
  },
  {
   "cell_type": "code",
   "execution_count": null,
   "metadata": {},
   "outputs": [],
   "source": [
    "ufodata1.shape"
   ]
  },
  {
   "cell_type": "code",
   "execution_count": null,
   "metadata": {},
   "outputs": [],
   "source": [
    "ufodata1.head()"
   ]
  },
  {
   "cell_type": "markdown",
   "metadata": {},
   "source": [
    "--------"
   ]
  }
 ],
 "metadata": {
  "kernelspec": {
   "display_name": "Python 3",
   "language": "python",
   "name": "python3"
  },
  "language_info": {
   "codemirror_mode": {
    "name": "ipython",
    "version": 3
   },
   "file_extension": ".py",
   "mimetype": "text/x-python",
   "name": "python",
   "nbconvert_exporter": "python",
   "pygments_lexer": "ipython3",
   "version": "3.7.0"
  },
  "toc": {
   "base_numbering": 1,
   "nav_menu": {},
   "number_sections": true,
   "sideBar": true,
   "skip_h1_title": false,
   "title_cell": "Table of Contents",
   "title_sidebar": "Contents",
   "toc_cell": false,
   "toc_position": {
    "height": "calc(100% - 180px)",
    "left": "10px",
    "top": "150px",
    "width": "462.802px"
   },
   "toc_section_display": true,
   "toc_window_display": true
  },
  "varInspector": {
   "cols": {
    "lenName": 16,
    "lenType": 16,
    "lenVar": 40
   },
   "kernels_config": {
    "python": {
     "delete_cmd_postfix": "",
     "delete_cmd_prefix": "del ",
     "library": "var_list.py",
     "varRefreshCmd": "print(var_dic_list())"
    },
    "r": {
     "delete_cmd_postfix": ") ",
     "delete_cmd_prefix": "rm(",
     "library": "var_list.r",
     "varRefreshCmd": "cat(var_dic_list()) "
    }
   },
   "types_to_exclude": [
    "module",
    "function",
    "builtin_function_or_method",
    "instance",
    "_Feature"
   ],
   "window_display": false
  }
 },
 "nbformat": 4,
 "nbformat_minor": 2
}
